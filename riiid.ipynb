{
 "cells": [
  {
   "cell_type": "code",
   "execution_count": 27,
   "metadata": {
    "ExecuteTime": {
     "end_time": "2021-01-04T15:43:01.299119Z",
     "start_time": "2021-01-04T15:43:01.283396Z"
    }
   },
   "outputs": [],
   "source": [
    "import pandas as pd\n",
    "import numpy as np"
   ]
  },
  {
   "cell_type": "code",
   "execution_count": 28,
   "metadata": {
    "ExecuteTime": {
     "end_time": "2021-01-04T15:43:01.361349Z",
     "start_time": "2021-01-04T15:43:01.300623Z"
    }
   },
   "outputs": [
    {
     "data": {
      "text/html": [
       "        <script type=\"text/javascript\">\n",
       "        window.PlotlyConfig = {MathJaxConfig: 'local'};\n",
       "        if (window.MathJax) {MathJax.Hub.Config({SVG: {font: \"STIX-Web\"}});}\n",
       "        if (typeof require !== 'undefined') {\n",
       "        require.undef(\"plotly\");\n",
       "        requirejs.config({\n",
       "            paths: {\n",
       "                'plotly': ['https://cdn.plot.ly/plotly-latest.min']\n",
       "            }\n",
       "        });\n",
       "        require(['plotly'], function(Plotly) {\n",
       "            window._Plotly = Plotly;\n",
       "        });\n",
       "        }\n",
       "        </script>\n",
       "        "
      ]
     },
     "metadata": {},
     "output_type": "display_data"
    }
   ],
   "source": [
    "%run \"S:\\YandexDisk\\code\\tasks\\EDA.ipynb\""
   ]
  },
  {
   "cell_type": "code",
   "execution_count": 65,
   "metadata": {
    "ExecuteTime": {
     "end_time": "2021-01-04T15:48:25.047475Z",
     "start_time": "2021-01-04T15:48:25.012994Z"
    }
   },
   "outputs": [],
   "source": [
    "%run \"S:\\YandexDisk\\code\\tasks\\Preparation.ipynb\""
   ]
  },
  {
   "cell_type": "code",
   "execution_count": 30,
   "metadata": {
    "ExecuteTime": {
     "end_time": "2021-01-04T15:43:01.406936Z",
     "start_time": "2021-01-04T15:43:01.393979Z"
    }
   },
   "outputs": [],
   "source": [
    "%run \"S:\\YandexDisk\\code\\tasks\\Cleaning.ipynb\""
   ]
  },
  {
   "cell_type": "code",
   "execution_count": 31,
   "metadata": {
    "ExecuteTime": {
     "end_time": "2021-01-04T15:43:01.437885Z",
     "start_time": "2021-01-04T15:43:01.407934Z"
    }
   },
   "outputs": [],
   "source": [
    "%run \"S:\\YandexDisk\\code\\tasks\\Models.ipynb\""
   ]
  },
  {
   "cell_type": "code",
   "execution_count": 32,
   "metadata": {
    "ExecuteTime": {
     "end_time": "2021-01-04T15:43:01.484728Z",
     "start_time": "2021-01-04T15:43:01.438884Z"
    }
   },
   "outputs": [],
   "source": [
    "%run \"S:\\YandexDisk\\code\\tasks\\Selection.ipynb\""
   ]
  },
  {
   "cell_type": "code",
   "execution_count": 33,
   "metadata": {
    "ExecuteTime": {
     "end_time": "2021-01-04T15:43:01.499687Z",
     "start_time": "2021-01-04T15:43:01.485726Z"
    }
   },
   "outputs": [],
   "source": [
    "%run \"S:\\YandexDisk\\code\\tasks\\Tools.ipynb\""
   ]
  },
  {
   "cell_type": "code",
   "execution_count": 34,
   "metadata": {
    "ExecuteTime": {
     "end_time": "2021-01-04T15:43:01.514647Z",
     "start_time": "2021-01-04T15:43:01.501682Z"
    },
    "run_control": {
     "marked": false
    }
   },
   "outputs": [],
   "source": [
    "# user_ids = pd.read_csv('train.csv', chunksize=100000, usecols=['user_id'], low_memory=False)\n",
    "\n",
    "# user_counts = None\n",
    "# for chunk in user_ids:\n",
    "#     if user_counts is None:\n",
    "#         user_counts = chunk.user_id.value_counts()\n",
    "#     else:\n",
    "#         user_counts = user_counts.add(chunk.user_id.value_counts(), fill_value=0)\n",
    "\n",
    "# user_counts = user_counts.to_dict()"
   ]
  },
  {
   "cell_type": "code",
   "execution_count": 35,
   "metadata": {
    "ExecuteTime": {
     "end_time": "2021-01-04T15:43:01.530604Z",
     "start_time": "2021-01-04T15:43:01.515644Z"
    }
   },
   "outputs": [],
   "source": [
    "dtypes = {\n",
    "#     'row_id': 'int64',\n",
    "    'timestamp': 'int64',\n",
    "    'user_id': 'int32',\n",
    "    'content_id': 'int16',\n",
    "#     'task_container_id': 'int16',\n",
    "    'content_type_id': 'int8',\n",
    "    'answered_correctly': 'int8',\n",
    "    'prior_question_elapsed_time': 'float64',\n",
    "    'prior_question_had_explanation': 'float32',\n",
    "}"
   ]
  },
  {
   "cell_type": "code",
   "execution_count": 36,
   "metadata": {
    "ExecuteTime": {
     "end_time": "2021-01-04T15:43:01.625353Z",
     "start_time": "2021-01-04T15:43:01.531635Z"
    }
   },
   "outputs": [],
   "source": [
    "raw_train = pd.read_csv('train.csv',\n",
    "                        nrows=100000,                        \n",
    "                        dtype=dtypes,\n",
    "                        usecols=dtypes.keys(),\n",
    "                       low_memory=False)"
   ]
  },
  {
   "cell_type": "code",
   "execution_count": 37,
   "metadata": {
    "ExecuteTime": {
     "end_time": "2021-01-04T15:43:01.655271Z",
     "start_time": "2021-01-04T15:43:01.626350Z"
    }
   },
   "outputs": [
    {
     "name": "stderr",
     "output_type": "stream",
     "text": [
      "100%|██████████████████████████████████████████████████████████████████████████████████| 4/4 [00:00<00:00, 2039.04it/s]\n"
     ]
    },
    {
     "name": "stdout",
     "output_type": "stream",
     "text": [
      "Mem. usage decreased to  0.01 Mb (58.8% reduction)\n"
     ]
    }
   ],
   "source": [
    "raw_lectures = pd.read_csv('lectures.csv')\n",
    "reduce_mem_usage(raw_lectures)"
   ]
  },
  {
   "cell_type": "code",
   "execution_count": 38,
   "metadata": {
    "ExecuteTime": {
     "end_time": "2021-01-04T15:43:01.686223Z",
     "start_time": "2021-01-04T15:43:01.656269Z"
    }
   },
   "outputs": [
    {
     "name": "stderr",
     "output_type": "stream",
     "text": [
      "100%|██████████████████████████████████████████████████████████████████████████████████| 5/5 [00:00<00:00, 2506.46it/s]\n"
     ]
    },
    {
     "name": "stdout",
     "output_type": "stream",
     "text": [
      "Mem. usage decreased to  0.18 Mb (65.0% reduction)\n"
     ]
    }
   ],
   "source": [
    "raw_questions = pd.read_csv('questions.csv')\n",
    "reduce_mem_usage(raw_questions)"
   ]
  },
  {
   "cell_type": "code",
   "execution_count": 39,
   "metadata": {
    "ExecuteTime": {
     "end_time": "2021-01-04T15:43:01.701183Z",
     "start_time": "2021-01-04T15:43:01.687218Z"
    }
   },
   "outputs": [],
   "source": [
    "raw_lectures['type_of'] = raw_lectures['type_of'].replace(\n",
    "    'solving question', 'solving_question')"
   ]
  },
  {
   "cell_type": "code",
   "execution_count": 40,
   "metadata": {
    "ExecuteTime": {
     "end_time": "2021-01-04T15:43:07.589720Z",
     "start_time": "2021-01-04T15:43:01.703150Z"
    }
   },
   "outputs": [],
   "source": [
    "questions = pd.get_dummies(raw_questions.fillna('-1'), columns=['part'],\n",
    "                           dtype='int8')\n",
    "lectures = pd.get_dummies(raw_lectures, columns=['tag', 'part', 'type_of',],\n",
    "                          dtype='int8')\n",
    "\n",
    "for k in range(188):\n",
    "    questions['tag_'+str(k)] = np.int8(0)\n",
    "    \n",
    "for i in questions.index:\n",
    "    for tag in questions.loc[i, 'tags'].split():\n",
    "        if tag != '-1':\n",
    "            questions.loc[i, 'tag_'+tag] = 1\n",
    "questions.drop(columns='tags', inplace=True)"
   ]
  },
  {
   "cell_type": "code",
   "execution_count": 41,
   "metadata": {
    "ExecuteTime": {
     "end_time": "2021-01-04T15:43:07.605255Z",
     "start_time": "2021-01-04T15:43:07.590721Z"
    }
   },
   "outputs": [],
   "source": [
    "part_columns = [column for column in lectures.columns if column.startswith('part_')]\n",
    "tag_l_columns = [column for column in lectures.columns if column.startswith('tag_')]\n",
    "tag_q_columns = [column for column in questions.columns if column.startswith('tag_')]\n",
    "types_of_columns = [column for column in lectures.columns if column.startswith('type_of_')]"
   ]
  },
  {
   "cell_type": "code",
   "execution_count": 42,
   "metadata": {
    "ExecuteTime": {
     "end_time": "2021-01-04T15:43:07.747387Z",
     "start_time": "2021-01-04T15:43:07.607251Z"
    },
    "run_control": {
     "marked": false
    }
   },
   "outputs": [
    {
     "name": "stderr",
     "output_type": "stream",
     "text": [
      "100%|██████████████████████████████████████████████████████████████████████████████| 198/198 [00:00<00:00, 5219.98it/s]\n"
     ]
    },
    {
     "name": "stdout",
     "output_type": "stream",
     "text": [
      "Mem. usage decreased to  2.58 Mb (0.0% reduction)\n"
     ]
    },
    {
     "name": "stderr",
     "output_type": "stream",
     "text": [
      "100%|██████████████████████████████████████████████████████████████████████████████| 163/163 [00:00<00:00, 5830.59it/s]\n"
     ]
    },
    {
     "name": "stdout",
     "output_type": "stream",
     "text": [
      "Mem. usage decreased to  0.07 Mb (0.0% reduction)\n"
     ]
    }
   ],
   "source": [
    "reduce_mem_usage(questions)\n",
    "reduce_mem_usage(lectures)"
   ]
  },
  {
   "cell_type": "code",
   "execution_count": 43,
   "metadata": {
    "ExecuteTime": {
     "end_time": "2021-01-04T15:43:10.878487Z",
     "start_time": "2021-01-04T15:43:07.748383Z"
    }
   },
   "outputs": [],
   "source": [
    "train_l = raw_train.loc[raw_train.content_type_id == 1].merge(\n",
    "    lectures, how='left', left_on='content_id',\n",
    "    right_on='lecture_id').drop(columns=['lecture_id'])\n",
    "\n",
    "train = pd.concat([raw_train.loc[raw_train.content_type_id == 0], train_l\n",
    "                   ]).sort_values(['timestamp', 'content_id'],\n",
    "                                  ascending=True).reset_index(drop=True).drop(columns=['timestamp'])\n",
    "\n",
    "train[types_of_columns] = train[types_of_columns].fillna(0).astype('int16')\n",
    "train[tag_l_columns] = train[tag_l_columns].fillna(0).astype('int8')\n",
    "train[part_columns] = train[part_columns].fillna(0).astype('int8')\n",
    "del train_l"
   ]
  },
  {
   "cell_type": "code",
   "execution_count": 45,
   "metadata": {
    "ExecuteTime": {
     "end_time": "2021-01-04T15:43:51.611731Z",
     "start_time": "2021-01-04T15:43:51.390818Z"
    }
   },
   "outputs": [
    {
     "name": "stderr",
     "output_type": "stream",
     "text": [
      "100%|████████████████████████████████████████████████████████████████████████████████████| 7/7 [00:00<00:00, 43.04it/s]\n"
     ]
    }
   ],
   "source": [
    "for col in tqdm(part_columns):\n",
    "    train[[\n",
    "        f'{col}_sum_concept', f'{col}_sum_intention',\n",
    "        f'{col}_sum_solving_question', f'{col}_sum_starter'\n",
    "    ]] = train.loc[train[col] == 1, types_of_columns + ['user_id']].groupby(\n",
    "        'user_id', sort=False).cumsum()\n",
    "\n",
    "train.drop(columns=part_columns, inplace=True)"
   ]
  },
  {
   "cell_type": "code",
   "execution_count": 46,
   "metadata": {
    "ExecuteTime": {
     "end_time": "2021-01-04T15:44:15.508924Z",
     "start_time": "2021-01-04T15:43:51.769096Z"
    },
    "code_folding": [],
    "run_control": {
     "marked": false
    },
    "scrolled": true
   },
   "outputs": [
    {
     "name": "stderr",
     "output_type": "stream",
     "text": [
      "100%|████████████████████████████████████████████████████████████████████████████████| 151/151 [00:23<00:00,  6.42it/s]\n"
     ]
    }
   ],
   "source": [
    "for col in tqdm(tag_l_columns):\n",
    "    if (train[col] == 0).all():\n",
    "        train[[\n",
    "            f'{col}_sum_concept', f'{col}_sum_intention',\n",
    "            f'{col}_sum_solving_question', f'{col}_sum_starter'\n",
    "        ]] = 0\n",
    "    else:\n",
    "        train[[\n",
    "            f'{col}_sum_concept', f'{col}_sum_intention',\n",
    "            f'{col}_sum_solving_question', f'{col}_sum_starter'\n",
    "        ]] = train.loc[train[col] == 1,\n",
    "                       ['user_id'] + types_of_columns].groupby(\n",
    "                           'user_id', sort=False).cumsum()\n",
    "\n",
    "train.drop(columns=tag_l_columns + types_of_columns, inplace=True)"
   ]
  },
  {
   "cell_type": "code",
   "execution_count": 47,
   "metadata": {
    "ExecuteTime": {
     "end_time": "2021-01-04T15:44:15.523652Z",
     "start_time": "2021-01-04T15:44:15.511865Z"
    }
   },
   "outputs": [],
   "source": [
    "exp_columns = [column for column in train.columns if (column.startswith('part_') or column.startswith('tag_'))]"
   ]
  },
  {
   "cell_type": "code",
   "execution_count": 48,
   "metadata": {
    "ExecuteTime": {
     "end_time": "2021-01-04T15:44:53.517246Z",
     "start_time": "2021-01-04T15:44:15.525639Z"
    },
    "run_control": {
     "marked": false
    }
   },
   "outputs": [],
   "source": [
    "train[exp_columns] = train[['user_id']+exp_columns].groupby('user_id', sort=False).ffill()\n",
    "train[exp_columns] = train[exp_columns].fillna(0).astype('int16')"
   ]
  },
  {
   "cell_type": "code",
   "execution_count": 49,
   "metadata": {
    "ExecuteTime": {
     "end_time": "2021-01-04T15:44:54.190017Z",
     "start_time": "2021-01-04T15:44:53.518246Z"
    }
   },
   "outputs": [],
   "source": [
    "train = train.loc[train.content_type_id == 0].merge(\n",
    "    questions, how='left', left_on='content_id',\n",
    "    right_on='question_id').reset_index(drop=True).drop(\n",
    "            columns=['question_id', 'content_type_id', 'correct_answer'])"
   ]
  },
  {
   "cell_type": "code",
   "execution_count": 50,
   "metadata": {
    "ExecuteTime": {
     "end_time": "2021-01-04T15:44:54.266044Z",
     "start_time": "2021-01-04T15:44:54.191017Z"
    }
   },
   "outputs": [],
   "source": [
    "train[part_columns+tag_q_columns] = train[part_columns+tag_q_columns].fillna(0).astype('int8')"
   ]
  },
  {
   "cell_type": "code",
   "execution_count": 51,
   "metadata": {
    "ExecuteTime": {
     "end_time": "2021-01-04T15:44:54.311027Z",
     "start_time": "2021-01-04T15:44:54.267045Z"
    }
   },
   "outputs": [],
   "source": [
    "train[['current_question_elapsed_time',\n",
    "       'current_question_had_explanation']] = train[['user_id', 'bundle_id', 'prior_question_elapsed_time',\n",
    "           'prior_question_had_explanation'\n",
    "       ]].groupby(['user_id', 'bundle_id'], sort=False)[['user_id', 'prior_question_elapsed_time',\n",
    "           'prior_question_had_explanation']].tail(1).groupby('user_id', sort=False).shift(-1)"
   ]
  },
  {
   "cell_type": "code",
   "execution_count": 52,
   "metadata": {
    "ExecuteTime": {
     "end_time": "2021-01-04T15:44:54.342187Z",
     "start_time": "2021-01-04T15:44:54.312025Z"
    }
   },
   "outputs": [],
   "source": [
    "train[['current_question_elapsed_time',\n",
    "       'current_question_had_explanation']] = train[[\n",
    "           'user_id', 'current_question_elapsed_time',\n",
    "           'current_question_had_explanation'\n",
    "       ]].groupby('user_id', sort=False).bfill()"
   ]
  },
  {
   "cell_type": "code",
   "execution_count": 53,
   "metadata": {
    "ExecuteTime": {
     "end_time": "2021-01-04T15:44:54.358112Z",
     "start_time": "2021-01-04T15:44:54.344148Z"
    },
    "run_control": {
     "marked": false
    }
   },
   "outputs": [],
   "source": [
    "q_stats = train[[\n",
    "    'content_id', 'answered_correctly', 'current_question_elapsed_time',\n",
    "    'current_question_had_explanation'\n",
    "]].groupby('content_id').mean()\n",
    "\n",
    "q_stats.columns = ['q_mean_answer', 'q_mean_time', 'q_mean_explain']"
   ]
  },
  {
   "cell_type": "code",
   "execution_count": 54,
   "metadata": {
    "ExecuteTime": {
     "end_time": "2021-01-04T15:44:56.588245Z",
     "start_time": "2021-01-04T15:44:54.359109Z"
    },
    "run_control": {
     "marked": false
    }
   },
   "outputs": [
    {
     "name": "stderr",
     "output_type": "stream",
     "text": [
      "100%|████████████████████████████████████████████████████████████████████████████████████| 7/7 [00:02<00:00,  3.15it/s]\n"
     ]
    }
   ],
   "source": [
    "for col in tqdm(part_columns):\n",
    "    train[[\n",
    "        #         f'{col}_mean_answer',\n",
    "        f'{col}_mean_time',\n",
    "        f'{col}_mean_explain'\n",
    "    ]] = train.loc[train[col] == 1, [\n",
    "        'user_id',\n",
    "        #         'answered_correctly',\n",
    "        'current_question_elapsed_time',\n",
    "        'current_question_had_explanation'\n",
    "    ]].groupby('user_id', sort=False)[[\n",
    "        #         'answered_correctly',\n",
    "        'current_question_elapsed_time',\n",
    "        'current_question_had_explanation'\n",
    "    ]].expanding().mean().groupby('user_id', sort=False).shift().reset_index(\n",
    "        level=0, drop=True)"
   ]
  },
  {
   "cell_type": "code",
   "execution_count": 55,
   "metadata": {
    "ExecuteTime": {
     "end_time": "2021-01-04T15:45:39.808081Z",
     "start_time": "2021-01-04T15:44:56.589196Z"
    },
    "scrolled": true
   },
   "outputs": [
    {
     "name": "stderr",
     "output_type": "stream",
     "text": [
      "100%|████████████████████████████████████████████████████████████████████████████████| 188/188 [00:42<00:00,  4.38it/s]\n"
     ]
    }
   ],
   "source": [
    "for col in tqdm(tag_q_columns):\n",
    "    if (train[col] == 0).all():\n",
    "        train[[\n",
    "            #         f'{col}_mean_answer',\n",
    "            f'{col}_mean_time',\n",
    "            f'{col}_mean_explain'\n",
    "        ]] = 0\n",
    "    else:\n",
    "        train[[\n",
    "            #         f'{col}_mean_answer',\n",
    "            f'{col}_mean_time',\n",
    "            f'{col}_mean_explain'\n",
    "        ]] = train.loc[train[col] == 1, [\n",
    "            'user_id',\n",
    "            #         'answered_correctly',\n",
    "            'current_question_elapsed_time',\n",
    "            'current_question_had_explanation'\n",
    "        ]].groupby('user_id', sort=False)[[\n",
    "            #         'answered_correctly',\n",
    "            'current_question_elapsed_time',\n",
    "            'current_question_had_explanation'\n",
    "        ]].expanding().mean().groupby('user_id',\n",
    "                                      sort=False).shift().reset_index(\n",
    "                                          level=0, drop=True)\n",
    "\n",
    "train.drop(columns=[\n",
    "    'current_question_elapsed_time', 'current_question_had_explanation'\n",
    "],\n",
    "           inplace=True)"
   ]
  },
  {
   "cell_type": "code",
   "execution_count": 56,
   "metadata": {
    "ExecuteTime": {
     "end_time": "2021-01-04T15:45:39.823283Z",
     "start_time": "2021-01-04T15:45:39.810081Z"
    }
   },
   "outputs": [],
   "source": [
    "exp_columns = [column for column in train.columns if (column.startswith('part_') or column.startswith('tag_'))]\n",
    "exp_columns = list(set(exp_columns) - set(part_columns) - set(tag_q_columns))"
   ]
  },
  {
   "cell_type": "code",
   "execution_count": 57,
   "metadata": {
    "ExecuteTime": {
     "end_time": "2021-01-04T15:45:46.519045Z",
     "start_time": "2021-01-04T15:45:39.823889Z"
    },
    "run_control": {
     "marked": false
    }
   },
   "outputs": [],
   "source": [
    "train[exp_columns] = train[['user_id']+exp_columns].groupby('user_id', sort=False).ffill()\n",
    "train[exp_columns] = train[exp_columns].fillna(0)"
   ]
  },
  {
   "cell_type": "code",
   "execution_count": 58,
   "metadata": {
    "ExecuteTime": {
     "end_time": "2021-01-04T15:45:46.692414Z",
     "start_time": "2021-01-04T15:45:46.519881Z"
    }
   },
   "outputs": [],
   "source": [
    "train = train.merge(q_stats, how='left', left_on='content_id', right_index=True)"
   ]
  },
  {
   "cell_type": "code",
   "execution_count": 59,
   "metadata": {
    "ExecuteTime": {
     "end_time": "2021-01-04T15:45:46.769304Z",
     "start_time": "2021-01-04T15:45:46.693343Z"
    }
   },
   "outputs": [],
   "source": [
    "train.fillna(0, inplace=True)"
   ]
  },
  {
   "cell_type": "code",
   "execution_count": 60,
   "metadata": {
    "ExecuteTime": {
     "end_time": "2021-01-04T15:46:12.951025Z",
     "start_time": "2021-01-04T15:45:46.770249Z"
    }
   },
   "outputs": [
    {
     "name": "stderr",
     "output_type": "stream",
     "text": [
      "100%|██████████████████████████████████████████████████████████████████████████████| 1226/1226 [00:26<00:00, 47.08it/s]\n"
     ]
    },
    {
     "name": "stdout",
     "output_type": "stream",
     "text": [
      "Mem. usage decreased to 190.83 Mb (55.9% reduction)\n"
     ]
    }
   ],
   "source": [
    "reduce_mem_usage(train)"
   ]
  },
  {
   "cell_type": "code",
   "execution_count": 62,
   "metadata": {
    "ExecuteTime": {
     "end_time": "2021-01-04T15:46:29.427296Z",
     "start_time": "2021-01-04T15:46:29.226614Z"
    }
   },
   "outputs": [],
   "source": [
    "X = train.drop(columns=[\n",
    "    'user_id',\n",
    "#     'content_id',\n",
    "#         'bundle_id',\n",
    "    'answered_correctly'])\n",
    "y = train.answered_correctly"
   ]
  },
  {
   "cell_type": "code",
   "execution_count": 66,
   "metadata": {
    "ExecuteTime": {
     "end_time": "2021-01-04T15:52:17.423455Z",
     "start_time": "2021-01-04T15:48:33.591640Z"
    }
   },
   "outputs": [
    {
     "name": "stderr",
     "output_type": "stream",
     "text": [
      "100%|██████████████████████████████████████████████████████████████████████████████| 1224/1224 [02:33<00:00,  7.99it/s]\n",
      "100%|██████████████████████████████████████████████████████████████████████████████| 1224/1224 [01:10<00:00, 17.37it/s]\n"
     ]
    },
    {
     "name": "stdout",
     "output_type": "stream",
     "text": [
      "Mem. usage decreased to 233.34 Mb (68.2% reduction)\n"
     ]
    }
   ],
   "source": [
    "X_minmax = scale_it(X, X.columns, 'minmax')\n",
    "reduce_mem_usage(X_minmax)"
   ]
  },
  {
   "cell_type": "code",
   "execution_count": 67,
   "metadata": {
    "ExecuteTime": {
     "end_time": "2021-01-04T15:53:21.456464Z",
     "start_time": "2021-01-04T15:53:21.446880Z"
    }
   },
   "outputs": [],
   "source": [
    "mm = Lin_Clf(['log', 'lsvm'])"
   ]
  },
  {
   "cell_type": "code",
   "execution_count": 68,
   "metadata": {
    "ExecuteTime": {
     "end_time": "2021-01-04T15:55:04.977732Z",
     "start_time": "2021-01-04T15:53:34.953657Z"
    }
   },
   "outputs": [
    {
     "name": "stderr",
     "output_type": "stream",
     "text": [
      "\r",
      "  0%|                                                                                            | 0/2 [00:00<?, ?it/s]"
     ]
    },
    {
     "name": "stdout",
     "output_type": "stream",
     "text": [
      "log validated in 62.375394105911255\n"
     ]
    },
    {
     "name": "stderr",
     "output_type": "stream",
     "text": [
      "\r",
      "Validate log:  50%|████████████████████████████▌                            | 1/2 [01:02<01:02, 62.38s/it, score=0.808]"
     ]
    },
    {
     "name": "stdout",
     "output_type": "stream",
     "text": [
      "lsvm validated in 27.61081552505493\n"
     ]
    },
    {
     "name": "stderr",
     "output_type": "stream",
     "text": [
      "Validate lsvm: 100%|████████████████████████████████████████████████████████| 2/2 [01:29<00:00, 45.00s/it, score=0.766]\n"
     ]
    },
    {
     "data": {
      "text/plain": [
       "log     0.8079\n",
       "lsvm    0.7660\n",
       "Name: val_scores, dtype: float64"
      ]
     },
     "execution_count": 68,
     "metadata": {},
     "output_type": "execute_result"
    }
   ],
   "source": [
    "mm.val(X_minmax, y)"
   ]
  },
  {
   "cell_type": "code",
   "execution_count": 69,
   "metadata": {
    "ExecuteTime": {
     "end_time": "2021-01-04T15:56:36.701246Z",
     "start_time": "2021-01-04T15:56:36.679306Z"
    }
   },
   "outputs": [],
   "source": [
    "bo = BO_Clf(X_minmax, y)"
   ]
  },
  {
   "cell_type": "code",
   "execution_count": 70,
   "metadata": {
    "ExecuteTime": {
     "end_time": "2021-01-04T16:07:46.254528Z",
     "start_time": "2021-01-04T15:56:55.479621Z"
    }
   },
   "outputs": [
    {
     "name": "stderr",
     "output_type": "stream",
     "text": [
      "[WARNING 01-04 17:56:55] ax.service.ax_client: Random seed set to 13. Note that this setting only affects the Sobol quasi-random generator and BoTorch-powered Bayesian optimization models. For the latter models, setting random seed to the same number for two optimizations will make the generated trials similar, but not exactly the same, and over time the trials will diverge more.\n",
      "[INFO 01-04 17:56:55] ax.modelbridge.dispatch_utils: Using Bayesian Optimization generation strategy: GenerationStrategy(name='Sobol+GPEI', steps=[Sobol for 10 trials, GPEI for subsequent trials]). Iterations after 10 will take longer to generate due to  model-fitting.\n",
      "Optimize lgbm:  10%|█████▎                                               | 5/50 [10:50<1:37:36, 130.14s/it, best=0.813]\n"
     ]
    },
    {
     "ename": "KeyboardInterrupt",
     "evalue": "",
     "output_type": "error",
     "traceback": [
      "\u001b[1;31m---------------------------------------------------------------------------\u001b[0m",
      "\u001b[1;31mKeyboardInterrupt\u001b[0m                         Traceback (most recent call last)",
      "\u001b[1;32m<ipython-input-70-b12c565a2b47>\u001b[0m in \u001b[0;36m<module>\u001b[1;34m\u001b[0m\n\u001b[1;32m----> 1\u001b[1;33m \u001b[0mbo\u001b[0m\u001b[1;33m.\u001b[0m\u001b[0mfit\u001b[0m\u001b[1;33m(\u001b[0m\u001b[1;34m'lgbm'\u001b[0m\u001b[1;33m,\u001b[0m \u001b[1;36m50\u001b[0m\u001b[1;33m)\u001b[0m\u001b[1;33m\u001b[0m\u001b[1;33m\u001b[0m\u001b[0m\n\u001b[0m",
      "\u001b[1;32m<ipython-input-32-23f01675c8d1>\u001b[0m in \u001b[0;36mfit\u001b[1;34m(self, method, n_iter)\u001b[0m\n\u001b[0;32m     44\u001b[0m                 \u001b[0mparameters\u001b[0m\u001b[1;33m,\u001b[0m \u001b[0mtrial_index\u001b[0m \u001b[1;33m=\u001b[0m \u001b[0mclient\u001b[0m\u001b[1;33m.\u001b[0m\u001b[0mget_next_trial\u001b[0m\u001b[1;33m(\u001b[0m\u001b[1;33m)\u001b[0m\u001b[1;33m\u001b[0m\u001b[1;33m\u001b[0m\u001b[0m\n\u001b[0;32m     45\u001b[0m                 client.complete_trial(trial_index=trial_index,\n\u001b[1;32m---> 46\u001b[1;33m                                       raw_data=self._func(method, parameters))\n\u001b[0m\u001b[0;32m     47\u001b[0m                 pb.set_postfix(\n\u001b[0;32m     48\u001b[0m                     best=client.get_best_parameters()[1][0][self.metric_alias])\n",
      "\u001b[1;32m<ipython-input-32-23f01675c8d1>\u001b[0m in \u001b[0;36m_func\u001b[1;34m(self, method, params)\u001b[0m\n\u001b[0;32m     18\u001b[0m                 **params)\n\u001b[0;32m     19\u001b[0m \u001b[1;33m\u001b[0m\u001b[0m\n\u001b[1;32m---> 20\u001b[1;33m         cv = cross_val_score(estimator,\n\u001b[0m\u001b[0;32m     21\u001b[0m                              \u001b[0mX\u001b[0m\u001b[1;33m=\u001b[0m\u001b[0mself\u001b[0m\u001b[1;33m.\u001b[0m\u001b[0mX\u001b[0m\u001b[1;33m,\u001b[0m\u001b[1;33m\u001b[0m\u001b[1;33m\u001b[0m\u001b[0m\n\u001b[0;32m     22\u001b[0m                              \u001b[0my\u001b[0m\u001b[1;33m=\u001b[0m\u001b[0mself\u001b[0m\u001b[1;33m.\u001b[0m\u001b[0my\u001b[0m\u001b[1;33m,\u001b[0m\u001b[1;33m\u001b[0m\u001b[1;33m\u001b[0m\u001b[0m\n",
      "\u001b[1;32m~\\anaconda3\\lib\\site-packages\\sklearn\\utils\\validation.py\u001b[0m in \u001b[0;36minner_f\u001b[1;34m(*args, **kwargs)\u001b[0m\n\u001b[0;32m     70\u001b[0m                           FutureWarning)\n\u001b[0;32m     71\u001b[0m         \u001b[0mkwargs\u001b[0m\u001b[1;33m.\u001b[0m\u001b[0mupdate\u001b[0m\u001b[1;33m(\u001b[0m\u001b[1;33m{\u001b[0m\u001b[0mk\u001b[0m\u001b[1;33m:\u001b[0m \u001b[0marg\u001b[0m \u001b[1;32mfor\u001b[0m \u001b[0mk\u001b[0m\u001b[1;33m,\u001b[0m \u001b[0marg\u001b[0m \u001b[1;32min\u001b[0m \u001b[0mzip\u001b[0m\u001b[1;33m(\u001b[0m\u001b[0msig\u001b[0m\u001b[1;33m.\u001b[0m\u001b[0mparameters\u001b[0m\u001b[1;33m,\u001b[0m \u001b[0margs\u001b[0m\u001b[1;33m)\u001b[0m\u001b[1;33m}\u001b[0m\u001b[1;33m)\u001b[0m\u001b[1;33m\u001b[0m\u001b[1;33m\u001b[0m\u001b[0m\n\u001b[1;32m---> 72\u001b[1;33m         \u001b[1;32mreturn\u001b[0m \u001b[0mf\u001b[0m\u001b[1;33m(\u001b[0m\u001b[1;33m**\u001b[0m\u001b[0mkwargs\u001b[0m\u001b[1;33m)\u001b[0m\u001b[1;33m\u001b[0m\u001b[1;33m\u001b[0m\u001b[0m\n\u001b[0m\u001b[0;32m     73\u001b[0m     \u001b[1;32mreturn\u001b[0m \u001b[0minner_f\u001b[0m\u001b[1;33m\u001b[0m\u001b[1;33m\u001b[0m\u001b[0m\n\u001b[0;32m     74\u001b[0m \u001b[1;33m\u001b[0m\u001b[0m\n",
      "\u001b[1;32m~\\anaconda3\\lib\\site-packages\\sklearn\\model_selection\\_validation.py\u001b[0m in \u001b[0;36mcross_val_score\u001b[1;34m(estimator, X, y, groups, scoring, cv, n_jobs, verbose, fit_params, pre_dispatch, error_score)\u001b[0m\n\u001b[0;32m    399\u001b[0m     \u001b[0mscorer\u001b[0m \u001b[1;33m=\u001b[0m \u001b[0mcheck_scoring\u001b[0m\u001b[1;33m(\u001b[0m\u001b[0mestimator\u001b[0m\u001b[1;33m,\u001b[0m \u001b[0mscoring\u001b[0m\u001b[1;33m=\u001b[0m\u001b[0mscoring\u001b[0m\u001b[1;33m)\u001b[0m\u001b[1;33m\u001b[0m\u001b[1;33m\u001b[0m\u001b[0m\n\u001b[0;32m    400\u001b[0m \u001b[1;33m\u001b[0m\u001b[0m\n\u001b[1;32m--> 401\u001b[1;33m     cv_results = cross_validate(estimator=estimator, X=X, y=y, groups=groups,\n\u001b[0m\u001b[0;32m    402\u001b[0m                                 \u001b[0mscoring\u001b[0m\u001b[1;33m=\u001b[0m\u001b[1;33m{\u001b[0m\u001b[1;34m'score'\u001b[0m\u001b[1;33m:\u001b[0m \u001b[0mscorer\u001b[0m\u001b[1;33m}\u001b[0m\u001b[1;33m,\u001b[0m \u001b[0mcv\u001b[0m\u001b[1;33m=\u001b[0m\u001b[0mcv\u001b[0m\u001b[1;33m,\u001b[0m\u001b[1;33m\u001b[0m\u001b[1;33m\u001b[0m\u001b[0m\n\u001b[0;32m    403\u001b[0m                                 \u001b[0mn_jobs\u001b[0m\u001b[1;33m=\u001b[0m\u001b[0mn_jobs\u001b[0m\u001b[1;33m,\u001b[0m \u001b[0mverbose\u001b[0m\u001b[1;33m=\u001b[0m\u001b[0mverbose\u001b[0m\u001b[1;33m,\u001b[0m\u001b[1;33m\u001b[0m\u001b[1;33m\u001b[0m\u001b[0m\n",
      "\u001b[1;32m~\\anaconda3\\lib\\site-packages\\sklearn\\utils\\validation.py\u001b[0m in \u001b[0;36minner_f\u001b[1;34m(*args, **kwargs)\u001b[0m\n\u001b[0;32m     70\u001b[0m                           FutureWarning)\n\u001b[0;32m     71\u001b[0m         \u001b[0mkwargs\u001b[0m\u001b[1;33m.\u001b[0m\u001b[0mupdate\u001b[0m\u001b[1;33m(\u001b[0m\u001b[1;33m{\u001b[0m\u001b[0mk\u001b[0m\u001b[1;33m:\u001b[0m \u001b[0marg\u001b[0m \u001b[1;32mfor\u001b[0m \u001b[0mk\u001b[0m\u001b[1;33m,\u001b[0m \u001b[0marg\u001b[0m \u001b[1;32min\u001b[0m \u001b[0mzip\u001b[0m\u001b[1;33m(\u001b[0m\u001b[0msig\u001b[0m\u001b[1;33m.\u001b[0m\u001b[0mparameters\u001b[0m\u001b[1;33m,\u001b[0m \u001b[0margs\u001b[0m\u001b[1;33m)\u001b[0m\u001b[1;33m}\u001b[0m\u001b[1;33m)\u001b[0m\u001b[1;33m\u001b[0m\u001b[1;33m\u001b[0m\u001b[0m\n\u001b[1;32m---> 72\u001b[1;33m         \u001b[1;32mreturn\u001b[0m \u001b[0mf\u001b[0m\u001b[1;33m(\u001b[0m\u001b[1;33m**\u001b[0m\u001b[0mkwargs\u001b[0m\u001b[1;33m)\u001b[0m\u001b[1;33m\u001b[0m\u001b[1;33m\u001b[0m\u001b[0m\n\u001b[0m\u001b[0;32m     73\u001b[0m     \u001b[1;32mreturn\u001b[0m \u001b[0minner_f\u001b[0m\u001b[1;33m\u001b[0m\u001b[1;33m\u001b[0m\u001b[0m\n\u001b[0;32m     74\u001b[0m \u001b[1;33m\u001b[0m\u001b[0m\n",
      "\u001b[1;32m~\\anaconda3\\lib\\site-packages\\sklearn\\model_selection\\_validation.py\u001b[0m in \u001b[0;36mcross_validate\u001b[1;34m(estimator, X, y, groups, scoring, cv, n_jobs, verbose, fit_params, pre_dispatch, return_train_score, return_estimator, error_score)\u001b[0m\n\u001b[0;32m    240\u001b[0m     parallel = Parallel(n_jobs=n_jobs, verbose=verbose,\n\u001b[0;32m    241\u001b[0m                         pre_dispatch=pre_dispatch)\n\u001b[1;32m--> 242\u001b[1;33m     scores = parallel(\n\u001b[0m\u001b[0;32m    243\u001b[0m         delayed(_fit_and_score)(\n\u001b[0;32m    244\u001b[0m             \u001b[0mclone\u001b[0m\u001b[1;33m(\u001b[0m\u001b[0mestimator\u001b[0m\u001b[1;33m)\u001b[0m\u001b[1;33m,\u001b[0m \u001b[0mX\u001b[0m\u001b[1;33m,\u001b[0m \u001b[0my\u001b[0m\u001b[1;33m,\u001b[0m \u001b[0mscorers\u001b[0m\u001b[1;33m,\u001b[0m \u001b[0mtrain\u001b[0m\u001b[1;33m,\u001b[0m \u001b[0mtest\u001b[0m\u001b[1;33m,\u001b[0m \u001b[0mverbose\u001b[0m\u001b[1;33m,\u001b[0m \u001b[1;32mNone\u001b[0m\u001b[1;33m,\u001b[0m\u001b[1;33m\u001b[0m\u001b[1;33m\u001b[0m\u001b[0m\n",
      "\u001b[1;32m~\\anaconda3\\lib\\site-packages\\joblib\\parallel.py\u001b[0m in \u001b[0;36m__call__\u001b[1;34m(self, iterable)\u001b[0m\n\u001b[0;32m   1059\u001b[0m \u001b[1;33m\u001b[0m\u001b[0m\n\u001b[0;32m   1060\u001b[0m             \u001b[1;32mwith\u001b[0m \u001b[0mself\u001b[0m\u001b[1;33m.\u001b[0m\u001b[0m_backend\u001b[0m\u001b[1;33m.\u001b[0m\u001b[0mretrieval_context\u001b[0m\u001b[1;33m(\u001b[0m\u001b[1;33m)\u001b[0m\u001b[1;33m:\u001b[0m\u001b[1;33m\u001b[0m\u001b[1;33m\u001b[0m\u001b[0m\n\u001b[1;32m-> 1061\u001b[1;33m                 \u001b[0mself\u001b[0m\u001b[1;33m.\u001b[0m\u001b[0mretrieve\u001b[0m\u001b[1;33m(\u001b[0m\u001b[1;33m)\u001b[0m\u001b[1;33m\u001b[0m\u001b[1;33m\u001b[0m\u001b[0m\n\u001b[0m\u001b[0;32m   1062\u001b[0m             \u001b[1;31m# Make sure that we get a last message telling us we are done\u001b[0m\u001b[1;33m\u001b[0m\u001b[1;33m\u001b[0m\u001b[1;33m\u001b[0m\u001b[0m\n\u001b[0;32m   1063\u001b[0m             \u001b[0melapsed_time\u001b[0m \u001b[1;33m=\u001b[0m \u001b[0mtime\u001b[0m\u001b[1;33m.\u001b[0m\u001b[0mtime\u001b[0m\u001b[1;33m(\u001b[0m\u001b[1;33m)\u001b[0m \u001b[1;33m-\u001b[0m \u001b[0mself\u001b[0m\u001b[1;33m.\u001b[0m\u001b[0m_start_time\u001b[0m\u001b[1;33m\u001b[0m\u001b[1;33m\u001b[0m\u001b[0m\n",
      "\u001b[1;32m~\\anaconda3\\lib\\site-packages\\joblib\\parallel.py\u001b[0m in \u001b[0;36mretrieve\u001b[1;34m(self)\u001b[0m\n\u001b[0;32m    938\u001b[0m             \u001b[1;32mtry\u001b[0m\u001b[1;33m:\u001b[0m\u001b[1;33m\u001b[0m\u001b[1;33m\u001b[0m\u001b[0m\n\u001b[0;32m    939\u001b[0m                 \u001b[1;32mif\u001b[0m \u001b[0mgetattr\u001b[0m\u001b[1;33m(\u001b[0m\u001b[0mself\u001b[0m\u001b[1;33m.\u001b[0m\u001b[0m_backend\u001b[0m\u001b[1;33m,\u001b[0m \u001b[1;34m'supports_timeout'\u001b[0m\u001b[1;33m,\u001b[0m \u001b[1;32mFalse\u001b[0m\u001b[1;33m)\u001b[0m\u001b[1;33m:\u001b[0m\u001b[1;33m\u001b[0m\u001b[1;33m\u001b[0m\u001b[0m\n\u001b[1;32m--> 940\u001b[1;33m                     \u001b[0mself\u001b[0m\u001b[1;33m.\u001b[0m\u001b[0m_output\u001b[0m\u001b[1;33m.\u001b[0m\u001b[0mextend\u001b[0m\u001b[1;33m(\u001b[0m\u001b[0mjob\u001b[0m\u001b[1;33m.\u001b[0m\u001b[0mget\u001b[0m\u001b[1;33m(\u001b[0m\u001b[0mtimeout\u001b[0m\u001b[1;33m=\u001b[0m\u001b[0mself\u001b[0m\u001b[1;33m.\u001b[0m\u001b[0mtimeout\u001b[0m\u001b[1;33m)\u001b[0m\u001b[1;33m)\u001b[0m\u001b[1;33m\u001b[0m\u001b[1;33m\u001b[0m\u001b[0m\n\u001b[0m\u001b[0;32m    941\u001b[0m                 \u001b[1;32melse\u001b[0m\u001b[1;33m:\u001b[0m\u001b[1;33m\u001b[0m\u001b[1;33m\u001b[0m\u001b[0m\n\u001b[0;32m    942\u001b[0m                     \u001b[0mself\u001b[0m\u001b[1;33m.\u001b[0m\u001b[0m_output\u001b[0m\u001b[1;33m.\u001b[0m\u001b[0mextend\u001b[0m\u001b[1;33m(\u001b[0m\u001b[0mjob\u001b[0m\u001b[1;33m.\u001b[0m\u001b[0mget\u001b[0m\u001b[1;33m(\u001b[0m\u001b[1;33m)\u001b[0m\u001b[1;33m)\u001b[0m\u001b[1;33m\u001b[0m\u001b[1;33m\u001b[0m\u001b[0m\n",
      "\u001b[1;32m~\\anaconda3\\lib\\site-packages\\joblib\\_parallel_backends.py\u001b[0m in \u001b[0;36mwrap_future_result\u001b[1;34m(future, timeout)\u001b[0m\n\u001b[0;32m    540\u001b[0m         AsyncResults.get from multiprocessing.\"\"\"\n\u001b[0;32m    541\u001b[0m         \u001b[1;32mtry\u001b[0m\u001b[1;33m:\u001b[0m\u001b[1;33m\u001b[0m\u001b[1;33m\u001b[0m\u001b[0m\n\u001b[1;32m--> 542\u001b[1;33m             \u001b[1;32mreturn\u001b[0m \u001b[0mfuture\u001b[0m\u001b[1;33m.\u001b[0m\u001b[0mresult\u001b[0m\u001b[1;33m(\u001b[0m\u001b[0mtimeout\u001b[0m\u001b[1;33m=\u001b[0m\u001b[0mtimeout\u001b[0m\u001b[1;33m)\u001b[0m\u001b[1;33m\u001b[0m\u001b[1;33m\u001b[0m\u001b[0m\n\u001b[0m\u001b[0;32m    543\u001b[0m         \u001b[1;32mexcept\u001b[0m \u001b[0mCfTimeoutError\u001b[0m \u001b[1;32mas\u001b[0m \u001b[0me\u001b[0m\u001b[1;33m:\u001b[0m\u001b[1;33m\u001b[0m\u001b[1;33m\u001b[0m\u001b[0m\n\u001b[0;32m    544\u001b[0m             \u001b[1;32mraise\u001b[0m \u001b[0mTimeoutError\u001b[0m \u001b[1;32mfrom\u001b[0m \u001b[0me\u001b[0m\u001b[1;33m\u001b[0m\u001b[1;33m\u001b[0m\u001b[0m\n",
      "\u001b[1;32m~\\anaconda3\\lib\\concurrent\\futures\\_base.py\u001b[0m in \u001b[0;36mresult\u001b[1;34m(self, timeout)\u001b[0m\n\u001b[0;32m    432\u001b[0m                 \u001b[1;32mreturn\u001b[0m \u001b[0mself\u001b[0m\u001b[1;33m.\u001b[0m\u001b[0m__get_result\u001b[0m\u001b[1;33m(\u001b[0m\u001b[1;33m)\u001b[0m\u001b[1;33m\u001b[0m\u001b[1;33m\u001b[0m\u001b[0m\n\u001b[0;32m    433\u001b[0m \u001b[1;33m\u001b[0m\u001b[0m\n\u001b[1;32m--> 434\u001b[1;33m             \u001b[0mself\u001b[0m\u001b[1;33m.\u001b[0m\u001b[0m_condition\u001b[0m\u001b[1;33m.\u001b[0m\u001b[0mwait\u001b[0m\u001b[1;33m(\u001b[0m\u001b[0mtimeout\u001b[0m\u001b[1;33m)\u001b[0m\u001b[1;33m\u001b[0m\u001b[1;33m\u001b[0m\u001b[0m\n\u001b[0m\u001b[0;32m    435\u001b[0m \u001b[1;33m\u001b[0m\u001b[0m\n\u001b[0;32m    436\u001b[0m             \u001b[1;32mif\u001b[0m \u001b[0mself\u001b[0m\u001b[1;33m.\u001b[0m\u001b[0m_state\u001b[0m \u001b[1;32min\u001b[0m \u001b[1;33m[\u001b[0m\u001b[0mCANCELLED\u001b[0m\u001b[1;33m,\u001b[0m \u001b[0mCANCELLED_AND_NOTIFIED\u001b[0m\u001b[1;33m]\u001b[0m\u001b[1;33m:\u001b[0m\u001b[1;33m\u001b[0m\u001b[1;33m\u001b[0m\u001b[0m\n",
      "\u001b[1;32m~\\anaconda3\\lib\\threading.py\u001b[0m in \u001b[0;36mwait\u001b[1;34m(self, timeout)\u001b[0m\n\u001b[0;32m    300\u001b[0m         \u001b[1;32mtry\u001b[0m\u001b[1;33m:\u001b[0m    \u001b[1;31m# restore state no matter what (e.g., KeyboardInterrupt)\u001b[0m\u001b[1;33m\u001b[0m\u001b[1;33m\u001b[0m\u001b[0m\n\u001b[0;32m    301\u001b[0m             \u001b[1;32mif\u001b[0m \u001b[0mtimeout\u001b[0m \u001b[1;32mis\u001b[0m \u001b[1;32mNone\u001b[0m\u001b[1;33m:\u001b[0m\u001b[1;33m\u001b[0m\u001b[1;33m\u001b[0m\u001b[0m\n\u001b[1;32m--> 302\u001b[1;33m                 \u001b[0mwaiter\u001b[0m\u001b[1;33m.\u001b[0m\u001b[0macquire\u001b[0m\u001b[1;33m(\u001b[0m\u001b[1;33m)\u001b[0m\u001b[1;33m\u001b[0m\u001b[1;33m\u001b[0m\u001b[0m\n\u001b[0m\u001b[0;32m    303\u001b[0m                 \u001b[0mgotit\u001b[0m \u001b[1;33m=\u001b[0m \u001b[1;32mTrue\u001b[0m\u001b[1;33m\u001b[0m\u001b[1;33m\u001b[0m\u001b[0m\n\u001b[0;32m    304\u001b[0m             \u001b[1;32melse\u001b[0m\u001b[1;33m:\u001b[0m\u001b[1;33m\u001b[0m\u001b[1;33m\u001b[0m\u001b[0m\n",
      "\u001b[1;31mKeyboardInterrupt\u001b[0m: "
     ]
    }
   ],
   "source": [
    "bo.fit('lgbm', 50)"
   ]
  },
  {
   "cell_type": "code",
   "execution_count": 71,
   "metadata": {
    "ExecuteTime": {
     "end_time": "2021-01-04T16:07:59.046798Z",
     "start_time": "2021-01-04T16:07:59.015340Z"
    }
   },
   "outputs": [
    {
     "data": {
      "text/plain": [
       "{'lgbm': LGBMClassifier(bagging_fraction=0.6105435998179018, bagging_frec=2,\n",
       "                cross_entropy_lambda=0.48732934053987265,\n",
       "                feature_fraction=0.7650565416552126,\n",
       "                learning_rate=0.08847665538285673, min_data_in_leaf=42,\n",
       "                min_sum_hessian_in_leaf=0.027315270206097517, n_estimators=1000,\n",
       "                n_jobs=0, num_leaves=5, random_state=13, rank_xendcg=3,\n",
       "                tree_learner='voting')}"
      ]
     },
     "execution_count": 71,
     "metadata": {},
     "output_type": "execute_result"
    }
   ],
   "source": [
    "bo.best_estimators_"
   ]
  }
 ],
 "metadata": {
  "kernelspec": {
   "display_name": "Python 3",
   "language": "python",
   "name": "python3"
  },
  "language_info": {
   "codemirror_mode": {
    "name": "ipython",
    "version": 3
   },
   "file_extension": ".py",
   "mimetype": "text/x-python",
   "name": "python",
   "nbconvert_exporter": "python",
   "pygments_lexer": "ipython3",
   "version": "3.8.5"
  },
  "varInspector": {
   "cols": {
    "lenName": 16,
    "lenType": 16,
    "lenVar": 40
   },
   "kernels_config": {
    "python": {
     "delete_cmd_postfix": "",
     "delete_cmd_prefix": "del ",
     "library": "var_list.py",
     "varRefreshCmd": "print(var_dic_list())"
    },
    "r": {
     "delete_cmd_postfix": ") ",
     "delete_cmd_prefix": "rm(",
     "library": "var_list.r",
     "varRefreshCmd": "cat(var_dic_list()) "
    }
   },
   "types_to_exclude": [
    "module",
    "function",
    "builtin_function_or_method",
    "instance",
    "_Feature"
   ],
   "window_display": false
  }
 },
 "nbformat": 4,
 "nbformat_minor": 4
}
