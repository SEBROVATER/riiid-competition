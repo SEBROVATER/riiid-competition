{
 "cells": [
  {
   "cell_type": "code",
   "execution_count": 1,
   "metadata": {
    "ExecuteTime": {
     "end_time": "2021-01-04T14:28:37.215105Z",
     "start_time": "2021-01-04T14:28:37.204135Z"
    }
   },
   "outputs": [],
   "source": [
    "import sys\n",
    "sys.path.insert(0, \"S:\\\\YandexDisk\\\\code\\\\tasks\")\n",
    "from my_tools import *"
   ]
  },
  {
   "cell_type": "code",
   "execution_count": 3,
   "metadata": {
    "ExecuteTime": {
     "end_time": "2021-01-04T14:35:53.178277Z",
     "start_time": "2021-01-04T14:35:53.159315Z"
    }
   },
   "outputs": [],
   "source": [
    "%%writefile?"
   ]
  },
  {
   "cell_type": "code",
   "execution_count": null,
   "metadata": {},
   "outputs": [],
   "source": []
  },
  {
   "cell_type": "code",
   "execution_count": 2,
   "metadata": {
    "ExecuteTime": {
     "end_time": "2021-01-04T14:29:08.094792Z",
     "start_time": "2021-01-04T14:29:07.950704Z"
    }
   },
   "outputs": [
    {
     "ename": "NameError",
     "evalue": "name 'true' is not defined",
     "output_type": "error",
     "traceback": [
      "\u001b[1;31m---------------------------------------------------------------------------\u001b[0m",
      "\u001b[1;31mNameError\u001b[0m                                 Traceback (most recent call last)",
      "\u001b[1;32m<ipython-input-2-fee752065b9b>\u001b[0m in \u001b[0;36m<module>\u001b[1;34m\u001b[0m\n\u001b[1;32m----> 1\u001b[1;33m \u001b[1;32mfrom\u001b[0m \u001b[0mmy_tools\u001b[0m \u001b[1;32mimport\u001b[0m \u001b[0mEDA\u001b[0m\u001b[1;33m\u001b[0m\u001b[1;33m\u001b[0m\u001b[0m\n\u001b[0m",
      "\u001b[1;32mS:\\YandexDisk\\code\\tasks\\my_tools\\EDA.py\u001b[0m in \u001b[0;36m<module>\u001b[1;34m\u001b[0m\n\u001b[0;32m     82\u001b[0m      \u001b[1;34m\"start_time\"\u001b[0m\u001b[1;33m:\u001b[0m \u001b[1;34m\"2020-11-02T10:35:01.654733Z\"\u001b[0m\u001b[1;33m\u001b[0m\u001b[1;33m\u001b[0m\u001b[0m\n\u001b[0;32m     83\u001b[0m     },\n\u001b[1;32m---> 84\u001b[1;33m     \u001b[1;34m\"scrolled\"\u001b[0m\u001b[1;33m:\u001b[0m \u001b[0mtrue\u001b[0m\u001b[1;33m\u001b[0m\u001b[1;33m\u001b[0m\u001b[0m\n\u001b[0m\u001b[0;32m     85\u001b[0m    },\n\u001b[0;32m     86\u001b[0m    \u001b[1;34m\"outputs\"\u001b[0m\u001b[1;33m:\u001b[0m \u001b[1;33m[\u001b[0m\u001b[1;33m]\u001b[0m\u001b[1;33m,\u001b[0m\u001b[1;33m\u001b[0m\u001b[1;33m\u001b[0m\u001b[0m\n",
      "\u001b[1;31mNameError\u001b[0m: name 'true' is not defined"
     ]
    }
   ],
   "source": [
    "from my_tools import EDA"
   ]
  },
  {
   "cell_type": "code",
   "execution_count": 1,
   "metadata": {
    "ExecuteTime": {
     "end_time": "2020-12-03T12:08:11.882883Z",
     "start_time": "2020-12-03T12:08:11.185400Z"
    }
   },
   "outputs": [],
   "source": [
    "import pandas as pd\n",
    "import numpy as np"
   ]
  },
  {
   "cell_type": "code",
   "execution_count": 2,
   "metadata": {
    "ExecuteTime": {
     "end_time": "2020-12-03T12:08:14.794812Z",
     "start_time": "2020-12-03T12:08:11.889812Z"
    }
   },
   "outputs": [
    {
     "data": {
      "text/html": [
       "        <script type=\"text/javascript\">\n",
       "        window.PlotlyConfig = {MathJaxConfig: 'local'};\n",
       "        if (window.MathJax) {MathJax.Hub.Config({SVG: {font: \"STIX-Web\"}});}\n",
       "        if (typeof require !== 'undefined') {\n",
       "        require.undef(\"plotly\");\n",
       "        requirejs.config({\n",
       "            paths: {\n",
       "                'plotly': ['https://cdn.plot.ly/plotly-latest.min']\n",
       "            }\n",
       "        });\n",
       "        require(['plotly'], function(Plotly) {\n",
       "            window._Plotly = Plotly;\n",
       "        });\n",
       "        }\n",
       "        </script>\n",
       "        "
      ]
     },
     "metadata": {},
     "output_type": "display_data"
    },
    {
     "data": {
      "text/html": [
       "        <script type=\"text/javascript\">\n",
       "        window.PlotlyConfig = {MathJaxConfig: 'local'};\n",
       "        if (window.MathJax) {MathJax.Hub.Config({SVG: {font: \"STIX-Web\"}});}\n",
       "        if (typeof require !== 'undefined') {\n",
       "        require.undef(\"plotly\");\n",
       "        requirejs.config({\n",
       "            paths: {\n",
       "                'plotly': ['https://cdn.plot.ly/plotly-latest.min']\n",
       "            }\n",
       "        });\n",
       "        require(['plotly'], function(Plotly) {\n",
       "            window._Plotly = Plotly;\n",
       "        });\n",
       "        }\n",
       "        </script>\n",
       "        "
      ]
     },
     "metadata": {},
     "output_type": "display_data"
    }
   ],
   "source": [
    "%run \"S:\\YandexDisk\\code\\tasks\\EDA.ipynb\""
   ]
  },
  {
   "cell_type": "code",
   "execution_count": 3,
   "metadata": {
    "ExecuteTime": {
     "end_time": "2020-12-03T12:08:15.754948Z",
     "start_time": "2020-12-03T12:08:14.797803Z"
    }
   },
   "outputs": [],
   "source": [
    "%run \"S:\\YandexDisk\\code\\tasks\\Preparation.ipynb\""
   ]
  },
  {
   "cell_type": "code",
   "execution_count": 4,
   "metadata": {
    "ExecuteTime": {
     "end_time": "2020-12-03T12:08:16.283409Z",
     "start_time": "2020-12-03T12:08:15.757948Z"
    }
   },
   "outputs": [],
   "source": [
    "%run \"S:\\YandexDisk\\code\\tasks\\Cleaning.ipynb\""
   ]
  },
  {
   "cell_type": "code",
   "execution_count": 5,
   "metadata": {
    "ExecuteTime": {
     "end_time": "2020-12-03T12:08:17.151328Z",
     "start_time": "2020-12-03T12:08:16.285404Z"
    }
   },
   "outputs": [],
   "source": [
    "%run \"S:\\YandexDisk\\code\\tasks\\Models.ipynb\""
   ]
  },
  {
   "cell_type": "code",
   "execution_count": 6,
   "metadata": {
    "ExecuteTime": {
     "end_time": "2020-12-03T12:08:19.728114Z",
     "start_time": "2020-12-03T12:08:17.153875Z"
    }
   },
   "outputs": [],
   "source": [
    "%run \"S:\\YandexDisk\\code\\tasks\\Selection.ipynb\""
   ]
  },
  {
   "cell_type": "code",
   "execution_count": 23,
   "metadata": {
    "ExecuteTime": {
     "end_time": "2020-12-01T08:44:13.677729Z",
     "start_time": "2020-12-01T08:44:13.654793Z"
    },
    "run_control": {
     "marked": false
    }
   },
   "outputs": [],
   "source": [
    "# user_ids = pd.read_csv('train.csv', chunksize=100000, usecols=['user_id'], low_memory=False)\n",
    "\n",
    "# user_counts = None\n",
    "# for chunk in user_ids:\n",
    "#     if user_counts is None:\n",
    "#         user_counts = chunk.user_id.value_counts()\n",
    "#     else:\n",
    "#         user_counts = user_counts.add(chunk.user_id.value_counts(), fill_value=0)\n",
    "\n",
    "# user_counts = user_counts.to_dict()"
   ]
  },
  {
   "cell_type": "code",
   "execution_count": 24,
   "metadata": {
    "ExecuteTime": {
     "end_time": "2020-12-01T08:44:13.698673Z",
     "start_time": "2020-12-01T08:44:13.684713Z"
    }
   },
   "outputs": [],
   "source": [
    "dtypes = {\n",
    "#     'row_id': 'int64',\n",
    "    'timestamp': 'int64',\n",
    "    'user_id': 'int32',\n",
    "    'content_id': 'int16',\n",
    "#     'task_container_id': 'int16',\n",
    "    'content_type_id': 'int8',\n",
    "    'answered_correctly': 'int8',\n",
    "    'prior_question_elapsed_time': 'float64',\n",
    "    'prior_question_had_explanation': 'float32',\n",
    "}"
   ]
  },
  {
   "cell_type": "code",
   "execution_count": 25,
   "metadata": {
    "ExecuteTime": {
     "end_time": "2020-12-01T08:44:13.776493Z",
     "start_time": "2020-12-01T08:44:13.701668Z"
    }
   },
   "outputs": [],
   "source": [
    "raw_train = pd.read_csv('train.csv',\n",
    "                        nrows=10000,                        \n",
    "                        dtype=dtypes,\n",
    "                        usecols=dtypes.keys(),\n",
    "                       low_memory=False)"
   ]
  },
  {
   "cell_type": "code",
   "execution_count": 26,
   "metadata": {
    "ExecuteTime": {
     "end_time": "2020-12-01T08:44:13.823937Z",
     "start_time": "2020-12-01T08:44:13.778459Z"
    }
   },
   "outputs": [
    {
     "data": {
      "text/html": [
       "\n",
       "    <div>\n",
       "        <style>\n",
       "            /* Turns off some styling */\n",
       "            progress {\n",
       "                /* gets rid of default border in Firefox and Opera. */\n",
       "                border: none;\n",
       "                /* Needs to be in here for Safari polyfill so background images work as expected. */\n",
       "                background-size: auto;\n",
       "            }\n",
       "            .progress-bar-interrupted, .progress-bar-interrupted::-webkit-progress-bar {\n",
       "                background: #F44336;\n",
       "            }\n",
       "        </style>\n",
       "      <progress value='4' class='' max='4', style='width:300px; height:20px; vertical-align: middle;'></progress>\n",
       "      100.00% [4/4 00:00<00:00]\n",
       "    </div>\n",
       "    "
      ],
      "text/plain": [
       "<IPython.core.display.HTML object>"
      ]
     },
     "metadata": {},
     "output_type": "display_data"
    },
    {
     "name": "stdout",
     "output_type": "stream",
     "text": [
      "Mem. usage decreased to  0.01 Mb (58.8% reduction)\n"
     ]
    }
   ],
   "source": [
    "raw_lectures = pd.read_csv('lectures.csv')\n",
    "reduce_mem_usage(raw_lectures)"
   ]
  },
  {
   "cell_type": "code",
   "execution_count": 27,
   "metadata": {
    "ExecuteTime": {
     "end_time": "2020-12-01T08:44:13.886769Z",
     "start_time": "2020-12-01T08:44:13.826885Z"
    }
   },
   "outputs": [
    {
     "data": {
      "text/html": [
       "\n",
       "    <div>\n",
       "        <style>\n",
       "            /* Turns off some styling */\n",
       "            progress {\n",
       "                /* gets rid of default border in Firefox and Opera. */\n",
       "                border: none;\n",
       "                /* Needs to be in here for Safari polyfill so background images work as expected. */\n",
       "                background-size: auto;\n",
       "            }\n",
       "            .progress-bar-interrupted, .progress-bar-interrupted::-webkit-progress-bar {\n",
       "                background: #F44336;\n",
       "            }\n",
       "        </style>\n",
       "      <progress value='5' class='' max='5', style='width:300px; height:20px; vertical-align: middle;'></progress>\n",
       "      100.00% [5/5 00:00<00:00]\n",
       "    </div>\n",
       "    "
      ],
      "text/plain": [
       "<IPython.core.display.HTML object>"
      ]
     },
     "metadata": {},
     "output_type": "display_data"
    },
    {
     "name": "stdout",
     "output_type": "stream",
     "text": [
      "Mem. usage decreased to  0.18 Mb (65.0% reduction)\n"
     ]
    }
   ],
   "source": [
    "raw_questions = pd.read_csv('questions.csv')\n",
    "reduce_mem_usage(raw_questions)"
   ]
  },
  {
   "cell_type": "code",
   "execution_count": 28,
   "metadata": {
    "ExecuteTime": {
     "end_time": "2020-12-01T08:44:13.901727Z",
     "start_time": "2020-12-01T08:44:13.889716Z"
    }
   },
   "outputs": [],
   "source": [
    "raw_lectures['type_of'] = raw_lectures['type_of'].replace(\n",
    "    'solving question', 'solving_question')"
   ]
  },
  {
   "cell_type": "code",
   "execution_count": 29,
   "metadata": {
    "ExecuteTime": {
     "end_time": "2020-12-01T08:44:26.092131Z",
     "start_time": "2020-12-01T08:44:13.904677Z"
    }
   },
   "outputs": [],
   "source": [
    "questions = pd.get_dummies(raw_questions.fillna('-1'), columns=['part'],\n",
    "                           dtype='int8')\n",
    "lectures = pd.get_dummies(raw_lectures, columns=['tag', 'part', 'type_of',],\n",
    "                          dtype='int8')\n",
    "\n",
    "for k in range(188):\n",
    "    questions['tag_'+str(k)] = np.int8(0)\n",
    "    \n",
    "for i in questions.index:\n",
    "    for tag in questions.loc[i, 'tags'].split():\n",
    "        if tag != '-1':\n",
    "            questions.loc[i, 'tag_'+tag] = 1\n",
    "questions.drop(columns='tags', inplace=True)"
   ]
  },
  {
   "cell_type": "code",
   "execution_count": 30,
   "metadata": {
    "ExecuteTime": {
     "end_time": "2020-12-01T08:44:26.108079Z",
     "start_time": "2020-12-01T08:44:26.094130Z"
    }
   },
   "outputs": [],
   "source": [
    "part_columns = [column for column in lectures.columns if column.startswith('part_')]\n",
    "tag_l_columns = [column for column in lectures.columns if column.startswith('tag_')]\n",
    "tag_q_columns = [column for column in questions.columns if column.startswith('tag_')]\n",
    "types_of_columns = [column for column in lectures.columns if column.startswith('type_of_')]"
   ]
  },
  {
   "cell_type": "code",
   "execution_count": 31,
   "metadata": {
    "ExecuteTime": {
     "end_time": "2020-12-01T08:44:26.397120Z",
     "start_time": "2020-12-01T08:44:26.114063Z"
    },
    "run_control": {
     "marked": false
    }
   },
   "outputs": [
    {
     "data": {
      "text/html": [
       "\n",
       "    <div>\n",
       "        <style>\n",
       "            /* Turns off some styling */\n",
       "            progress {\n",
       "                /* gets rid of default border in Firefox and Opera. */\n",
       "                border: none;\n",
       "                /* Needs to be in here for Safari polyfill so background images work as expected. */\n",
       "                background-size: auto;\n",
       "            }\n",
       "            .progress-bar-interrupted, .progress-bar-interrupted::-webkit-progress-bar {\n",
       "                background: #F44336;\n",
       "            }\n",
       "        </style>\n",
       "      <progress value='198' class='' max='198', style='width:300px; height:20px; vertical-align: middle;'></progress>\n",
       "      100.00% [198/198 00:00<00:00]\n",
       "    </div>\n",
       "    "
      ],
      "text/plain": [
       "<IPython.core.display.HTML object>"
      ]
     },
     "metadata": {},
     "output_type": "display_data"
    },
    {
     "name": "stdout",
     "output_type": "stream",
     "text": [
      "Mem. usage decreased to  2.58 Mb (0.0% reduction)\n"
     ]
    },
    {
     "data": {
      "text/html": [
       "\n",
       "    <div>\n",
       "        <style>\n",
       "            /* Turns off some styling */\n",
       "            progress {\n",
       "                /* gets rid of default border in Firefox and Opera. */\n",
       "                border: none;\n",
       "                /* Needs to be in here for Safari polyfill so background images work as expected. */\n",
       "                background-size: auto;\n",
       "            }\n",
       "            .progress-bar-interrupted, .progress-bar-interrupted::-webkit-progress-bar {\n",
       "                background: #F44336;\n",
       "            }\n",
       "        </style>\n",
       "      <progress value='163' class='' max='163', style='width:300px; height:20px; vertical-align: middle;'></progress>\n",
       "      100.00% [163/163 00:00<00:00]\n",
       "    </div>\n",
       "    "
      ],
      "text/plain": [
       "<IPython.core.display.HTML object>"
      ]
     },
     "metadata": {},
     "output_type": "display_data"
    },
    {
     "name": "stdout",
     "output_type": "stream",
     "text": [
      "Mem. usage decreased to  0.07 Mb (0.0% reduction)\n"
     ]
    }
   ],
   "source": [
    "reduce_mem_usage(questions)\n",
    "reduce_mem_usage(lectures)"
   ]
  },
  {
   "cell_type": "code",
   "execution_count": 25,
   "metadata": {
    "ExecuteTime": {
     "end_time": "2020-11-30T16:35:03.882511Z",
     "start_time": "2020-11-30T16:35:03.169646Z"
    }
   },
   "outputs": [],
   "source": [
    "train_l = raw_train.loc[raw_train.content_type_id == 1].merge(\n",
    "    lectures, how='left', left_on='content_id',\n",
    "    right_on='lecture_id').drop(columns=['lecture_id'])\n",
    "\n",
    "train = pd.concat([raw_train.loc[raw_train.content_type_id == 0], train_l\n",
    "                   ]).sort_values(['timestamp', 'content_id'],\n",
    "                                  ascending=True).reset_index(drop=True).drop(columns=['timestamp'])\n",
    "\n",
    "train[types_of_columns] = train[types_of_columns].fillna(0).astype('int16')\n",
    "train[tag_l_columns] = train[tag_l_columns].fillna(0).astype('int8')\n",
    "train[part_columns] = train[part_columns].fillna(0).astype('int8')\n",
    "del train_l"
   ]
  },
  {
   "cell_type": "code",
   "execution_count": 26,
   "metadata": {
    "ExecuteTime": {
     "end_time": "2020-11-30T16:35:04.069627Z",
     "start_time": "2020-11-30T16:35:03.885406Z"
    }
   },
   "outputs": [
    {
     "data": {
      "text/html": [
       "\n",
       "    <div>\n",
       "        <style>\n",
       "            /* Turns off some styling */\n",
       "            progress {\n",
       "                /* gets rid of default border in Firefox and Opera. */\n",
       "                border: none;\n",
       "                /* Needs to be in here for Safari polyfill so background images work as expected. */\n",
       "                background-size: auto;\n",
       "            }\n",
       "            .progress-bar-interrupted, .progress-bar-interrupted::-webkit-progress-bar {\n",
       "                background: #F44336;\n",
       "            }\n",
       "        </style>\n",
       "      <progress value='7' class='' max='7', style='width:300px; height:20px; vertical-align: middle;'></progress>\n",
       "      100.00% [7/7 00:00<00:00]\n",
       "    </div>\n",
       "    "
      ],
      "text/plain": [
       "<IPython.core.display.HTML object>"
      ]
     },
     "metadata": {},
     "output_type": "display_data"
    }
   ],
   "source": [
    "for col in progress_bar(part_columns):\n",
    "    train[[\n",
    "        f'{col}_sum_concept', f'{col}_sum_intention',\n",
    "        f'{col}_sum_solving_question', f'{col}_sum_starter'\n",
    "    ]] = train.loc[train[col] == 1, types_of_columns + ['user_id']].groupby(\n",
    "        'user_id', sort=False).cumsum()\n",
    "\n",
    "train.drop(columns=part_columns, inplace=True)"
   ]
  },
  {
   "cell_type": "code",
   "execution_count": 27,
   "metadata": {
    "ExecuteTime": {
     "end_time": "2020-11-30T16:35:09.780018Z",
     "start_time": "2020-11-30T16:35:04.072618Z"
    },
    "code_folding": [],
    "run_control": {
     "marked": false
    },
    "scrolled": true
   },
   "outputs": [
    {
     "data": {
      "text/html": [
       "\n",
       "    <div>\n",
       "        <style>\n",
       "            /* Turns off some styling */\n",
       "            progress {\n",
       "                /* gets rid of default border in Firefox and Opera. */\n",
       "                border: none;\n",
       "                /* Needs to be in here for Safari polyfill so background images work as expected. */\n",
       "                background-size: auto;\n",
       "            }\n",
       "            .progress-bar-interrupted, .progress-bar-interrupted::-webkit-progress-bar {\n",
       "                background: #F44336;\n",
       "            }\n",
       "        </style>\n",
       "      <progress value='151' class='' max='151', style='width:300px; height:20px; vertical-align: middle;'></progress>\n",
       "      100.00% [151/151 00:05<00:00]\n",
       "    </div>\n",
       "    "
      ],
      "text/plain": [
       "<IPython.core.display.HTML object>"
      ]
     },
     "metadata": {},
     "output_type": "display_data"
    }
   ],
   "source": [
    "for col in progress_bar(tag_l_columns):\n",
    "    if (train[col] == 0).all():\n",
    "        train[[\n",
    "            f'{col}_sum_concept', f'{col}_sum_intention',\n",
    "            f'{col}_sum_solving_question', f'{col}_sum_starter'\n",
    "        ]] = 0\n",
    "    else:\n",
    "        train[[\n",
    "            f'{col}_sum_concept', f'{col}_sum_intention',\n",
    "            f'{col}_sum_solving_question', f'{col}_sum_starter'\n",
    "        ]] = train.loc[train[col] == 1,\n",
    "                       ['user_id'] + types_of_columns].groupby(\n",
    "                           'user_id', sort=False).cumsum()\n",
    "\n",
    "train.drop(columns=tag_l_columns + types_of_columns, inplace=True)"
   ]
  },
  {
   "cell_type": "code",
   "execution_count": 28,
   "metadata": {
    "ExecuteTime": {
     "end_time": "2020-11-30T16:35:09.795496Z",
     "start_time": "2020-11-30T16:35:09.782907Z"
    }
   },
   "outputs": [],
   "source": [
    "exp_columns = [column for column in train.columns if (column.startswith('part_') or column.startswith('tag_'))]"
   ]
  },
  {
   "cell_type": "code",
   "execution_count": 29,
   "metadata": {
    "ExecuteTime": {
     "end_time": "2020-11-30T16:35:14.611141Z",
     "start_time": "2020-11-30T16:35:09.798456Z"
    },
    "run_control": {
     "marked": false
    }
   },
   "outputs": [],
   "source": [
    "train[exp_columns] = train[['user_id']+exp_columns].groupby('user_id', sort=False).ffill()\n",
    "train[exp_columns] = train[exp_columns].fillna(0).astype('int16')"
   ]
  },
  {
   "cell_type": "code",
   "execution_count": 30,
   "metadata": {
    "ExecuteTime": {
     "end_time": "2020-11-30T16:35:14.812621Z",
     "start_time": "2020-11-30T16:35:14.613030Z"
    }
   },
   "outputs": [],
   "source": [
    "train = train.loc[train.content_type_id == 0].merge(\n",
    "    questions, how='left', left_on='content_id',\n",
    "    right_on='question_id').reset_index(drop=True).drop(\n",
    "            columns=['question_id', 'content_type_id', 'correct_answer'])"
   ]
  },
  {
   "cell_type": "code",
   "execution_count": 31,
   "metadata": {
    "ExecuteTime": {
     "end_time": "2020-11-30T16:35:14.872465Z",
     "start_time": "2020-11-30T16:35:14.815617Z"
    }
   },
   "outputs": [],
   "source": [
    "train[part_columns+tag_q_columns] = train[part_columns+tag_q_columns].fillna(0).astype('int8')"
   ]
  },
  {
   "cell_type": "code",
   "execution_count": 32,
   "metadata": {
    "ExecuteTime": {
     "end_time": "2020-11-30T16:35:14.904382Z",
     "start_time": "2020-11-30T16:35:14.878486Z"
    }
   },
   "outputs": [],
   "source": [
    "train[['current_question_elapsed_time',\n",
    "       'current_question_had_explanation']] = train[['user_id', 'bundle_id', 'prior_question_elapsed_time',\n",
    "           'prior_question_had_explanation'\n",
    "       ]].groupby(['user_id', 'bundle_id'], sort=False)[['user_id', 'prior_question_elapsed_time',\n",
    "           'prior_question_had_explanation']].tail(1).groupby('user_id', sort=False).shift(-1)"
   ]
  },
  {
   "cell_type": "code",
   "execution_count": 33,
   "metadata": {
    "ExecuteTime": {
     "end_time": "2020-11-30T16:35:14.934284Z",
     "start_time": "2020-11-30T16:35:14.909367Z"
    }
   },
   "outputs": [],
   "source": [
    "train[['current_question_elapsed_time',\n",
    "       'current_question_had_explanation']] = train[[\n",
    "           'user_id', 'current_question_elapsed_time',\n",
    "           'current_question_had_explanation'\n",
    "       ]].groupby('user_id', sort=False).bfill()"
   ]
  },
  {
   "cell_type": "code",
   "execution_count": 34,
   "metadata": {
    "ExecuteTime": {
     "end_time": "2020-11-30T16:35:14.965344Z",
     "start_time": "2020-11-30T16:35:14.937241Z"
    },
    "run_control": {
     "marked": false
    }
   },
   "outputs": [],
   "source": [
    "q_stats = train[[\n",
    "    'content_id', 'answered_correctly', 'current_question_elapsed_time',\n",
    "    'current_question_had_explanation'\n",
    "]].groupby('content_id').mean()\n",
    "\n",
    "q_stats.columns = ['q_mean_answer', 'q_mean_time', 'q_mean_explain']"
   ]
  },
  {
   "cell_type": "code",
   "execution_count": 35,
   "metadata": {
    "ExecuteTime": {
     "end_time": "2020-11-30T16:35:15.419352Z",
     "start_time": "2020-11-30T16:35:14.968377Z"
    },
    "run_control": {
     "marked": false
    }
   },
   "outputs": [
    {
     "data": {
      "text/html": [
       "\n",
       "    <div>\n",
       "        <style>\n",
       "            /* Turns off some styling */\n",
       "            progress {\n",
       "                /* gets rid of default border in Firefox and Opera. */\n",
       "                border: none;\n",
       "                /* Needs to be in here for Safari polyfill so background images work as expected. */\n",
       "                background-size: auto;\n",
       "            }\n",
       "            .progress-bar-interrupted, .progress-bar-interrupted::-webkit-progress-bar {\n",
       "                background: #F44336;\n",
       "            }\n",
       "        </style>\n",
       "      <progress value='7' class='' max='7', style='width:300px; height:20px; vertical-align: middle;'></progress>\n",
       "      100.00% [7/7 00:00<00:00]\n",
       "    </div>\n",
       "    "
      ],
      "text/plain": [
       "<IPython.core.display.HTML object>"
      ]
     },
     "metadata": {},
     "output_type": "display_data"
    }
   ],
   "source": [
    "for col in progress_bar(part_columns):\n",
    "    train[[\n",
    "        #         f'{col}_mean_answer',\n",
    "        f'{col}_mean_time',\n",
    "        f'{col}_mean_explain'\n",
    "    ]] = train.loc[train[col] == 1, [\n",
    "        'user_id',\n",
    "        #         'answered_correctly',\n",
    "        'current_question_elapsed_time',\n",
    "        'current_question_had_explanation'\n",
    "    ]].groupby('user_id', sort=False)[[\n",
    "        #         'answered_correctly',\n",
    "        'current_question_elapsed_time',\n",
    "        'current_question_had_explanation'\n",
    "    ]].expanding().mean().groupby('user_id', sort=False).shift().reset_index(\n",
    "        level=0, drop=True)"
   ]
  },
  {
   "cell_type": "code",
   "execution_count": 36,
   "metadata": {
    "ExecuteTime": {
     "end_time": "2020-11-30T16:35:24.006998Z",
     "start_time": "2020-11-30T16:35:15.422301Z"
    },
    "scrolled": true
   },
   "outputs": [
    {
     "data": {
      "text/html": [
       "\n",
       "    <div>\n",
       "        <style>\n",
       "            /* Turns off some styling */\n",
       "            progress {\n",
       "                /* gets rid of default border in Firefox and Opera. */\n",
       "                border: none;\n",
       "                /* Needs to be in here for Safari polyfill so background images work as expected. */\n",
       "                background-size: auto;\n",
       "            }\n",
       "            .progress-bar-interrupted, .progress-bar-interrupted::-webkit-progress-bar {\n",
       "                background: #F44336;\n",
       "            }\n",
       "        </style>\n",
       "      <progress value='188' class='' max='188', style='width:300px; height:20px; vertical-align: middle;'></progress>\n",
       "      100.00% [188/188 00:08<00:00]\n",
       "    </div>\n",
       "    "
      ],
      "text/plain": [
       "<IPython.core.display.HTML object>"
      ]
     },
     "metadata": {},
     "output_type": "display_data"
    }
   ],
   "source": [
    "for col in progress_bar(tag_q_columns):\n",
    "    if (train[col] == 0).all():\n",
    "        train[[\n",
    "            #         f'{col}_mean_answer',\n",
    "            f'{col}_mean_time',\n",
    "            f'{col}_mean_explain'\n",
    "        ]] = 0\n",
    "    else:\n",
    "        train[[\n",
    "            #         f'{col}_mean_answer',\n",
    "            f'{col}_mean_time',\n",
    "            f'{col}_mean_explain'\n",
    "        ]] = train.loc[train[col] == 1, [\n",
    "            'user_id',\n",
    "            #         'answered_correctly',\n",
    "            'current_question_elapsed_time',\n",
    "            'current_question_had_explanation'\n",
    "        ]].groupby('user_id', sort=False)[[\n",
    "            #         'answered_correctly',\n",
    "            'current_question_elapsed_time',\n",
    "            'current_question_had_explanation'\n",
    "        ]].expanding().mean().groupby('user_id',\n",
    "                                      sort=False).shift().reset_index(\n",
    "                                          level=0, drop=True)\n",
    "\n",
    "train.drop(columns=[\n",
    "    'current_question_elapsed_time', 'current_question_had_explanation'\n",
    "],\n",
    "           inplace=True)"
   ]
  },
  {
   "cell_type": "code",
   "execution_count": 37,
   "metadata": {
    "ExecuteTime": {
     "end_time": "2020-11-30T16:35:24.022956Z",
     "start_time": "2020-11-30T16:35:24.009029Z"
    }
   },
   "outputs": [],
   "source": [
    "exp_columns = [column for column in train.columns if (column.startswith('part_') or column.startswith('tag_'))]\n",
    "exp_columns = list(set(exp_columns) - set(part_columns) - set(tag_q_columns))"
   ]
  },
  {
   "cell_type": "code",
   "execution_count": 38,
   "metadata": {
    "ExecuteTime": {
     "end_time": "2020-11-30T16:35:25.227108Z",
     "start_time": "2020-11-30T16:35:24.024951Z"
    },
    "run_control": {
     "marked": false
    }
   },
   "outputs": [],
   "source": [
    "train[exp_columns] = train[['user_id']+exp_columns].groupby('user_id', sort=False).ffill()\n",
    "train[exp_columns] = train[exp_columns].fillna(0)"
   ]
  },
  {
   "cell_type": "code",
   "execution_count": 39,
   "metadata": {
    "ExecuteTime": {
     "end_time": "2020-11-30T16:35:25.273980Z",
     "start_time": "2020-11-30T16:35:25.229985Z"
    }
   },
   "outputs": [],
   "source": [
    "train = train.merge(q_stats, how='left', left_on='content_id', right_index=True)"
   ]
  },
  {
   "cell_type": "code",
   "execution_count": 40,
   "metadata": {
    "ExecuteTime": {
     "end_time": "2020-11-30T16:35:25.304055Z",
     "start_time": "2020-11-30T16:35:25.276964Z"
    }
   },
   "outputs": [],
   "source": [
    "train.fillna(0, inplace=True)"
   ]
  },
  {
   "cell_type": "code",
   "execution_count": 41,
   "metadata": {
    "ExecuteTime": {
     "end_time": "2020-11-30T16:35:29.476563Z",
     "start_time": "2020-11-30T16:35:25.307046Z"
    }
   },
   "outputs": [
    {
     "data": {
      "text/html": [
       "\n",
       "    <div>\n",
       "        <style>\n",
       "            /* Turns off some styling */\n",
       "            progress {\n",
       "                /* gets rid of default border in Firefox and Opera. */\n",
       "                border: none;\n",
       "                /* Needs to be in here for Safari polyfill so background images work as expected. */\n",
       "                background-size: auto;\n",
       "            }\n",
       "            .progress-bar-interrupted, .progress-bar-interrupted::-webkit-progress-bar {\n",
       "                background: #F44336;\n",
       "            }\n",
       "        </style>\n",
       "      <progress value='1228' class='' max='1228', style='width:300px; height:20px; vertical-align: middle;'></progress>\n",
       "      100.00% [1228/1228 00:04<00:00]\n",
       "    </div>\n",
       "    "
      ],
      "text/plain": [
       "<IPython.core.display.HTML object>"
      ]
     },
     "metadata": {},
     "output_type": "display_data"
    },
    {
     "name": "stdout",
     "output_type": "stream",
     "text": [
      "Mem. usage decreased to 18.90 Mb (56.2% reduction)\n"
     ]
    }
   ],
   "source": [
    "reduce_mem_usage(train)"
   ]
  },
  {
   "cell_type": "code",
   "execution_count": 44,
   "metadata": {
    "ExecuteTime": {
     "end_time": "2020-11-30T16:36:16.578749Z",
     "start_time": "2020-11-30T16:36:16.553419Z"
    }
   },
   "outputs": [],
   "source": [
    "X = train.drop(columns=[\n",
    "    'user_id',\n",
    "    'row_id',\n",
    "#     'content_id',\n",
    "#         'bundle_id',\n",
    "    'task_container_id',\n",
    "    'answered_correctly'])\n",
    "y = train.answered_correctly"
   ]
  },
  {
   "cell_type": "code",
   "execution_count": 51,
   "metadata": {
    "ExecuteTime": {
     "end_time": "2020-11-30T16:39:45.783913Z",
     "start_time": "2020-11-30T16:38:58.686737Z"
    }
   },
   "outputs": [
    {
     "data": {
      "text/html": [
       "\n",
       "    <div>\n",
       "        <style>\n",
       "            /* Turns off some styling */\n",
       "            progress {\n",
       "                /* gets rid of default border in Firefox and Opera. */\n",
       "                border: none;\n",
       "                /* Needs to be in here for Safari polyfill so background images work as expected. */\n",
       "                background-size: auto;\n",
       "            }\n",
       "            .progress-bar-interrupted, .progress-bar-interrupted::-webkit-progress-bar {\n",
       "                background: #F44336;\n",
       "            }\n",
       "        </style>\n",
       "      <progress value='1225' class='' max='1225', style='width:300px; height:20px; vertical-align: middle;'></progress>\n",
       "      100.00% [1225/1225 00:33<00:00]\n",
       "    </div>\n",
       "    "
      ],
      "text/plain": [
       "<IPython.core.display.HTML object>"
      ]
     },
     "metadata": {},
     "output_type": "display_data"
    },
    {
     "data": {
      "text/html": [
       "\n",
       "    <div>\n",
       "        <style>\n",
       "            /* Turns off some styling */\n",
       "            progress {\n",
       "                /* gets rid of default border in Firefox and Opera. */\n",
       "                border: none;\n",
       "                /* Needs to be in here for Safari polyfill so background images work as expected. */\n",
       "                background-size: auto;\n",
       "            }\n",
       "            .progress-bar-interrupted, .progress-bar-interrupted::-webkit-progress-bar {\n",
       "                background: #F44336;\n",
       "            }\n",
       "        </style>\n",
       "      <progress value='1225' class='' max='1225', style='width:300px; height:20px; vertical-align: middle;'></progress>\n",
       "      100.00% [1225/1225 00:13<00:00]\n",
       "    </div>\n",
       "    "
      ],
      "text/plain": [
       "<IPython.core.display.HTML object>"
      ]
     },
     "metadata": {},
     "output_type": "display_data"
    },
    {
     "name": "stdout",
     "output_type": "stream",
     "text": [
      "Mem. usage decreased to 23.22 Mb (68.3% reduction)\n"
     ]
    }
   ],
   "source": [
    "X_minmax = scale_it(X, X.columns, 'minmax')\n",
    "reduce_mem_usage(X_minmax)"
   ]
  },
  {
   "cell_type": "code",
   "execution_count": 58,
   "metadata": {
    "ExecuteTime": {
     "end_time": "2020-11-30T16:44:54.536021Z",
     "start_time": "2020-11-30T16:44:21.289813Z"
    }
   },
   "outputs": [
    {
     "name": "stderr",
     "output_type": "stream",
     "text": [
      "C:\\Users\\done\\anaconda3\\lib\\site-packages\\sklearn\\linear_model\\_sag.py:330: ConvergenceWarning:\n",
      "\n",
      "The max_iter was reached which means the coef_ did not converge\n",
      "\n"
     ]
    },
    {
     "data": {
      "text/plain": [
       "LogisticRegression(C=0.7140720176503248, intercept_scaling=6.118362684156746,\n",
       "                   l1_ratio=0.630368291400373, n_jobs=-1, penalty='elasticnet',\n",
       "                   random_state=13, solver='saga')"
      ]
     },
     "execution_count": 58,
     "metadata": {},
     "output_type": "execute_result"
    }
   ],
   "source": [
    "model = LogisticRegression(C=0.7140720176503248, intercept_scaling=6.118362684156746,\n",
    "                    l1_ratio=0.630368291400373, n_jobs=-1, penalty='elasticnet',\n",
    "                    random_state=13, solver='saga')\n",
    "model.fit(X, y)"
   ]
  },
  {
   "cell_type": "code",
   "execution_count": 446,
   "metadata": {
    "ExecuteTime": {
     "end_time": "2020-11-25T21:49:59.949742Z",
     "start_time": "2020-11-25T21:37:00.759285Z"
    }
   },
   "outputs": [
    {
     "data": {
      "text/html": [
       "\n",
       "    <div>\n",
       "        <style>\n",
       "            /* Turns off some styling */\n",
       "            progress {\n",
       "                /* gets rid of default border in Firefox and Opera. */\n",
       "                border: none;\n",
       "                /* Needs to be in here for Safari polyfill so background images work as expected. */\n",
       "                background-size: auto;\n",
       "            }\n",
       "            .progress-bar-interrupted, .progress-bar-interrupted::-webkit-progress-bar {\n",
       "                background: #F44336;\n",
       "            }\n",
       "        </style>\n",
       "      <progress value='1226' class='' max='1226', style='width:300px; height:20px; vertical-align: middle;'></progress>\n",
       "      100.00% [1226/1226 08:51<00:00]\n",
       "    </div>\n",
       "    "
      ],
      "text/plain": [
       "<IPython.core.display.HTML object>"
      ]
     },
     "metadata": {},
     "output_type": "display_data"
    },
    {
     "data": {
      "text/html": [
       "\n",
       "    <div>\n",
       "        <style>\n",
       "            /* Turns off some styling */\n",
       "            progress {\n",
       "                /* gets rid of default border in Firefox and Opera. */\n",
       "                border: none;\n",
       "                /* Needs to be in here for Safari polyfill so background images work as expected. */\n",
       "                background-size: auto;\n",
       "            }\n",
       "            .progress-bar-interrupted, .progress-bar-interrupted::-webkit-progress-bar {\n",
       "                background: #F44336;\n",
       "            }\n",
       "        </style>\n",
       "      <progress value='1226' class='' max='1226', style='width:300px; height:20px; vertical-align: middle;'></progress>\n",
       "      100.00% [1226/1226 04:07<00:00]\n",
       "    </div>\n",
       "    "
      ],
      "text/plain": [
       "<IPython.core.display.HTML object>"
      ]
     },
     "metadata": {},
     "output_type": "display_data"
    },
    {
     "name": "stdout",
     "output_type": "stream",
     "text": [
      "Mem. usage decreased to 331.53 Mb (63.9% reduction)\n"
     ]
    }
   ],
   "source": [
    "X_robust = scale_it(X, X.columns, 'robust')\n",
    "reduce_mem_usage(X_robust)"
   ]
  },
  {
   "cell_type": "code",
   "execution_count": 447,
   "metadata": {
    "ExecuteTime": {
     "end_time": "2020-11-25T22:00:36.113316Z",
     "start_time": "2020-11-25T21:50:01.713274Z"
    },
    "scrolled": true
   },
   "outputs": [
    {
     "data": {
      "text/html": [
       "\n",
       "    <div>\n",
       "        <style>\n",
       "            /* Turns off some styling */\n",
       "            progress {\n",
       "                /* gets rid of default border in Firefox and Opera. */\n",
       "                border: none;\n",
       "                /* Needs to be in here for Safari polyfill so background images work as expected. */\n",
       "                background-size: auto;\n",
       "            }\n",
       "            .progress-bar-interrupted, .progress-bar-interrupted::-webkit-progress-bar {\n",
       "                background: #F44336;\n",
       "            }\n",
       "        </style>\n",
       "      <progress value='1226' class='' max='1226', style='width:300px; height:20px; vertical-align: middle;'></progress>\n",
       "      100.00% [1226/1226 08:22<00:00]\n",
       "    </div>\n",
       "    "
      ],
      "text/plain": [
       "<IPython.core.display.HTML object>"
      ]
     },
     "metadata": {},
     "output_type": "display_data"
    },
    {
     "data": {
      "text/html": [
       "\n",
       "    <div>\n",
       "        <style>\n",
       "            /* Turns off some styling */\n",
       "            progress {\n",
       "                /* gets rid of default border in Firefox and Opera. */\n",
       "                border: none;\n",
       "                /* Needs to be in here for Safari polyfill so background images work as expected. */\n",
       "                background-size: auto;\n",
       "            }\n",
       "            .progress-bar-interrupted, .progress-bar-interrupted::-webkit-progress-bar {\n",
       "                background: #F44336;\n",
       "            }\n",
       "        </style>\n",
       "      <progress value='1226' class='' max='1226', style='width:300px; height:20px; vertical-align: middle;'></progress>\n",
       "      100.00% [1226/1226 02:12<00:00]\n",
       "    </div>\n",
       "    "
      ],
      "text/plain": [
       "<IPython.core.display.HTML object>"
      ]
     },
     "metadata": {},
     "output_type": "display_data"
    },
    {
     "name": "stdout",
     "output_type": "stream",
     "text": [
      "Mem. usage decreased to 695.01 Mb (24.4% reduction)\n"
     ]
    }
   ],
   "source": [
    "X_standard = scale_it(X, X.columns, 'standard')\n",
    "reduce_mem_usage(X_standard)"
   ]
  },
  {
   "cell_type": "code",
   "execution_count": 409,
   "metadata": {
    "ExecuteTime": {
     "end_time": "2020-11-25T20:52:33.337408Z",
     "start_time": "2020-11-25T20:41:42.595463Z"
    }
   },
   "outputs": [
    {
     "data": {
      "text/html": [
       "\n",
       "    <div>\n",
       "        <style>\n",
       "            /* Turns off some styling */\n",
       "            progress {\n",
       "                /* gets rid of default border in Firefox and Opera. */\n",
       "                border: none;\n",
       "                /* Needs to be in here for Safari polyfill so background images work as expected. */\n",
       "                background-size: auto;\n",
       "            }\n",
       "            .progress-bar-interrupted, .progress-bar-interrupted::-webkit-progress-bar {\n",
       "                background: #F44336;\n",
       "            }\n",
       "        </style>\n",
       "      <progress value='1' class='' max='1', style='width:300px; height:20px; vertical-align: middle;'></progress>\n",
       "      100.00% [1/1 10:50<00:00]\n",
       "    </div>\n",
       "    "
      ],
      "text/plain": [
       "<IPython.core.display.HTML object>"
      ]
     },
     "metadata": {},
     "output_type": "display_data"
    },
    {
     "name": "stdout",
     "output_type": "stream",
     "text": [
      "log validated in 650.700119972229\n"
     ]
    },
    {
     "data": {
      "text/plain": [
       "log    0.8082\n",
       "Name: val_scores, dtype: float64"
      ]
     },
     "execution_count": 409,
     "metadata": {},
     "output_type": "execute_result"
    }
   ],
   "source": [
    "mm = Lin_Clf({'log': LogisticRegression(C=0.7140720176503248, intercept_scaling=6.118362684156746,\n",
    "                    l1_ratio=0.630368291400373, n_jobs=-1, penalty='l1',\n",
    "                    random_state=13, solver='saga')})\n",
    "mm.val(X_minmax, y)"
   ]
  },
  {
   "cell_type": "code",
   "execution_count": 439,
   "metadata": {
    "ExecuteTime": {
     "end_time": "2020-11-25T21:35:29.991175Z",
     "start_time": "2020-11-25T21:35:29.912322Z"
    }
   },
   "outputs": [],
   "source": [
    "%run \"S:\\YandexDisk\\code\\tasks\\Selection.ipynb\""
   ]
  },
  {
   "cell_type": "code",
   "execution_count": 451,
   "metadata": {
    "ExecuteTime": {
     "end_time": "2020-11-25T22:20:01.884086Z",
     "start_time": "2020-11-25T22:20:01.872118Z"
    },
    "scrolled": true
   },
   "outputs": [],
   "source": [
    "bo = BO_Clf(X_minmax, y)"
   ]
  },
  {
   "cell_type": "code",
   "execution_count": 452,
   "metadata": {
    "ExecuteTime": {
     "end_time": "2020-11-26T06:08:20.315112Z",
     "start_time": "2020-11-25T22:20:03.654988Z"
    },
    "scrolled": true
   },
   "outputs": [
    {
     "name": "stderr",
     "output_type": "stream",
     "text": [
      "[INFO 11-26 00:20:03] ax.service.ax_client: Starting optimization with verbose logging. To disable logging, set the `verbose_logging` argument to `False`. Note that float values in the logs are rounded to 2 decimal points.\n",
      "[WARNING 11-26 00:20:03] ax.service.ax_client: Random seed set to 13. Note that this setting only affects the Sobol quasi-random generator and BoTorch-powered Bayesian optimization models. For the latter models, setting random seed to the same number for two optimizations will make the generated trials similar, but not exactly the same, and over time the trials will diverge more.\n",
      "[INFO 11-26 00:20:03] ax.modelbridge.dispatch_utils: Using Sobol generation strategy.\n"
     ]
    },
    {
     "name": "stdout",
     "output_type": "stream",
     "text": [
      "Optimizing log\n"
     ]
    },
    {
     "data": {
      "text/html": [
       "\n",
       "    <div>\n",
       "        <style>\n",
       "            /* Turns off some styling */\n",
       "            progress {\n",
       "                /* gets rid of default border in Firefox and Opera. */\n",
       "                border: none;\n",
       "                /* Needs to be in here for Safari polyfill so background images work as expected. */\n",
       "                background-size: auto;\n",
       "            }\n",
       "            .progress-bar-interrupted, .progress-bar-interrupted::-webkit-progress-bar {\n",
       "                background: #F44336;\n",
       "            }\n",
       "        </style>\n",
       "      <progress value='200' class='' max='200', style='width:300px; height:20px; vertical-align: middle;'></progress>\n",
       "      100.00% [200/200 7:48:16<00:00]\n",
       "    </div>\n",
       "    "
      ],
      "text/plain": [
       "<IPython.core.display.HTML object>"
      ]
     },
     "metadata": {},
     "output_type": "display_data"
    },
    {
     "name": "stderr",
     "output_type": "stream",
     "text": [
      "[INFO 11-26 00:20:03] ax.service.ax_client: Generated new trial 0 with parameters {'C': 6.14, 'intercept_scaling': 2.41, 'l1_ratio': 0.68, 'penalty': 'elasticnet', 'dual': True, 'solver': 'newton-cg'}.\n",
      "[INFO 11-26 00:20:12] ax.service.ax_client: Completed trial 0 with data: {'ROC_AUC': (nan, nan)}.\n",
      "[INFO 11-26 00:20:12] ax.service.ax_client: Generated new trial 1 with parameters {'C': 4.3, 'intercept_scaling': 4.32, 'l1_ratio': 0.06, 'penalty': 'elasticnet', 'dual': True, 'solver': 'sag'}.\n",
      "[INFO 11-26 00:20:20] ax.service.ax_client: Completed trial 1 with data: {'ROC_AUC': (nan, nan)}.\n",
      "[INFO 11-26 00:20:20] ax.service.ax_client: Generated new trial 2 with parameters {'C': 8.06, 'intercept_scaling': 7.81, 'l1_ratio': 0.92, 'penalty': 'l2', 'dual': False, 'solver': 'saga'}.\n",
      "[INFO 11-26 00:23:16] ax.service.ax_client: Completed trial 2 with data: {'ROC_AUC': (0.81, 0.0)}.\n",
      "[INFO 11-26 00:23:16] ax.service.ax_client: Generated new trial 3 with parameters {'C': 8.91, 'intercept_scaling': 6.38, 'l1_ratio': 0.61, 'penalty': 'none', 'dual': True, 'solver': 'newton-cg'}.\n",
      "[INFO 11-26 00:23:24] ax.service.ax_client: Completed trial 3 with data: {'ROC_AUC': (nan, nan)}.\n",
      "[INFO 11-26 00:23:24] ax.service.ax_client: Generated new trial 4 with parameters {'C': 2.67, 'intercept_scaling': 0.4, 'l1_ratio': 0.4, 'penalty': 'elasticnet', 'dual': False, 'solver': 'saga'}.\n",
      "[INFO 11-26 00:28:10] ax.service.ax_client: Completed trial 4 with data: {'ROC_AUC': (0.81, 0.0)}.\n",
      "[INFO 11-26 00:28:10] ax.service.ax_client: Generated new trial 5 with parameters {'C': 7.16, 'intercept_scaling': 3.52, 'l1_ratio': 0.85, 'penalty': 'l1', 'dual': False, 'solver': 'saga'}.\n",
      "[INFO 11-26 00:32:50] ax.service.ax_client: Completed trial 5 with data: {'ROC_AUC': (0.81, 0.0)}.\n",
      "[INFO 11-26 00:32:50] ax.service.ax_client: Generated new trial 6 with parameters {'C': 0.91, 'intercept_scaling': 9.4, 'l1_ratio': 0.14, 'penalty': 'none', 'dual': True, 'solver': 'newton-cg'}.\n",
      "[INFO 11-26 00:32:58] ax.service.ax_client: Completed trial 6 with data: {'ROC_AUC': (nan, nan)}.\n",
      "[INFO 11-26 00:32:58] ax.service.ax_client: Generated new trial 7 with parameters {'C': 0.35, 'intercept_scaling': 5.49, 'l1_ratio': 0.79, 'penalty': 'l1', 'dual': True, 'solver': 'lbfgs'}.\n",
      "[INFO 11-26 00:33:06] ax.service.ax_client: Completed trial 7 with data: {'ROC_AUC': (nan, nan)}.\n",
      "[INFO 11-26 00:33:06] ax.service.ax_client: Generated new trial 8 with parameters {'C': 6.58, 'intercept_scaling': 1.45, 'l1_ratio': 0.19, 'penalty': 'none', 'dual': False, 'solver': 'saga'}.\n",
      "[INFO 11-26 00:36:02] ax.service.ax_client: Completed trial 8 with data: {'ROC_AUC': (0.81, 0.0)}.\n",
      "[INFO 11-26 00:36:02] ax.service.ax_client: Generated new trial 9 with parameters {'C': 3.58, 'intercept_scaling': 4.65, 'l1_ratio': 0.56, 'penalty': 'elasticnet', 'dual': False, 'solver': 'newton-cg'}.\n",
      "[INFO 11-26 00:36:10] ax.service.ax_client: Completed trial 9 with data: {'ROC_AUC': (nan, nan)}.\n",
      "[INFO 11-26 00:36:10] ax.service.ax_client: Generated new trial 10 with parameters {'C': 9.83, 'intercept_scaling': 8.74, 'l1_ratio': 0.45, 'penalty': 'l2', 'dual': True, 'solver': 'sag'}.\n",
      "[INFO 11-26 00:36:18] ax.service.ax_client: Completed trial 10 with data: {'ROC_AUC': (nan, nan)}.\n",
      "[INFO 11-26 00:36:18] ax.service.ax_client: Generated new trial 11 with parameters {'C': 8.19, 'intercept_scaling': 7.32, 'l1_ratio': 0.01, 'penalty': 'l1', 'dual': False, 'solver': 'newton-cg'}.\n",
      "[INFO 11-26 00:36:26] ax.service.ax_client: Completed trial 11 with data: {'ROC_AUC': (nan, nan)}.\n",
      "[INFO 11-26 00:36:26] ax.service.ax_client: Generated new trial 12 with parameters {'C': 4.45, 'intercept_scaling': 0.73, 'l1_ratio': 0.97, 'penalty': 'none', 'dual': True, 'solver': 'sag'}.\n",
      "[INFO 11-26 00:36:34] ax.service.ax_client: Completed trial 12 with data: {'ROC_AUC': (nan, nan)}.\n",
      "[INFO 11-26 00:36:34] ax.service.ax_client: Generated new trial 13 with parameters {'C': 5.11, 'intercept_scaling': 2.57, 'l1_ratio': 0.28, 'penalty': 'l2', 'dual': True, 'solver': 'lbfgs'}.\n",
      "[INFO 11-26 00:36:42] ax.service.ax_client: Completed trial 13 with data: {'ROC_AUC': (nan, nan)}.\n",
      "[INFO 11-26 00:36:42] ax.service.ax_client: Generated new trial 14 with parameters {'C': 1.35, 'intercept_scaling': 9.1, 'l1_ratio': 0.74, 'penalty': 'none', 'dual': False, 'solver': 'newton-cg'}.\n",
      "[INFO 11-26 01:16:51] ax.service.ax_client: Completed trial 14 with data: {'ROC_AUC': (0.81, 0.0)}.\n",
      "[INFO 11-26 01:16:51] ax.service.ax_client: Generated new trial 15 with parameters {'C': 4.71, 'intercept_scaling': 1.97, 'l1_ratio': 0.95, 'penalty': 'l1', 'dual': False, 'solver': 'sag'}.\n",
      "[INFO 11-26 01:16:59] ax.service.ax_client: Completed trial 15 with data: {'ROC_AUC': (nan, nan)}.\n",
      "[INFO 11-26 01:16:59] ax.service.ax_client: Generated new trial 16 with parameters {'C': 8.47, 'intercept_scaling': 6.06, 'l1_ratio': 0.06, 'penalty': 'elasticnet', 'dual': True, 'solver': 'newton-cg'}.\n",
      "[INFO 11-26 01:17:09] ax.service.ax_client: Completed trial 16 with data: {'ROC_AUC': (nan, nan)}.\n",
      "[INFO 11-26 01:17:09] ax.service.ax_client: Generated new trial 17 with parameters {'C': 1.72, 'intercept_scaling': 7.85, 'l1_ratio': 0.69, 'penalty': 'l2', 'dual': True, 'solver': 'newton-cg'}.\n",
      "[INFO 11-26 01:17:17] ax.service.ax_client: Completed trial 17 with data: {'ROC_AUC': (nan, nan)}.\n",
      "[INFO 11-26 01:17:17] ax.service.ax_client: Generated new trial 18 with parameters {'C': 5.45, 'intercept_scaling': 3.82, 'l1_ratio': 0.29, 'penalty': 'l2', 'dual': False, 'solver': 'lbfgs'}.\n",
      "[INFO 11-26 01:17:50] ax.service.ax_client: Completed trial 18 with data: {'ROC_AUC': (0.81, 0.0)}.\n",
      "[INFO 11-26 01:17:50] ax.service.ax_client: Generated new trial 19 with parameters {'C': 6.33, 'intercept_scaling': 0.21, 'l1_ratio': 0.24, 'penalty': 'l1', 'dual': True, 'solver': 'saga'}.\n",
      "[INFO 11-26 01:17:58] ax.service.ax_client: Completed trial 19 with data: {'ROC_AUC': (nan, nan)}.\n",
      "[INFO 11-26 01:17:58] ax.service.ax_client: Generated new trial 20 with parameters {'C': 0.06, 'intercept_scaling': 6.74, 'l1_ratio': 0.78, 'penalty': 'elasticnet', 'dual': False, 'solver': 'lbfgs'}.\n",
      "[INFO 11-26 01:18:06] ax.service.ax_client: Completed trial 20 with data: {'ROC_AUC': (nan, nan)}.\n",
      "[INFO 11-26 01:18:06] ax.service.ax_client: Generated new trial 21 with parameters {'C': 9.48, 'intercept_scaling': 9.99, 'l1_ratio': 0.47, 'penalty': 'none', 'dual': False, 'solver': 'sag'}.\n",
      "[INFO 11-26 01:20:40] ax.service.ax_client: Completed trial 21 with data: {'ROC_AUC': (0.81, 0.0)}.\n",
      "[INFO 11-26 01:20:40] ax.service.ax_client: Generated new trial 22 with parameters {'C': 3.23, 'intercept_scaling': 3.4, 'l1_ratio': 0.51, 'penalty': 'l2', 'dual': True, 'solver': 'newton-cg'}.\n",
      "[INFO 11-26 01:20:48] ax.service.ax_client: Completed trial 22 with data: {'ROC_AUC': (nan, nan)}.\n",
      "[INFO 11-26 01:20:48] ax.service.ax_client: Generated new trial 23 with parameters {'C': 3.01, 'intercept_scaling': 1.65, 'l1_ratio': 0.42, 'penalty': 'l1', 'dual': True, 'solver': 'saga'}.\n",
      "[INFO 11-26 01:20:56] ax.service.ax_client: Completed trial 23 with data: {'ROC_AUC': (nan, nan)}.\n",
      "[INFO 11-26 01:20:56] ax.service.ax_client: Generated new trial 24 with parameters {'C': 9.28, 'intercept_scaling': 5.14, 'l1_ratio': 0.56, 'penalty': 'l2', 'dual': False, 'solver': 'newton-cg'}.\n",
      "[INFO 11-26 01:36:53] ax.service.ax_client: Completed trial 24 with data: {'ROC_AUC': (0.81, 0.0)}.\n",
      "[INFO 11-26 01:36:53] ax.service.ax_client: Generated new trial 25 with parameters {'C': 1.18, 'intercept_scaling': 8.15, 'l1_ratio': 0.18, 'penalty': 'elasticnet', 'dual': False, 'solver': 'newton-cg'}.\n",
      "[INFO 11-26 01:37:02] ax.service.ax_client: Completed trial 25 with data: {'ROC_AUC': (nan, nan)}.\n",
      "[INFO 11-26 01:37:02] ax.service.ax_client: Generated new trial 26 with parameters {'C': 7.43, 'intercept_scaling': 4.76, 'l1_ratio': 0.83, 'penalty': 'none', 'dual': True, 'solver': 'lbfgs'}.\n",
      "[INFO 11-26 01:37:12] ax.service.ax_client: Completed trial 26 with data: {'ROC_AUC': (nan, nan)}.\n",
      "[INFO 11-26 01:37:12] ax.service.ax_client: Generated new trial 27 with parameters {'C': 5.79, 'intercept_scaling': 1.15, 'l1_ratio': 0.64, 'penalty': 'l2', 'dual': False, 'solver': 'newton-cg'}.\n",
      "[INFO 11-26 01:49:34] ax.service.ax_client: Completed trial 27 with data: {'ROC_AUC': (0.81, 0.0)}.\n"
     ]
    },
    {
     "name": "stderr",
     "output_type": "stream",
     "text": [
      "[INFO 11-26 01:49:34] ax.service.ax_client: Generated new trial 28 with parameters {'C': 2.04, 'intercept_scaling': 7.04, 'l1_ratio': 0.35, 'penalty': 'elasticnet', 'dual': True, 'solver': 'lbfgs'}.\n",
      "[INFO 11-26 01:49:43] ax.service.ax_client: Completed trial 28 with data: {'ROC_AUC': (nan, nan)}.\n",
      "[INFO 11-26 01:49:43] ax.service.ax_client: Generated new trial 29 with parameters {'C': 7.78, 'intercept_scaling': 9.06, 'l1_ratio': 0.91, 'penalty': 'l1', 'dual': True, 'solver': 'saga'}.\n",
      "[INFO 11-26 01:49:53] ax.service.ax_client: Completed trial 29 with data: {'ROC_AUC': (nan, nan)}.\n",
      "[INFO 11-26 01:49:53] ax.service.ax_client: Generated new trial 30 with parameters {'C': 4.04, 'intercept_scaling': 3.08, 'l1_ratio': 0.11, 'penalty': 'none', 'dual': False, 'solver': 'lbfgs'}.\n",
      "[INFO 11-26 01:50:26] ax.service.ax_client: Completed trial 30 with data: {'ROC_AUC': (0.81, 0.0)}.\n",
      "[INFO 11-26 01:50:26] ax.service.ax_client: Generated new trial 31 with parameters {'C': 6.92, 'intercept_scaling': 7.59, 'l1_ratio': 0.59, 'penalty': 'l1', 'dual': True, 'solver': 'saga'}.\n",
      "[INFO 11-26 01:50:34] ax.service.ax_client: Completed trial 31 with data: {'ROC_AUC': (nan, nan)}.\n",
      "[INFO 11-26 01:50:34] ax.service.ax_client: Generated new trial 32 with parameters {'C': 0.68, 'intercept_scaling': 4.2, 'l1_ratio': 0.43, 'penalty': 'none', 'dual': False, 'solver': 'lbfgs'}.\n",
      "[INFO 11-26 01:51:08] ax.service.ax_client: Completed trial 32 with data: {'ROC_AUC': (0.81, 0.0)}.\n",
      "[INFO 11-26 01:51:08] ax.service.ax_client: Generated new trial 33 with parameters {'C': 8.84, 'intercept_scaling': 2.22, 'l1_ratio': 0.82, 'penalty': 'l1', 'dual': False, 'solver': 'newton-cg'}.\n",
      "[INFO 11-26 01:51:16] ax.service.ax_client: Completed trial 33 with data: {'ROC_AUC': (nan, nan)}.\n",
      "[INFO 11-26 01:51:16] ax.service.ax_client: Generated new trial 34 with parameters {'C': 2.59, 'intercept_scaling': 5.7, 'l1_ratio': 0.16, 'penalty': 'none', 'dual': True, 'solver': 'saga'}.\n",
      "[INFO 11-26 01:51:24] ax.service.ax_client: Completed trial 34 with data: {'ROC_AUC': (nan, nan)}.\n",
      "[INFO 11-26 01:51:25] ax.service.ax_client: Generated new trial 35 with parameters {'C': 4.08, 'intercept_scaling': 9.58, 'l1_ratio': 0.37, 'penalty': 'l2', 'dual': False, 'solver': 'newton-cg'}.\n",
      "[INFO 11-26 02:02:41] ax.service.ax_client: Completed trial 35 with data: {'ROC_AUC': (0.81, 0.0)}.\n",
      "[INFO 11-26 02:02:41] ax.service.ax_client: Generated new trial 36 with parameters {'C': 7.82, 'intercept_scaling': 3.61, 'l1_ratio': 0.65, 'penalty': 'elasticnet', 'dual': True, 'solver': 'lbfgs'}.\n",
      "[INFO 11-26 02:02:50] ax.service.ax_client: Completed trial 36 with data: {'ROC_AUC': (nan, nan)}.\n",
      "[INFO 11-26 02:02:50] ax.service.ax_client: Generated new trial 37 with parameters {'C': 2.31, 'intercept_scaling': 0.63, 'l1_ratio': 0.11, 'penalty': 'l1', 'dual': True, 'solver': 'saga'}.\n",
      "[INFO 11-26 02:03:00] ax.service.ax_client: Completed trial 37 with data: {'ROC_AUC': (nan, nan)}.\n",
      "[INFO 11-26 02:03:00] ax.service.ax_client: Generated new trial 38 with parameters {'C': 6.07, 'intercept_scaling': 6.51, 'l1_ratio': 0.88, 'penalty': 'l2', 'dual': False, 'solver': 'lbfgs'}.\n",
      "[INFO 11-26 02:03:33] ax.service.ax_client: Completed trial 38 with data: {'ROC_AUC': (0.81, 0.0)}.\n",
      "[INFO 11-26 02:03:33] ax.service.ax_client: Generated new trial 39 with parameters {'C': 5.18, 'intercept_scaling': 8.53, 'l1_ratio': 0.04, 'penalty': 'l1', 'dual': False, 'solver': 'sag'}.\n",
      "[INFO 11-26 02:03:41] ax.service.ax_client: Completed trial 39 with data: {'ROC_AUC': (nan, nan)}.\n",
      "[INFO 11-26 02:03:41] ax.service.ax_client: Generated new trial 40 with parameters {'C': 1.44, 'intercept_scaling': 4.5, 'l1_ratio': 0.95, 'penalty': 'l2', 'dual': True, 'solver': 'saga'}.\n",
      "[INFO 11-26 02:03:49] ax.service.ax_client: Completed trial 40 with data: {'ROC_AUC': (nan, nan)}.\n",
      "[INFO 11-26 02:03:49] ax.service.ax_client: Generated new trial 41 with parameters {'C': 8.43, 'intercept_scaling': 1.3, 'l1_ratio': 0.3, 'penalty': 'elasticnet', 'dual': True, 'solver': 'newton-cg'}.\n",
      "[INFO 11-26 02:03:57] ax.service.ax_client: Completed trial 41 with data: {'ROC_AUC': (nan, nan)}.\n",
      "[INFO 11-26 02:03:57] ax.service.ax_client: Generated new trial 42 with parameters {'C': 4.67, 'intercept_scaling': 5.38, 'l1_ratio': 0.71, 'penalty': 'l2', 'dual': False, 'solver': 'sag'}.\n",
      "[INFO 11-26 02:06:33] ax.service.ax_client: Completed trial 42 with data: {'ROC_AUC': (0.81, 0.0)}.\n",
      "[INFO 11-26 02:06:33] ax.service.ax_client: Generated new trial 43 with parameters {'C': 3.67, 'intercept_scaling': 9.27, 'l1_ratio': 0.76, 'penalty': 'none', 'dual': True, 'solver': 'newton-cg'}.\n",
      "[INFO 11-26 02:06:41] ax.service.ax_client: Completed trial 43 with data: {'ROC_AUC': (nan, nan)}.\n",
      "[INFO 11-26 02:06:42] ax.service.ax_client: Generated new trial 44 with parameters {'C': 9.9, 'intercept_scaling': 2.68, 'l1_ratio': 0.23, 'penalty': 'elasticnet', 'dual': False, 'solver': 'lbfgs'}.\n",
      "[INFO 11-26 02:06:50] ax.service.ax_client: Completed trial 44 with data: {'ROC_AUC': (nan, nan)}.\n",
      "[INFO 11-26 02:06:50] ax.service.ax_client: Generated new trial 45 with parameters {'C': 0.57, 'intercept_scaling': 0.93, 'l1_ratio': 0.52, 'penalty': 'l1', 'dual': False, 'solver': 'sag'}.\n",
      "[INFO 11-26 02:06:58] ax.service.ax_client: Completed trial 45 with data: {'ROC_AUC': (nan, nan)}.\n",
      "[INFO 11-26 02:06:58] ax.service.ax_client: Generated new trial 46 with parameters {'C': 6.83, 'intercept_scaling': 7.45, 'l1_ratio': 0.5, 'penalty': 'l2', 'dual': True, 'solver': 'newton-cg'}.\n",
      "[INFO 11-26 02:07:06] ax.service.ax_client: Completed trial 46 with data: {'ROC_AUC': (nan, nan)}.\n",
      "[INFO 11-26 02:07:06] ax.service.ax_client: Generated new trial 47 with parameters {'C': 9.57, 'intercept_scaling': 3.93, 'l1_ratio': 0.21, 'penalty': 'l1', 'dual': True, 'solver': 'sag'}.\n",
      "[INFO 11-26 02:07:14] ax.service.ax_client: Completed trial 47 with data: {'ROC_AUC': (nan, nan)}.\n",
      "[INFO 11-26 02:07:15] ax.service.ax_client: Generated new trial 48 with parameters {'C': 3.3, 'intercept_scaling': 8.01, 'l1_ratio': 0.8, 'penalty': 'none', 'dual': False, 'solver': 'newton-cg'}.\n",
      "[INFO 11-26 02:47:32] ax.service.ax_client: Completed trial 48 with data: {'ROC_AUC': (0.81, 0.0)}.\n",
      "[INFO 11-26 02:47:32] ax.service.ax_client: Generated new trial 49 with parameters {'C': 6.55, 'intercept_scaling': 6.21, 'l1_ratio': 0.45, 'penalty': 'elasticnet', 'dual': False, 'solver': 'lbfgs'}.\n",
      "[INFO 11-26 02:47:40] ax.service.ax_client: Completed trial 49 with data: {'ROC_AUC': (nan, nan)}.\n",
      "[INFO 11-26 02:47:41] ax.service.ax_client: Generated new trial 50 with parameters {'C': 0.3, 'intercept_scaling': 2.18, 'l1_ratio': 0.53, 'penalty': 'l2', 'dual': True, 'solver': 'lbfgs'}.\n",
      "[INFO 11-26 02:47:50] ax.service.ax_client: Completed trial 50 with data: {'ROC_AUC': (nan, nan)}.\n",
      "[INFO 11-26 02:47:51] ax.service.ax_client: Generated new trial 51 with parameters {'C': 1.78, 'intercept_scaling': 3.26, 'l1_ratio': 1.0, 'penalty': 'l1', 'dual': False, 'solver': 'saga'}.\n",
      "[INFO 11-26 02:52:28] ax.service.ax_client: Completed trial 51 with data: {'ROC_AUC': (0.81, 0.0)}.\n",
      "[INFO 11-26 02:52:28] ax.service.ax_client: Generated new trial 52 with parameters {'C': 5.54, 'intercept_scaling': 9.78, 'l1_ratio': 0.02, 'penalty': 'elasticnet', 'dual': True, 'solver': 'sag'}.\n",
      "[INFO 11-26 02:52:36] ax.service.ax_client: Completed trial 52 with data: {'ROC_AUC': (nan, nan)}.\n",
      "[INFO 11-26 02:52:36] ax.service.ax_client: Generated new trial 53 with parameters {'C': 4.96, 'intercept_scaling': 6.63, 'l1_ratio': 0.73, 'penalty': 'l1', 'dual': True, 'solver': 'lbfgs'}.\n",
      "[INFO 11-26 02:52:45] ax.service.ax_client: Completed trial 53 with data: {'ROC_AUC': (nan, nan)}.\n",
      "[INFO 11-26 02:52:45] ax.service.ax_client: Generated new trial 54 with parameters {'C': 8.7, 'intercept_scaling': 0.04, 'l1_ratio': 0.25, 'penalty': 'none', 'dual': False, 'solver': 'newton-cg'}.\n",
      "[INFO 11-26 03:34:24] ax.service.ax_client: Completed trial 54 with data: {'ROC_AUC': (0.81, 0.0)}.\n",
      "[INFO 11-26 03:34:24] ax.service.ax_client: Generated new trial 55 with parameters {'C': 7.55, 'intercept_scaling': 4.86, 'l1_ratio': 0.66, 'penalty': 'l2', 'dual': False, 'solver': 'lbfgs'}.\n",
      "[INFO 11-26 03:34:58] ax.service.ax_client: Completed trial 55 with data: {'ROC_AUC': (0.81, 0.0)}.\n"
     ]
    },
    {
     "name": "stderr",
     "output_type": "stream",
     "text": [
      "[INFO 11-26 03:34:58] ax.service.ax_client: Generated new trial 56 with parameters {'C': 3.79, 'intercept_scaling': 8.34, 'l1_ratio': 0.32, 'penalty': 'elasticnet', 'dual': True, 'solver': 'newton-cg'}.\n",
      "[INFO 11-26 03:35:08] ax.service.ax_client: Completed trial 56 with data: {'ROC_AUC': (nan, nan)}.\n",
      "[INFO 11-26 03:35:08] ax.service.ax_client: Generated new trial 57 with parameters {'C': 5.71, 'intercept_scaling': 5.26, 'l1_ratio': 0.92, 'penalty': 'elasticnet', 'dual': True, 'solver': 'lbfgs'}.\n",
      "[INFO 11-26 03:35:16] ax.service.ax_client: Completed trial 57 with data: {'ROC_AUC': (nan, nan)}.\n",
      "[INFO 11-26 03:35:16] ax.service.ax_client: Generated new trial 58 with parameters {'C': 1.97, 'intercept_scaling': 1.88, 'l1_ratio': 0.09, 'penalty': 'l2', 'dual': False, 'solver': 'saga'}.\n",
      "[INFO 11-26 03:38:10] ax.service.ax_client: Completed trial 58 with data: {'ROC_AUC': (0.81, 0.0)}.\n",
      "[INFO 11-26 03:38:11] ax.service.ax_client: Generated new trial 59 with parameters {'C': 0.94, 'intercept_scaling': 2.95, 'l1_ratio': 0.38, 'penalty': 'l1', 'dual': True, 'solver': 'lbfgs'}.\n",
      "[INFO 11-26 03:38:19] ax.service.ax_client: Completed trial 59 with data: {'ROC_AUC': (nan, nan)}.\n",
      "[INFO 11-26 03:38:19] ax.service.ax_client: Generated new trial 60 with parameters {'C': 7.2, 'intercept_scaling': 8.83, 'l1_ratio': 0.61, 'penalty': 'l2', 'dual': False, 'solver': 'saga'}.\n",
      "[INFO 11-26 03:41:13] ax.service.ax_client: Completed trial 60 with data: {'ROC_AUC': (0.81, 0.0)}.\n",
      "[INFO 11-26 03:41:13] ax.service.ax_client: Generated new trial 61 with parameters {'C': 2.94, 'intercept_scaling': 6.95, 'l1_ratio': 0.15, 'penalty': 'none', 'dual': False, 'solver': 'lbfgs'}.\n",
      "[INFO 11-26 03:41:47] ax.service.ax_client: Completed trial 61 with data: {'ROC_AUC': (0.81, 0.0)}.\n",
      "[INFO 11-26 03:41:48] ax.service.ax_client: Generated new trial 62 with parameters {'C': 9.19, 'intercept_scaling': 0.98, 'l1_ratio': 0.87, 'penalty': 'elasticnet', 'dual': True, 'solver': 'sag'}.\n",
      "[INFO 11-26 03:41:56] ax.service.ax_client: Completed trial 62 with data: {'ROC_AUC': (nan, nan)}.\n",
      "[INFO 11-26 03:41:56] ax.service.ax_client: Generated new trial 63 with parameters {'C': 8.66, 'intercept_scaling': 9.66, 'l1_ratio': 0.55, 'penalty': 'l1', 'dual': False, 'solver': 'lbfgs'}.\n",
      "[INFO 11-26 03:42:04] ax.service.ax_client: Completed trial 63 with data: {'ROC_AUC': (nan, nan)}.\n",
      "[INFO 11-26 03:42:04] ax.service.ax_client: Generated new trial 64 with parameters {'C': 4.92, 'intercept_scaling': 3.7, 'l1_ratio': 0.47, 'penalty': 'elasticnet', 'dual': True, 'solver': 'newton-cg'}.\n",
      "[INFO 11-26 03:42:12] ax.service.ax_client: Completed trial 64 with data: {'ROC_AUC': (nan, nan)}.\n",
      "[INFO 11-26 03:42:12] ax.service.ax_client: Generated new trial 65 with parameters {'C': 5.58, 'intercept_scaling': 0.54, 'l1_ratio': 0.79, 'penalty': 'elasticnet', 'dual': True, 'solver': 'saga'}.\n",
      "[INFO 11-26 03:42:20] ax.service.ax_client: Completed trial 65 with data: {'ROC_AUC': (nan, nan)}.\n",
      "[INFO 11-26 03:42:21] ax.service.ax_client: Generated new trial 66 with parameters {'C': 1.82, 'intercept_scaling': 6.44, 'l1_ratio': 0.2, 'penalty': 'none', 'dual': False, 'solver': 'sag'}.\n",
      "[INFO 11-26 03:44:58] ax.service.ax_client: Completed trial 66 with data: {'ROC_AUC': (0.81, 0.0)}.\n",
      "[INFO 11-26 03:44:58] ax.service.ax_client: Generated new trial 67 with parameters {'C': 0.19, 'intercept_scaling': 7.51, 'l1_ratio': 0.27, 'penalty': 'l1', 'dual': True, 'solver': 'lbfgs'}.\n",
      "[INFO 11-26 03:45:06] ax.service.ax_client: Completed trial 67 with data: {'ROC_AUC': (nan, nan)}.\n",
      "[INFO 11-26 03:45:06] ax.service.ax_client: Generated new trial 68 with parameters {'C': 6.43, 'intercept_scaling': 4.11, 'l1_ratio': 0.74, 'penalty': 'elasticnet', 'dual': False, 'solver': 'sag'}.\n",
      "[INFO 11-26 03:45:15] ax.service.ax_client: Completed trial 68 with data: {'ROC_AUC': (nan, nan)}.\n",
      "[INFO 11-26 03:45:15] ax.service.ax_client: Generated new trial 69 with parameters {'C': 3.43, 'intercept_scaling': 2.31, 'l1_ratio': 0.0, 'penalty': 'l2', 'dual': False, 'solver': 'lbfgs'}.\n",
      "[INFO 11-26 03:45:48] ax.service.ax_client: Completed trial 69 with data: {'ROC_AUC': (0.81, 0.0)}.\n",
      "[INFO 11-26 03:45:49] ax.service.ax_client: Generated new trial 70 with parameters {'C': 9.68, 'intercept_scaling': 5.77, 'l1_ratio': 0.98, 'penalty': 'none', 'dual': True, 'solver': 'newton-cg'}.\n",
      "[INFO 11-26 03:45:56] ax.service.ax_client: Completed trial 70 with data: {'ROC_AUC': (nan, nan)}.\n",
      "[INFO 11-26 03:45:57] ax.service.ax_client: Generated new trial 71 with parameters {'C': 9.06, 'intercept_scaling': 9.35, 'l1_ratio': 0.08, 'penalty': 'l1', 'dual': True, 'solver': 'lbfgs'}.\n",
      "[INFO 11-26 03:46:05] ax.service.ax_client: Completed trial 71 with data: {'ROC_AUC': (nan, nan)}.\n",
      "[INFO 11-26 03:46:05] ax.service.ax_client: Generated new trial 72 with parameters {'C': 2.83, 'intercept_scaling': 2.75, 'l1_ratio': 0.91, 'penalty': 'elasticnet', 'dual': False, 'solver': 'newton-cg'}.\n",
      "[INFO 11-26 03:46:13] ax.service.ax_client: Completed trial 72 with data: {'ROC_AUC': (nan, nan)}.\n",
      "[INFO 11-26 03:46:14] ax.service.ax_client: Generated new trial 73 with parameters {'C': 7.32, 'intercept_scaling': 0.87, 'l1_ratio': 0.34, 'penalty': 'elasticnet', 'dual': False, 'solver': 'sag'}.\n",
      "[INFO 11-26 03:46:21] ax.service.ax_client: Completed trial 73 with data: {'ROC_AUC': (nan, nan)}.\n",
      "[INFO 11-26 03:46:22] ax.service.ax_client: Generated new trial 74 with parameters {'C': 1.06, 'intercept_scaling': 7.37, 'l1_ratio': 0.68, 'penalty': 'l2', 'dual': True, 'solver': 'saga'}.\n",
      "[INFO 11-26 03:46:30] ax.service.ax_client: Completed trial 74 with data: {'ROC_AUC': (nan, nan)}.\n",
      "[INFO 11-26 03:46:30] ax.service.ax_client: Generated new trial 75 with parameters {'C': 1.93, 'intercept_scaling': 8.44, 'l1_ratio': 0.85, 'penalty': 'l1', 'dual': False, 'solver': 'lbfgs'}.\n",
      "[INFO 11-26 03:46:38] ax.service.ax_client: Completed trial 75 with data: {'ROC_AUC': (nan, nan)}.\n",
      "[INFO 11-26 03:46:39] ax.service.ax_client: Generated new trial 76 with parameters {'C': 5.67, 'intercept_scaling': 4.44, 'l1_ratio': 0.13, 'penalty': 'l2', 'dual': True, 'solver': 'saga'}.\n",
      "[INFO 11-26 03:46:46] ax.service.ax_client: Completed trial 76 with data: {'ROC_AUC': (nan, nan)}.\n",
      "[INFO 11-26 03:46:47] ax.service.ax_client: Generated new trial 77 with parameters {'C': 3.83, 'intercept_scaling': 1.36, 'l1_ratio': 0.62, 'penalty': 'none', 'dual': True, 'solver': 'lbfgs'}.\n",
      "[INFO 11-26 03:46:55] ax.service.ax_client: Completed trial 77 with data: {'ROC_AUC': (nan, nan)}.\n",
      "[INFO 11-26 03:46:55] ax.service.ax_client: Generated new trial 78 with parameters {'C': 7.59, 'intercept_scaling': 5.47, 'l1_ratio': 0.39, 'penalty': 'elasticnet', 'dual': False, 'solver': 'newton-cg'}.\n",
      "[INFO 11-26 03:47:03] ax.service.ax_client: Completed trial 78 with data: {'ROC_AUC': (nan, nan)}.\n",
      "[INFO 11-26 03:47:04] ax.service.ax_client: Generated new trial 79 with parameters {'C': 5.95, 'intercept_scaling': 3.18, 'l1_ratio': 0.18, 'penalty': 'l1', 'dual': False, 'solver': 'saga'}.\n",
      "[INFO 11-26 03:51:46] ax.service.ax_client: Completed trial 79 with data: {'ROC_AUC': (0.81, 0.0)}.\n",
      "[INFO 11-26 03:51:47] ax.service.ax_client: Generated new trial 80 with parameters {'C': 2.19, 'intercept_scaling': 9.69, 'l1_ratio': 0.84, 'penalty': 'none', 'dual': True, 'solver': 'sag'}.\n",
      "[INFO 11-26 03:51:54] ax.service.ax_client: Completed trial 80 with data: {'ROC_AUC': (nan, nan)}.\n",
      "[INFO 11-26 03:51:55] ax.service.ax_client: Generated new trial 81 with parameters {'C': 7.93, 'intercept_scaling': 6.72, 'l1_ratio': 0.41, 'penalty': 'elasticnet', 'dual': True, 'solver': 'newton-cg'}.\n",
      "[INFO 11-26 03:52:03] ax.service.ax_client: Completed trial 81 with data: {'ROC_AUC': (nan, nan)}.\n",
      "[INFO 11-26 03:52:03] ax.service.ax_client: Generated new trial 82 with parameters {'C': 4.2, 'intercept_scaling': 0.12, 'l1_ratio': 0.58, 'penalty': 'none', 'dual': False, 'solver': 'lbfgs'}.\n",
      "[INFO 11-26 03:52:37] ax.service.ax_client: Completed trial 82 with data: {'ROC_AUC': (0.81, 0.0)}.\n",
      "[INFO 11-26 03:52:37] ax.service.ax_client: Generated new trial 83 with parameters {'C': 2.54, 'intercept_scaling': 4.0, 'l1_ratio': 0.89, 'penalty': 'l2', 'dual': True, 'solver': 'newton-cg'}.\n",
      "[INFO 11-26 03:52:45] ax.service.ax_client: Completed trial 83 with data: {'ROC_AUC': (nan, nan)}.\n"
     ]
    },
    {
     "name": "stderr",
     "output_type": "stream",
     "text": [
      "[INFO 11-26 03:52:45] ax.service.ax_client: Generated new trial 84 with parameters {'C': 8.81, 'intercept_scaling': 8.1, 'l1_ratio': 0.12, 'penalty': 'elasticnet', 'dual': False, 'solver': 'saga'}.\n",
      "[INFO 11-26 03:57:47] ax.service.ax_client: Completed trial 84 with data: {'ROC_AUC': (0.81, 0.0)}.\n",
      "[INFO 11-26 03:57:47] ax.service.ax_client: Generated new trial 85 with parameters {'C': 0.71, 'intercept_scaling': 6.12, 'l1_ratio': 0.63, 'penalty': 'l1', 'dual': False, 'solver': 'saga'}.\n",
      "[INFO 11-26 04:02:30] ax.service.ax_client: Completed trial 85 with data: {'ROC_AUC': (0.81, 0.0)}.\n",
      "[INFO 11-26 04:02:31] ax.service.ax_client: Generated new trial 86 with parameters {'C': 6.96, 'intercept_scaling': 2.11, 'l1_ratio': 0.35, 'penalty': 'none', 'dual': True, 'solver': 'lbfgs'}.\n",
      "[INFO 11-26 04:02:41] ax.service.ax_client: Completed trial 86 with data: {'ROC_AUC': (nan, nan)}.\n",
      "[INFO 11-26 04:02:41] ax.service.ax_client: Generated new trial 87 with parameters {'C': 6.8, 'intercept_scaling': 2.87, 'l1_ratio': 0.7, 'penalty': 'none', 'dual': True, 'solver': 'sag'}.\n",
      "[INFO 11-26 04:02:49] ax.service.ax_client: Completed trial 87 with data: {'ROC_AUC': (nan, nan)}.\n",
      "[INFO 11-26 04:02:49] ax.service.ax_client: Generated new trial 88 with parameters {'C': 0.53, 'intercept_scaling': 8.77, 'l1_ratio': 0.29, 'penalty': 'l2', 'dual': False, 'solver': 'saga'}.\n",
      "[INFO 11-26 04:05:46] ax.service.ax_client: Completed trial 88 with data: {'ROC_AUC': (0.81, 0.0)}.\n",
      "[INFO 11-26 04:05:47] ax.service.ax_client: Generated new trial 89 with parameters {'C': 9.95, 'intercept_scaling': 7.02, 'l1_ratio': 0.97, 'penalty': 'l1', 'dual': False, 'solver': 'newton-cg'}.\n",
      "[INFO 11-26 04:05:55] ax.service.ax_client: Completed trial 89 with data: {'ROC_AUC': (nan, nan)}.\n",
      "[INFO 11-26 04:05:55] ax.service.ax_client: Generated new trial 90 with parameters {'C': 3.7, 'intercept_scaling': 1.06, 'l1_ratio': 0.05, 'penalty': 'none', 'dual': True, 'solver': 'lbfgs'}.\n",
      "[INFO 11-26 04:06:03] ax.service.ax_client: Completed trial 90 with data: {'ROC_AUC': (nan, nan)}.\n",
      "[INFO 11-26 04:06:03] ax.service.ax_client: Generated new trial 91 with parameters {'C': 4.56, 'intercept_scaling': 4.94, 'l1_ratio': 0.48, 'penalty': 'l1', 'dual': False, 'solver': 'newton-cg'}.\n",
      "[INFO 11-26 04:06:11] ax.service.ax_client: Completed trial 91 with data: {'ROC_AUC': (nan, nan)}.\n",
      "[INFO 11-26 04:06:12] ax.service.ax_client: Generated new trial 92 with parameters {'C': 8.31, 'intercept_scaling': 8.4, 'l1_ratio': 0.5, 'penalty': 'elasticnet', 'dual': True, 'solver': 'lbfgs'}.\n",
      "[INFO 11-26 04:06:20] ax.service.ax_client: Completed trial 92 with data: {'ROC_AUC': (nan, nan)}.\n",
      "[INFO 11-26 04:06:20] ax.service.ax_client: Generated new trial 93 with parameters {'C': 1.56, 'intercept_scaling': 5.2, 'l1_ratio': 0.24, 'penalty': 'none', 'dual': True, 'solver': 'sag'}.\n",
      "[INFO 11-26 04:06:28] ax.service.ax_client: Completed trial 93 with data: {'ROC_AUC': (nan, nan)}.\n",
      "[INFO 11-26 04:06:29] ax.service.ax_client: Generated new trial 94 with parameters {'C': 5.3, 'intercept_scaling': 1.79, 'l1_ratio': 0.77, 'penalty': 'l2', 'dual': False, 'solver': 'saga'}.\n",
      "[INFO 11-26 04:09:26] ax.service.ax_client: Completed trial 94 with data: {'ROC_AUC': (0.81, 0.0)}.\n",
      "[INFO 11-26 04:09:26] ax.service.ax_client: Generated new trial 95 with parameters {'C': 3.2, 'intercept_scaling': 6.3, 'l1_ratio': 0.31, 'penalty': 'l1', 'dual': True, 'solver': 'saga'}.\n",
      "[INFO 11-26 04:09:34] ax.service.ax_client: Completed trial 95 with data: {'ROC_AUC': (nan, nan)}.\n",
      "[INFO 11-26 04:09:34] ax.service.ax_client: Generated new trial 96 with parameters {'C': 9.44, 'intercept_scaling': 0.34, 'l1_ratio': 0.71, 'penalty': 'elasticnet', 'dual': False, 'solver': 'lbfgs'}.\n",
      "[INFO 11-26 04:09:42] ax.service.ax_client: Completed trial 96 with data: {'ROC_AUC': (nan, nan)}.\n",
      "[INFO 11-26 04:09:43] ax.service.ax_client: Generated new trial 97 with parameters {'C': 0.11, 'intercept_scaling': 3.58, 'l1_ratio': 0.04, 'penalty': 'none', 'dual': False, 'solver': 'saga'}.\n",
      "[INFO 11-26 04:12:43] ax.service.ax_client: Completed trial 97 with data: {'ROC_AUC': (0.81, 0.0)}.\n",
      "[INFO 11-26 04:12:43] ax.service.ax_client: Generated new trial 98 with parameters {'C': 6.36, 'intercept_scaling': 9.49, 'l1_ratio': 0.94, 'penalty': 'l1', 'dual': True, 'solver': 'sag'}.\n",
      "[INFO 11-26 04:12:51] ax.service.ax_client: Completed trial 98 with data: {'ROC_AUC': (nan, nan)}.\n",
      "[INFO 11-26 04:12:52] ax.service.ax_client: Generated new trial 99 with parameters {'C': 5.34, 'intercept_scaling': 5.88, 'l1_ratio': 0.53, 'penalty': 'none', 'dual': False, 'solver': 'newton-cg'}.\n",
      "[INFO 11-26 04:54:16] ax.service.ax_client: Completed trial 99 with data: {'ROC_AUC': (0.81, 0.0)}.\n",
      "[INFO 11-26 04:54:17] ax.service.ax_client: Generated new trial 100 with parameters {'C': 1.6, 'intercept_scaling': 2.47, 'l1_ratio': 0.49, 'penalty': 'elasticnet', 'dual': True, 'solver': 'lbfgs'}.\n",
      "[INFO 11-26 04:54:25] ax.service.ax_client: Completed trial 100 with data: {'ROC_AUC': (nan, nan)}.\n",
      "[INFO 11-26 04:54:25] ax.service.ax_client: Generated new trial 101 with parameters {'C': 8.59, 'intercept_scaling': 4.26, 'l1_ratio': 0.76, 'penalty': 'l1', 'dual': True, 'solver': 'sag'}.\n",
      "[INFO 11-26 04:54:35] ax.service.ax_client: Completed trial 101 with data: {'ROC_AUC': (nan, nan)}.\n",
      "[INFO 11-26 04:54:36] ax.service.ax_client: Generated new trial 102 with parameters {'C': 4.83, 'intercept_scaling': 7.73, 'l1_ratio': 0.23, 'penalty': 'l2', 'dual': False, 'solver': 'newton-cg'}.\n",
      "[INFO 11-26 05:07:21] ax.service.ax_client: Completed trial 102 with data: {'ROC_AUC': (0.81, 0.0)}.\n",
      "[INFO 11-26 05:07:21] ax.service.ax_client: Generated new trial 103 with parameters {'C': 3.92, 'intercept_scaling': 7.24, 'l1_ratio': 0.82, 'penalty': 'l1', 'dual': False, 'solver': 'saga'}.\n",
      "[INFO 11-26 05:12:03] ax.service.ax_client: Completed trial 103 with data: {'ROC_AUC': (0.81, 0.0)}.\n",
      "[INFO 11-26 05:12:04] ax.service.ax_client: Generated new trial 104 with parameters {'C': 7.66, 'intercept_scaling': 0.64, 'l1_ratio': 0.17, 'penalty': 'l2', 'dual': True, 'solver': 'lbfgs'}.\n",
      "[INFO 11-26 05:12:13] ax.service.ax_client: Completed trial 104 with data: {'ROC_AUC': (nan, nan)}.\n",
      "[INFO 11-26 05:12:14] ax.service.ax_client: Generated new trial 105 with parameters {'C': 2.15, 'intercept_scaling': 2.66, 'l1_ratio': 0.58, 'penalty': 'elasticnet', 'dual': True, 'solver': 'sag'}.\n",
      "[INFO 11-26 05:12:22] ax.service.ax_client: Completed trial 105 with data: {'ROC_AUC': (nan, nan)}.\n",
      "[INFO 11-26 05:12:22] ax.service.ax_client: Generated new trial 106 with parameters {'C': 5.91, 'intercept_scaling': 9.17, 'l1_ratio': 0.43, 'penalty': 'none', 'dual': False, 'solver': 'lbfgs'}.\n",
      "[INFO 11-26 05:12:56] ax.service.ax_client: Completed trial 106 with data: {'ROC_AUC': (0.81, 0.0)}.\n",
      "[INFO 11-26 05:12:57] ax.service.ax_client: Generated new trial 107 with parameters {'C': 7.38, 'intercept_scaling': 5.56, 'l1_ratio': 0.1, 'penalty': 'l1', 'dual': True, 'solver': 'sag'}.\n",
      "[INFO 11-26 05:13:05] ax.service.ax_client: Completed trial 107 with data: {'ROC_AUC': (nan, nan)}.\n",
      "[INFO 11-26 05:13:05] ax.service.ax_client: Generated new trial 108 with parameters {'C': 1.15, 'intercept_scaling': 1.55, 'l1_ratio': 0.89, 'penalty': 'elasticnet', 'dual': False, 'solver': 'saga'}.\n",
      "[INFO 11-26 05:17:50] ax.service.ax_client: Completed trial 108 with data: {'ROC_AUC': (0.81, 0.0)}.\n",
      "[INFO 11-26 05:17:50] ax.service.ax_client: Generated new trial 109 with parameters {'C': 9.31, 'intercept_scaling': 4.56, 'l1_ratio': 0.37, 'penalty': 'elasticnet', 'dual': False, 'solver': 'saga'}.\n",
      "[INFO 11-26 05:22:40] ax.service.ax_client: Completed trial 109 with data: {'ROC_AUC': (0.81, 0.0)}.\n",
      "[INFO 11-26 05:22:40] ax.service.ax_client: Generated new trial 110 with parameters {'C': 3.05, 'intercept_scaling': 8.67, 'l1_ratio': 0.65, 'penalty': 'none', 'dual': True, 'solver': 'newton-cg'}.\n",
      "[INFO 11-26 05:22:48] ax.service.ax_client: Completed trial 110 with data: {'ROC_AUC': (nan, nan)}.\n",
      "[INFO 11-26 05:22:49] ax.service.ax_client: Generated new trial 111 with parameters {'C': 0.78, 'intercept_scaling': 0.29, 'l1_ratio': 0.94, 'penalty': 'l2', 'dual': True, 'solver': 'saga'}.\n",
      "[INFO 11-26 05:22:56] ax.service.ax_client: Completed trial 111 with data: {'ROC_AUC': (nan, nan)}.\n"
     ]
    },
    {
     "name": "stderr",
     "output_type": "stream",
     "text": [
      "[INFO 11-26 05:22:57] ax.service.ax_client: Generated new trial 112 with parameters {'C': 7.05, 'intercept_scaling': 6.8, 'l1_ratio': 0.08, 'penalty': 'elasticnet', 'dual': False, 'solver': 'sag'}.\n",
      "[INFO 11-26 05:23:05] ax.service.ax_client: Completed trial 112 with data: {'ROC_AUC': (nan, nan)}.\n",
      "[INFO 11-26 05:23:06] ax.service.ax_client: Generated new trial 113 with parameters {'C': 2.79, 'intercept_scaling': 9.92, 'l1_ratio': 0.66, 'penalty': 'l1', 'dual': False, 'solver': 'newton-cg'}.\n",
      "[INFO 11-26 05:23:14] ax.service.ax_client: Completed trial 113 with data: {'ROC_AUC': (nan, nan)}.\n",
      "[INFO 11-26 05:23:14] ax.service.ax_client: Generated new trial 114 with parameters {'C': 9.03, 'intercept_scaling': 3.31, 'l1_ratio': 0.32, 'penalty': 'l2', 'dual': True, 'solver': 'saga'}.\n",
      "[INFO 11-26 05:23:22] ax.service.ax_client: Completed trial 114 with data: {'ROC_AUC': (nan, nan)}.\n",
      "[INFO 11-26 05:23:23] ax.service.ax_client: Generated new trial 115 with parameters {'C': 8.02, 'intercept_scaling': 1.89, 'l1_ratio': 0.15, 'penalty': 'none', 'dual': False, 'solver': 'newton-cg'}.\n",
      "[INFO 11-26 06:04:04] ax.service.ax_client: Completed trial 115 with data: {'ROC_AUC': (0.81, 0.0)}.\n",
      "[INFO 11-26 06:04:05] ax.service.ax_client: Generated new trial 116 with parameters {'C': 4.26, 'intercept_scaling': 6.0, 'l1_ratio': 0.87, 'penalty': 'elasticnet', 'dual': True, 'solver': 'saga'}.\n",
      "[INFO 11-26 06:04:13] ax.service.ax_client: Completed trial 116 with data: {'ROC_AUC': (nan, nan)}.\n",
      "[INFO 11-26 06:04:13] ax.service.ax_client: Generated new trial 117 with parameters {'C': 6.18, 'intercept_scaling': 7.92, 'l1_ratio': 0.39, 'penalty': 'l1', 'dual': True, 'solver': 'lbfgs'}.\n",
      "[INFO 11-26 06:04:23] ax.service.ax_client: Completed trial 117 with data: {'ROC_AUC': (nan, nan)}.\n",
      "[INFO 11-26 06:04:24] ax.service.ax_client: Generated new trial 118 with parameters {'C': 2.44, 'intercept_scaling': 3.9, 'l1_ratio': 0.6, 'penalty': 'l1', 'dual': False, 'solver': 'sag'}.\n",
      "[INFO 11-26 06:04:32] ax.service.ax_client: Completed trial 118 with data: {'ROC_AUC': (nan, nan)}.\n",
      "[INFO 11-26 06:04:32] ax.service.ax_client: Generated new trial 119 with parameters {'C': 1.31, 'intercept_scaling': 1.23, 'l1_ratio': 0.44, 'penalty': 'l1', 'dual': False, 'solver': 'sag'}.\n",
      "[INFO 11-26 06:04:40] ax.service.ax_client: Completed trial 119 with data: {'ROC_AUC': (nan, nan)}.\n",
      "[INFO 11-26 06:04:41] ax.service.ax_client: Generated new trial 120 with parameters {'C': 5.07, 'intercept_scaling': 7.13, 'l1_ratio': 0.54, 'penalty': 'none', 'dual': True, 'solver': 'newton-cg'}.\n",
      "[INFO 11-26 06:04:49] ax.service.ax_client: Completed trial 120 with data: {'ROC_AUC': (nan, nan)}.\n",
      "[INFO 11-26 06:04:49] ax.service.ax_client: Generated new trial 121 with parameters {'C': 4.49, 'intercept_scaling': 8.97, 'l1_ratio': 0.21, 'penalty': 'elasticnet', 'dual': True, 'solver': 'newton-cg'}.\n",
      "[INFO 11-26 06:04:57] ax.service.ax_client: Completed trial 121 with data: {'ROC_AUC': (nan, nan)}.\n",
      "[INFO 11-26 06:04:58] ax.service.ax_client: Generated new trial 122 with parameters {'C': 8.23, 'intercept_scaling': 3.01, 'l1_ratio': 0.81, 'penalty': 'l2', 'dual': False, 'solver': 'lbfgs'}.\n",
      "[INFO 11-26 06:05:32] ax.service.ax_client: Completed trial 122 with data: {'ROC_AUC': (0.81, 0.0)}.\n",
      "[INFO 11-26 06:05:32] ax.service.ax_client: Generated new trial 123 with parameters {'C': 9.72, 'intercept_scaling': 1.58, 'l1_ratio': 0.73, 'penalty': 'l1', 'dual': True, 'solver': 'newton-cg'}.\n",
      "[INFO 11-26 06:05:40] ax.service.ax_client: Completed trial 123 with data: {'ROC_AUC': (nan, nan)}.\n",
      "[INFO 11-26 06:05:41] ax.service.ax_client: Generated new trial 124 with parameters {'C': 3.46, 'intercept_scaling': 5.05, 'l1_ratio': 0.26, 'penalty': 'elasticnet', 'dual': False, 'solver': 'sag'}.\n",
      "[INFO 11-26 06:05:49] ax.service.ax_client: Completed trial 124 with data: {'ROC_AUC': (nan, nan)}.\n",
      "[INFO 11-26 06:05:49] ax.service.ax_client: Generated new trial 125 with parameters {'C': 6.71, 'intercept_scaling': 8.24, 'l1_ratio': 0.99, 'penalty': 'l2', 'dual': False, 'solver': 'sag'}.\n",
      "[INFO 11-26 06:08:26] ax.service.ax_client: Completed trial 125 with data: {'ROC_AUC': (0.81, 0.0)}.\n",
      "[INFO 11-26 06:08:26] ax.service.ax_client: Generated new trial 126 with parameters {'C': 0.46, 'intercept_scaling': 4.84, 'l1_ratio': 0.03, 'penalty': 'none', 'dual': True, 'solver': 'saga'}.\n",
      "[INFO 11-26 06:08:34] ax.service.ax_client: Completed trial 126 with data: {'ROC_AUC': (nan, nan)}.\n",
      "[INFO 11-26 06:08:34] ax.service.ax_client: Generated new trial 127 with parameters {'C': 3.12, 'intercept_scaling': 9.3, 'l1_ratio': 0.23, 'penalty': 'l1', 'dual': False, 'solver': 'saga'}.\n",
      "[INFO 11-26 06:13:14] ax.service.ax_client: Completed trial 127 with data: {'ROC_AUC': (0.81, 0.0)}.\n",
      "[INFO 11-26 06:13:15] ax.service.ax_client: Generated new trial 128 with parameters {'C': 9.36, 'intercept_scaling': 2.8, 'l1_ratio': 0.75, 'penalty': 'none', 'dual': True, 'solver': 'lbfgs'}.\n",
      "[INFO 11-26 06:13:23] ax.service.ax_client: Completed trial 128 with data: {'ROC_AUC': (nan, nan)}.\n",
      "[INFO 11-26 06:13:24] ax.service.ax_client: Generated new trial 129 with parameters {'C': 1.11, 'intercept_scaling': 0.81, 'l1_ratio': 0.49, 'penalty': 'l2', 'dual': True, 'solver': 'lbfgs'}.\n",
      "[INFO 11-26 06:13:32] ax.service.ax_client: Completed trial 129 with data: {'ROC_AUC': (nan, nan)}.\n",
      "[INFO 11-26 06:13:32] ax.service.ax_client: Generated new trial 130 with parameters {'C': 7.38, 'intercept_scaling': 7.42, 'l1_ratio': 0.52, 'penalty': 'none', 'dual': False, 'solver': 'sag'}.\n",
      "[INFO 11-26 06:16:09] ax.service.ax_client: Completed trial 130 with data: {'ROC_AUC': (0.81, 0.0)}.\n",
      "[INFO 11-26 06:16:10] ax.service.ax_client: Generated new trial 131 with parameters {'C': 5.88, 'intercept_scaling': 8.49, 'l1_ratio': 0.95, 'penalty': 'l1', 'dual': True, 'solver': 'lbfgs'}.\n",
      "[INFO 11-26 06:16:18] ax.service.ax_client: Completed trial 131 with data: {'ROC_AUC': (nan, nan)}.\n",
      "[INFO 11-26 06:16:19] ax.service.ax_client: Generated new trial 132 with parameters {'C': 2.14, 'intercept_scaling': 4.38, 'l1_ratio': 0.04, 'penalty': 'elasticnet', 'dual': False, 'solver': 'newton-cg'}.\n",
      "[INFO 11-26 06:16:27] ax.service.ax_client: Completed trial 132 with data: {'ROC_AUC': (nan, nan)}.\n",
      "[INFO 11-26 06:16:28] ax.service.ax_client: Generated new trial 133 with parameters {'C': 7.73, 'intercept_scaling': 1.41, 'l1_ratio': 0.72, 'penalty': 'l1', 'dual': False, 'solver': 'saga'}.\n",
      "[INFO 11-26 06:21:12] ax.service.ax_client: Completed trial 133 with data: {'ROC_AUC': (0.81, 0.0)}.\n",
      "[INFO 11-26 06:21:13] ax.service.ax_client: Generated new trial 134 with parameters {'C': 3.97, 'intercept_scaling': 5.42, 'l1_ratio': 0.3, 'penalty': 'none', 'dual': True, 'solver': 'lbfgs'}.\n",
      "[INFO 11-26 06:21:21] ax.service.ax_client: Completed trial 134 with data: {'ROC_AUC': (nan, nan)}.\n",
      "[INFO 11-26 06:21:21] ax.service.ax_client: Generated new trial 135 with parameters {'C': 4.78, 'intercept_scaling': 9.62, 'l1_ratio': 0.64, 'penalty': 'l1', 'dual': True, 'solver': 'newton-cg'}.\n",
      "[INFO 11-26 06:21:29] ax.service.ax_client: Completed trial 135 with data: {'ROC_AUC': (nan, nan)}.\n",
      "[INFO 11-26 06:21:30] ax.service.ax_client: Generated new trial 136 with parameters {'C': 8.52, 'intercept_scaling': 3.72, 'l1_ratio': 0.37, 'penalty': 'l2', 'dual': False, 'solver': 'saga'}.\n",
      "[INFO 11-26 06:24:24] ax.service.ax_client: Completed trial 136 with data: {'ROC_AUC': (0.81, 0.0)}.\n",
      "[INFO 11-26 06:24:25] ax.service.ax_client: Generated new trial 137 with parameters {'C': 1.61, 'intercept_scaling': 0.52, 'l1_ratio': 0.88, 'penalty': 'elasticnet', 'dual': False, 'solver': 'sag'}.\n",
      "[INFO 11-26 06:24:33] ax.service.ax_client: Completed trial 137 with data: {'ROC_AUC': (nan, nan)}.\n",
      "[INFO 11-26 06:24:33] ax.service.ax_client: Generated new trial 138 with parameters {'C': 5.37, 'intercept_scaling': 6.47, 'l1_ratio': 0.1, 'penalty': 'l1', 'dual': True, 'solver': 'newton-cg'}.\n",
      "[INFO 11-26 06:24:41] ax.service.ax_client: Completed trial 138 with data: {'ROC_AUC': (nan, nan)}.\n",
      "[INFO 11-26 06:24:42] ax.service.ax_client: Generated new trial 139 with parameters {'C': 6.38, 'intercept_scaling': 7.55, 'l1_ratio': 0.43, 'penalty': 'l2', 'dual': False, 'solver': 'sag'}.\n",
      "[INFO 11-26 06:27:18] ax.service.ax_client: Completed trial 139 with data: {'ROC_AUC': (0.81, 0.0)}.\n"
     ]
    },
    {
     "name": "stderr",
     "output_type": "stream",
     "text": [
      "[INFO 11-26 06:27:18] ax.service.ax_client: Generated new trial 140 with parameters {'C': 0.13, 'intercept_scaling': 4.09, 'l1_ratio': 0.59, 'penalty': 'elasticnet', 'dual': True, 'solver': 'newton-cg'}.\n",
      "[INFO 11-26 06:27:26] ax.service.ax_client: Completed trial 140 with data: {'ROC_AUC': (nan, nan)}.\n",
      "[INFO 11-26 06:27:27] ax.service.ax_client: Generated new trial 141 with parameters {'C': 9.39, 'intercept_scaling': 2.34, 'l1_ratio': 0.16, 'penalty': 'none', 'dual': True, 'solver': 'sag'}.\n",
      "[INFO 11-26 06:27:35] ax.service.ax_client: Completed trial 141 with data: {'ROC_AUC': (nan, nan)}.\n",
      "[INFO 11-26 06:27:35] ax.service.ax_client: Generated new trial 142 with parameters {'C': 3.13, 'intercept_scaling': 5.74, 'l1_ratio': 0.83, 'penalty': 'l2', 'dual': False, 'solver': 'saga'}.\n",
      "[INFO 11-26 06:30:30] ax.service.ax_client: Completed trial 142 with data: {'ROC_AUC': (0.81, 0.0)}.\n",
      "[INFO 11-26 06:30:31] ax.service.ax_client: Generated new trial 143 with parameters {'C': 0.4, 'intercept_scaling': 2.83, 'l1_ratio': 0.6, 'penalty': 'l2', 'dual': False, 'solver': 'newton-cg'}.\n",
      "[INFO 11-26 06:36:23] ax.service.ax_client: Completed trial 143 with data: {'ROC_AUC': (0.81, 0.0)}.\n",
      "[INFO 11-26 06:36:23] ax.service.ax_client: Generated new trial 144 with parameters {'C': 6.65, 'intercept_scaling': 8.79, 'l1_ratio': 0.38, 'penalty': 'none', 'dual': True, 'solver': 'saga'}.\n",
      "[INFO 11-26 06:36:31] ax.service.ax_client: Completed trial 144 with data: {'ROC_AUC': (nan, nan)}.\n",
      "[INFO 11-26 06:36:32] ax.service.ax_client: Generated new trial 145 with parameters {'C': 3.49, 'intercept_scaling': 6.99, 'l1_ratio': 0.87, 'penalty': 'elasticnet', 'dual': True, 'solver': 'lbfgs'}.\n",
      "[INFO 11-26 06:36:42] ax.service.ax_client: Completed trial 145 with data: {'ROC_AUC': (nan, nan)}.\n",
      "[INFO 11-26 06:36:43] ax.service.ax_client: Generated new trial 146 with parameters {'C': 9.73, 'intercept_scaling': 1.09, 'l1_ratio': 0.14, 'penalty': 'l2', 'dual': False, 'solver': 'newton-cg'}.\n",
      "[INFO 11-26 06:53:17] ax.service.ax_client: Completed trial 146 with data: {'ROC_AUC': (0.81, 0.0)}.\n",
      "[INFO 11-26 06:53:18] ax.service.ax_client: Generated new trial 147 with parameters {'C': 8.26, 'intercept_scaling': 4.98, 'l1_ratio': 0.33, 'penalty': 'l1', 'dual': True, 'solver': 'saga'}.\n",
      "[INFO 11-26 06:53:26] ax.service.ax_client: Completed trial 147 with data: {'ROC_AUC': (nan, nan)}.\n",
      "[INFO 11-26 06:53:26] ax.service.ax_client: Generated new trial 148 with parameters {'C': 4.5, 'intercept_scaling': 8.38, 'l1_ratio': 0.66, 'penalty': 'elasticnet', 'dual': False, 'solver': 'sag'}.\n",
      "[INFO 11-26 06:53:36] ax.service.ax_client: Completed trial 148 with data: {'ROC_AUC': (nan, nan)}.\n",
      "[INFO 11-26 06:53:37] ax.service.ax_client: Generated new trial 149 with parameters {'C': 5.01, 'intercept_scaling': 5.22, 'l1_ratio': 0.09, 'penalty': 'l1', 'dual': False, 'solver': 'lbfgs'}.\n",
      "[INFO 11-26 06:53:45] ax.service.ax_client: Completed trial 149 with data: {'ROC_AUC': (nan, nan)}.\n",
      "[INFO 11-26 06:53:45] ax.service.ax_client: Generated new trial 150 with parameters {'C': 1.26, 'intercept_scaling': 1.76, 'l1_ratio': 0.93, 'penalty': 'none', 'dual': True, 'solver': 'sag'}.\n",
      "[INFO 11-26 06:53:53] ax.service.ax_client: Completed trial 150 with data: {'ROC_AUC': (nan, nan)}.\n",
      "[INFO 11-26 06:53:54] ax.service.ax_client: Generated new trial 151 with parameters {'C': 2.48, 'intercept_scaling': 3.14, 'l1_ratio': 0.02, 'penalty': 'none', 'dual': True, 'solver': 'sag'}.\n",
      "[INFO 11-26 06:54:01] ax.service.ax_client: Completed trial 151 with data: {'ROC_AUC': (nan, nan)}.\n",
      "[INFO 11-26 06:54:02] ax.service.ax_client: Generated new trial 152 with parameters {'C': 6.25, 'intercept_scaling': 9.74, 'l1_ratio': 0.99, 'penalty': 'elasticnet', 'dual': False, 'solver': 'saga'}.\n",
      "[INFO 11-26 06:58:45] ax.service.ax_client: Completed trial 152 with data: {'ROC_AUC': (0.81, 0.0)}.\n",
      "[INFO 11-26 06:58:45] ax.service.ax_client: Generated new trial 153 with parameters {'C': 4.25, 'intercept_scaling': 6.66, 'l1_ratio': 0.25, 'penalty': 'elasticnet', 'dual': False, 'solver': 'lbfgs'}.\n",
      "[INFO 11-26 06:58:53] ax.service.ax_client: Completed trial 153 with data: {'ROC_AUC': (nan, nan)}.\n",
      "[INFO 11-26 06:58:54] ax.service.ax_client: Generated new trial 154 with parameters {'C': 8.0, 'intercept_scaling': 0.16, 'l1_ratio': 0.73, 'penalty': 'l2', 'dual': True, 'solver': 'saga'}.\n",
      "[INFO 11-26 06:59:02] ax.service.ax_client: Completed trial 154 with data: {'ROC_AUC': (nan, nan)}.\n",
      "[INFO 11-26 06:59:02] ax.service.ax_client: Generated new trial 155 with parameters {'C': 9.01, 'intercept_scaling': 4.04, 'l1_ratio': 0.8, 'penalty': 'none', 'dual': False, 'solver': 'lbfgs'}.\n",
      "[INFO 11-26 06:59:36] ax.service.ax_client: Completed trial 155 with data: {'ROC_AUC': (0.81, 0.0)}.\n",
      "[INFO 11-26 06:59:37] ax.service.ax_client: Generated new trial 156 with parameters {'C': 2.76, 'intercept_scaling': 8.05, 'l1_ratio': 0.22, 'penalty': 'elasticnet', 'dual': True, 'solver': 'saga'}.\n",
      "[INFO 11-26 06:59:45] ax.service.ax_client: Completed trial 156 with data: {'ROC_AUC': (nan, nan)}.\n",
      "[INFO 11-26 06:59:46] ax.service.ax_client: Generated new trial 157 with parameters {'C': 7.09, 'intercept_scaling': 6.17, 'l1_ratio': 0.54, 'penalty': 'l2', 'dual': True, 'solver': 'newton-cg'}.\n",
      "[INFO 11-26 06:59:54] ax.service.ax_client: Completed trial 157 with data: {'ROC_AUC': (nan, nan)}.\n",
      "[INFO 11-26 06:59:54] ax.service.ax_client: Generated new trial 158 with parameters {'C': 0.86, 'intercept_scaling': 2.07, 'l1_ratio': 0.45, 'penalty': 'elasticnet', 'dual': False, 'solver': 'lbfgs'}.\n",
      "[INFO 11-26 07:00:02] ax.service.ax_client: Completed trial 158 with data: {'ROC_AUC': (nan, nan)}.\n",
      "[INFO 11-26 07:00:03] ax.service.ax_client: Generated new trial 159 with parameters {'C': 7.64, 'intercept_scaling': 7.2, 'l1_ratio': 0.98, 'penalty': 'l1', 'dual': True, 'solver': 'lbfgs'}.\n",
      "[INFO 11-26 07:00:11] ax.service.ax_client: Completed trial 159 with data: {'ROC_AUC': (nan, nan)}.\n",
      "[INFO 11-26 07:00:12] ax.service.ax_client: Generated new trial 160 with parameters {'C': 3.9, 'intercept_scaling': 0.69, 'l1_ratio': 0.01, 'penalty': 'elasticnet', 'dual': False, 'solver': 'sag'}.\n",
      "[INFO 11-26 07:00:20] ax.service.ax_client: Completed trial 160 with data: {'ROC_AUC': (nan, nan)}.\n",
      "[INFO 11-26 07:00:20] ax.service.ax_client: Generated new trial 161 with parameters {'C': 5.66, 'intercept_scaling': 2.61, 'l1_ratio': 0.74, 'penalty': 'elasticnet', 'dual': False, 'solver': 'lbfgs'}.\n",
      "[INFO 11-26 07:00:28] ax.service.ax_client: Completed trial 161 with data: {'ROC_AUC': (nan, nan)}.\n",
      "[INFO 11-26 07:00:29] ax.service.ax_client: Generated new trial 162 with parameters {'C': 1.9, 'intercept_scaling': 9.21, 'l1_ratio': 0.28, 'penalty': 'l2', 'dual': True, 'solver': 'saga'}.\n",
      "[INFO 11-26 07:00:37] ax.service.ax_client: Completed trial 162 with data: {'ROC_AUC': (nan, nan)}.\n",
      "[INFO 11-26 07:00:38] ax.service.ax_client: Generated new trial 163 with parameters {'C': 1.05, 'intercept_scaling': 5.6, 'l1_ratio': 0.19, 'penalty': 'l1', 'dual': False, 'solver': 'lbfgs'}.\n",
      "[INFO 11-26 07:00:46] ax.service.ax_client: Completed trial 163 with data: {'ROC_AUC': (nan, nan)}.\n",
      "[INFO 11-26 07:00:47] ax.service.ax_client: Generated new trial 164 with parameters {'C': 7.29, 'intercept_scaling': 1.5, 'l1_ratio': 0.79, 'penalty': 'elasticnet', 'dual': True, 'solver': 'newton-cg'}.\n",
      "[INFO 11-26 07:00:54] ax.service.ax_client: Completed trial 164 with data: {'ROC_AUC': (nan, nan)}.\n",
      "[INFO 11-26 07:00:55] ax.service.ax_client: Generated new trial 165 with parameters {'C': 2.87, 'intercept_scaling': 4.61, 'l1_ratio': 0.46, 'penalty': 'none', 'dual': True, 'solver': 'saga'}.\n",
      "[INFO 11-26 07:01:03] ax.service.ax_client: Completed trial 165 with data: {'ROC_AUC': (nan, nan)}.\n",
      "[INFO 11-26 07:01:04] ax.service.ax_client: Generated new trial 166 with parameters {'C': 9.14, 'intercept_scaling': 8.62, 'l1_ratio': 0.55, 'penalty': 'l2', 'dual': False, 'solver': 'sag'}.\n",
      "[INFO 11-26 07:03:40] ax.service.ax_client: Completed trial 166 with data: {'ROC_AUC': (0.81, 0.0)}.\n",
      "[INFO 11-26 07:03:41] ax.service.ax_client: Generated new trial 167 with parameters {'C': 9.62, 'intercept_scaling': 6.27, 'l1_ratio': 0.4, 'penalty': 'l2', 'dual': False, 'solver': 'lbfgs'}.\n",
      "[INFO 11-26 07:04:14] ax.service.ax_client: Completed trial 167 with data: {'ROC_AUC': (0.81, 0.0)}.\n"
     ]
    },
    {
     "name": "stderr",
     "output_type": "stream",
     "text": [
      "[INFO 11-26 07:04:15] ax.service.ax_client: Generated new trial 168 with parameters {'C': 3.37, 'intercept_scaling': 0.36, 'l1_ratio': 0.62, 'penalty': 'elasticnet', 'dual': True, 'solver': 'saga'}.\n",
      "[INFO 11-26 07:04:23] ax.service.ax_client: Completed trial 168 with data: {'ROC_AUC': (nan, nan)}.\n",
      "[INFO 11-26 07:04:24] ax.service.ax_client: Generated new trial 169 with parameters {'C': 6.46, 'intercept_scaling': 3.56, 'l1_ratio': 0.14, 'penalty': 'elasticnet', 'dual': True, 'solver': 'sag'}.\n",
      "[INFO 11-26 07:04:32] ax.service.ax_client: Completed trial 169 with data: {'ROC_AUC': (nan, nan)}.\n",
      "[INFO 11-26 07:04:33] ax.service.ax_client: Generated new trial 170 with parameters {'C': 0.2, 'intercept_scaling': 9.52, 'l1_ratio': 0.85, 'penalty': 'none', 'dual': False, 'solver': 'newton-cg'}.\n",
      "[INFO 11-26 07:46:19] ax.service.ax_client: Completed trial 170 with data: {'ROC_AUC': (0.81, 0.0)}.\n",
      "[INFO 11-26 07:46:20] ax.service.ax_client: Generated new trial 171 with parameters {'C': 1.85, 'intercept_scaling': 5.91, 'l1_ratio': 0.68, 'penalty': 'l1', 'dual': True, 'solver': 'saga'}.\n",
      "[INFO 11-26 07:46:28] ax.service.ax_client: Completed trial 171 with data: {'ROC_AUC': (nan, nan)}.\n",
      "[INFO 11-26 07:46:28] ax.service.ax_client: Generated new trial 172 with parameters {'C': 5.59, 'intercept_scaling': 2.44, 'l1_ratio': 0.33, 'penalty': 'elasticnet', 'dual': False, 'solver': 'newton-cg'}.\n",
      "[INFO 11-26 07:46:38] ax.service.ax_client: Completed trial 172 with data: {'ROC_AUC': (nan, nan)}.\n",
      "[INFO 11-26 07:46:39] ax.service.ax_client: Generated new trial 173 with parameters {'C': 4.85, 'intercept_scaling': 4.28, 'l1_ratio': 0.91, 'penalty': 'l1', 'dual': False, 'solver': 'lbfgs'}.\n",
      "[INFO 11-26 07:46:47] ax.service.ax_client: Completed trial 173 with data: {'ROC_AUC': (nan, nan)}.\n",
      "[INFO 11-26 07:46:48] ax.service.ax_client: Generated new trial 174 with parameters {'C': 8.61, 'intercept_scaling': 7.69, 'l1_ratio': 0.07, 'penalty': 'none', 'dual': True, 'solver': 'saga'}.\n",
      "[INFO 11-26 07:46:56] ax.service.ax_client: Completed trial 174 with data: {'ROC_AUC': (nan, nan)}.\n",
      "[INFO 11-26 07:46:56] ax.service.ax_client: Generated new trial 175 with parameters {'C': 5.25, 'intercept_scaling': 1.19, 'l1_ratio': 0.35, 'penalty': 'none', 'dual': True, 'solver': 'newton-cg'}.\n",
      "[INFO 11-26 07:47:04] ax.service.ax_client: Completed trial 175 with data: {'ROC_AUC': (nan, nan)}.\n",
      "[INFO 11-26 07:47:05] ax.service.ax_client: Generated new trial 176 with parameters {'C': 1.49, 'intercept_scaling': 7.15, 'l1_ratio': 0.64, 'penalty': 'l2', 'dual': False, 'solver': 'sag'}.\n",
      "[INFO 11-26 07:49:40] ax.service.ax_client: Completed trial 176 with data: {'ROC_AUC': (0.81, 0.0)}.\n",
      "[INFO 11-26 07:49:40] ax.service.ax_client: Generated new trial 177 with parameters {'C': 8.33, 'intercept_scaling': 8.95, 'l1_ratio': 0.12, 'penalty': 'elasticnet', 'dual': False, 'solver': 'saga'}.\n",
      "[INFO 11-26 07:54:41] ax.service.ax_client: Completed trial 177 with data: {'ROC_AUC': (0.81, 0.0)}.\n",
      "[INFO 11-26 07:54:41] ax.service.ax_client: Generated new trial 178 with parameters {'C': 4.58, 'intercept_scaling': 3.04, 'l1_ratio': 0.9, 'penalty': 'none', 'dual': True, 'solver': 'lbfgs'}.\n",
      "[INFO 11-26 07:54:49] ax.service.ax_client: Completed trial 178 with data: {'ROC_AUC': (nan, nan)}.\n",
      "[INFO 11-26 07:54:50] ax.service.ax_client: Generated new trial 179 with parameters {'C': 3.72, 'intercept_scaling': 1.62, 'l1_ratio': 0.57, 'penalty': 'l1', 'dual': False, 'solver': 'saga'}.\n",
      "[INFO 11-26 07:59:33] ax.service.ax_client: Completed trial 179 with data: {'ROC_AUC': (0.81, 0.0)}.\n",
      "[INFO 11-26 07:59:34] ax.service.ax_client: Generated new trial 180 with parameters {'C': 9.97, 'intercept_scaling': 5.02, 'l1_ratio': 0.42, 'penalty': 'elasticnet', 'dual': True, 'solver': 'sag'}.\n",
      "[INFO 11-26 07:59:42] ax.service.ax_client: Completed trial 180 with data: {'ROC_AUC': (nan, nan)}.\n",
      "[INFO 11-26 07:59:43] ax.service.ax_client: Generated new trial 181 with parameters {'C': 0.49, 'intercept_scaling': 8.27, 'l1_ratio': 0.83, 'penalty': 'none', 'dual': True, 'solver': 'newton-cg'}.\n",
      "[INFO 11-26 07:59:51] ax.service.ax_client: Completed trial 181 with data: {'ROC_AUC': (nan, nan)}.\n",
      "[INFO 11-26 07:59:52] ax.service.ax_client: Generated new trial 182 with parameters {'C': 6.72, 'intercept_scaling': 4.8, 'l1_ratio': 0.18, 'penalty': 'l2', 'dual': False, 'solver': 'lbfgs'}.\n",
      "[INFO 11-26 08:00:26] ax.service.ax_client: Completed trial 182 with data: {'ROC_AUC': (0.81, 0.0)}.\n",
      "[INFO 11-26 08:00:27] ax.service.ax_client: Generated new trial 183 with parameters {'C': 7.02, 'intercept_scaling': 0.25, 'l1_ratio': 0.78, 'penalty': 'l1', 'dual': False, 'solver': 'newton-cg'}.\n",
      "[INFO 11-26 08:00:34] ax.service.ax_client: Completed trial 183 with data: {'ROC_AUC': (nan, nan)}.\n",
      "[INFO 11-26 08:00:35] ax.service.ax_client: Generated new trial 184 with parameters {'C': 0.77, 'intercept_scaling': 6.86, 'l1_ratio': 0.24, 'penalty': 'none', 'dual': True, 'solver': 'lbfgs'}.\n",
      "[INFO 11-26 08:00:43] ax.service.ax_client: Completed trial 184 with data: {'ROC_AUC': (nan, nan)}.\n",
      "[INFO 11-26 08:00:44] ax.service.ax_client: Generated new trial 185 with parameters {'C': 8.77, 'intercept_scaling': 9.87, 'l1_ratio': 0.51, 'penalty': 'elasticnet', 'dual': True, 'solver': 'sag'}.\n",
      "[INFO 11-26 08:00:52] ax.service.ax_client: Completed trial 185 with data: {'ROC_AUC': (nan, nan)}.\n",
      "[INFO 11-26 08:00:53] ax.service.ax_client: Generated new trial 186 with parameters {'C': 2.54, 'intercept_scaling': 3.36, 'l1_ratio': 0.48, 'penalty': 'none', 'dual': False, 'solver': 'lbfgs'}.\n",
      "[INFO 11-26 08:01:27] ax.service.ax_client: Completed trial 186 with data: {'ROC_AUC': (0.81, 0.0)}.\n",
      "[INFO 11-26 08:01:28] ax.service.ax_client: Generated new trial 187 with parameters {'C': 4.16, 'intercept_scaling': 1.93, 'l1_ratio': 0.06, 'penalty': 'l2', 'dual': True, 'solver': 'sag'}.\n",
      "[INFO 11-26 08:01:35] ax.service.ax_client: Completed trial 187 with data: {'ROC_AUC': (nan, nan)}.\n",
      "[INFO 11-26 08:01:36] ax.service.ax_client: Generated new trial 188 with parameters {'C': 7.93, 'intercept_scaling': 5.95, 'l1_ratio': 0.96, 'penalty': 'none', 'dual': False, 'solver': 'lbfgs'}.\n",
      "[INFO 11-26 08:02:10] ax.service.ax_client: Completed trial 188 with data: {'ROC_AUC': (0.81, 0.0)}.\n",
      "[INFO 11-26 08:02:11] ax.service.ax_client: Generated new trial 189 with parameters {'C': 2.26, 'intercept_scaling': 7.97, 'l1_ratio': 0.29, 'penalty': 'l1', 'dual': False, 'solver': 'saga'}.\n",
      "[INFO 11-26 08:06:51] ax.service.ax_client: Completed trial 189 with data: {'ROC_AUC': (0.81, 0.0)}.\n",
      "[INFO 11-26 08:06:52] ax.service.ax_client: Generated new trial 190 with parameters {'C': 6.0, 'intercept_scaling': 3.86, 'l1_ratio': 0.69, 'penalty': 'l2', 'dual': True, 'solver': 'lbfgs'}.\n",
      "[INFO 11-26 08:07:00] ax.service.ax_client: Completed trial 190 with data: {'ROC_AUC': (nan, nan)}.\n",
      "[INFO 11-26 08:07:01] ax.service.ax_client: Generated new trial 191 with parameters {'C': 6.84, 'intercept_scaling': 5.52, 'l1_ratio': 0.89, 'penalty': 'l1', 'dual': False, 'solver': 'newton-cg'}.\n",
      "[INFO 11-26 08:07:09] ax.service.ax_client: Completed trial 191 with data: {'ROC_AUC': (nan, nan)}.\n",
      "[INFO 11-26 08:07:10] ax.service.ax_client: Generated new trial 192 with parameters {'C': 0.6, 'intercept_scaling': 1.43, 'l1_ratio': 0.1, 'penalty': 'l2', 'dual': True, 'solver': 'lbfgs'}.\n",
      "[INFO 11-26 08:07:18] ax.service.ax_client: Completed trial 192 with data: {'ROC_AUC': (nan, nan)}.\n",
      "[INFO 11-26 08:07:19] ax.service.ax_client: Generated new trial 193 with parameters {'C': 9.86, 'intercept_scaling': 4.68, 'l1_ratio': 0.66, 'penalty': 'elasticnet', 'dual': True, 'solver': 'saga'}.\n",
      "[INFO 11-26 08:07:27] ax.service.ax_client: Completed trial 193 with data: {'ROC_AUC': (nan, nan)}.\n",
      "[INFO 11-26 08:07:28] ax.service.ax_client: Generated new trial 194 with parameters {'C': 3.59, 'intercept_scaling': 8.71, 'l1_ratio': 0.36, 'penalty': 'l1', 'dual': False, 'solver': 'newton-cg'}.\n",
      "[INFO 11-26 08:07:35] ax.service.ax_client: Completed trial 194 with data: {'ROC_AUC': (nan, nan)}.\n",
      "[INFO 11-26 08:07:36] ax.service.ax_client: Generated new trial 195 with parameters {'C': 4.62, 'intercept_scaling': 7.28, 'l1_ratio': 0.17, 'penalty': 'none', 'dual': True, 'solver': 'sag'}.\n",
      "[INFO 11-26 08:07:45] ax.service.ax_client: Completed trial 195 with data: {'ROC_AUC': (nan, nan)}.\n"
     ]
    },
    {
     "name": "stderr",
     "output_type": "stream",
     "text": [
      "[INFO 11-26 08:07:46] ax.service.ax_client: Generated new trial 196 with parameters {'C': 8.36, 'intercept_scaling': 0.75, 'l1_ratio': 0.81, 'penalty': 'elasticnet', 'dual': False, 'solver': 'lbfgs'}.\n",
      "[INFO 11-26 08:07:53] ax.service.ax_client: Completed trial 196 with data: {'ROC_AUC': (nan, nan)}.\n",
      "[INFO 11-26 08:07:54] ax.service.ax_client: Generated new trial 197 with parameters {'C': 1.45, 'intercept_scaling': 2.54, 'l1_ratio': 0.43, 'penalty': 'l1', 'dual': False, 'solver': 'newton-cg'}.\n",
      "[INFO 11-26 08:08:02] ax.service.ax_client: Completed trial 197 with data: {'ROC_AUC': (nan, nan)}.\n",
      "[INFO 11-26 08:08:03] ax.service.ax_client: Generated new trial 198 with parameters {'C': 5.21, 'intercept_scaling': 9.13, 'l1_ratio': 0.58, 'penalty': 'l2', 'dual': True, 'solver': 'saga'}.\n",
      "[INFO 11-26 08:08:11] ax.service.ax_client: Completed trial 198 with data: {'ROC_AUC': (nan, nan)}.\n",
      "[INFO 11-26 08:08:12] ax.service.ax_client: Generated new trial 199 with parameters {'C': 6.04, 'intercept_scaling': 5.84, 'l1_ratio': 0.49, 'penalty': 'l1', 'dual': True, 'solver': 'saga'}.\n",
      "[INFO 11-26 08:08:20] ax.service.ax_client: Completed trial 199 with data: {'ROC_AUC': (nan, nan)}.\n"
     ]
    }
   ],
   "source": [
    "bo.fit('log', 200)"
   ]
  },
  {
   "cell_type": "code",
   "execution_count": 453,
   "metadata": {
    "ExecuteTime": {
     "end_time": "2020-11-26T06:08:22.112857Z",
     "start_time": "2020-11-26T06:08:22.093690Z"
    }
   },
   "outputs": [
    {
     "data": {
      "text/plain": [
       "{'log': LogisticRegression(C=0.7140720176503248, intercept_scaling=6.118362684156746,\n",
       "                    l1_ratio=0.630368291400373, n_jobs=-1, penalty='l1',\n",
       "                    random_state=13, solver='saga')}"
      ]
     },
     "execution_count": 453,
     "metadata": {},
     "output_type": "execute_result"
    }
   ],
   "source": [
    "bo.best_estimators_"
   ]
  },
  {
   "cell_type": "code",
   "execution_count": 454,
   "metadata": {
    "ExecuteTime": {
     "end_time": "2020-11-26T08:06:20.227860Z",
     "start_time": "2020-11-26T06:08:23.902815Z"
    }
   },
   "outputs": [
    {
     "name": "stderr",
     "output_type": "stream",
     "text": [
      "[INFO 11-26 08:08:23] ax.service.ax_client: Starting optimization with verbose logging. To disable logging, set the `verbose_logging` argument to `False`. Note that float values in the logs are rounded to 2 decimal points.\n",
      "[WARNING 11-26 08:08:23] ax.service.ax_client: Random seed set to 13. Note that this setting only affects the Sobol quasi-random generator and BoTorch-powered Bayesian optimization models. For the latter models, setting random seed to the same number for two optimizations will make the generated trials similar, but not exactly the same, and over time the trials will diverge more.\n",
      "[INFO 11-26 08:08:23] ax.modelbridge.dispatch_utils: Using Sobol generation strategy.\n"
     ]
    },
    {
     "name": "stdout",
     "output_type": "stream",
     "text": [
      "Optimizing sgd\n"
     ]
    },
    {
     "data": {
      "text/html": [
       "\n",
       "    <div>\n",
       "        <style>\n",
       "            /* Turns off some styling */\n",
       "            progress {\n",
       "                /* gets rid of default border in Firefox and Opera. */\n",
       "                border: none;\n",
       "                /* Needs to be in here for Safari polyfill so background images work as expected. */\n",
       "                background-size: auto;\n",
       "            }\n",
       "            .progress-bar-interrupted, .progress-bar-interrupted::-webkit-progress-bar {\n",
       "                background: #F44336;\n",
       "            }\n",
       "        </style>\n",
       "      <progress value='177' class='' max='200', style='width:300px; height:20px; vertical-align: middle;'></progress>\n",
       "      88.50% [177/200 1:55:54<15:03]\n",
       "    </div>\n",
       "    "
      ],
      "text/plain": [
       "<IPython.core.display.HTML object>"
      ]
     },
     "metadata": {},
     "output_type": "display_data"
    },
    {
     "name": "stderr",
     "output_type": "stream",
     "text": [
      "[INFO 11-26 08:08:23] ax.service.ax_client: Generated new trial 0 with parameters {'alpha': 0.02, 'l1_ratio': 0.65, 'tol': 0.03, 'eta0': 4.62, 'loss': 'hinge', 'penalty': 'l2', 'learning_rate': 'adaptive'}.\n",
      "[INFO 11-26 08:09:35] ax.service.ax_client: Completed trial 0 with data: {'ROC_AUC': (0.8, 0.0)}.\n",
      "[INFO 11-26 08:09:35] ax.service.ax_client: Generated new trial 1 with parameters {'alpha': 0.06, 'l1_ratio': 0.92, 'tol': 0.09, 'eta0': 0.77, 'loss': 'log', 'penalty': 'l1', 'learning_rate': 'optimal'}.\n",
      "[INFO 11-26 08:09:56] ax.service.ax_client: Completed trial 1 with data: {'ROC_AUC': (0.5, 0.0)}.\n",
      "[INFO 11-26 08:09:56] ax.service.ax_client: Generated new trial 2 with parameters {'alpha': 0.03, 'l1_ratio': 0.0, 'tol': 0.02, 'eta0': 7.66, 'loss': 'modified_huber', 'penalty': 'l1', 'learning_rate': 'adaptive'}.\n",
      "[INFO 11-26 08:11:55] ax.service.ax_client: Completed trial 2 with data: {'ROC_AUC': (0.8, 0.0)}.\n",
      "[INFO 11-26 08:11:55] ax.service.ax_client: Generated new trial 3 with parameters {'alpha': 0.08, 'l1_ratio': 0.81, 'tol': 0.09, 'eta0': 5.2, 'loss': 'perceptron', 'penalty': 'elasticnet', 'learning_rate': 'constant'}.\n",
      "[INFO 11-26 08:12:16] ax.service.ax_client: Completed trial 3 with data: {'ROC_AUC': (0.5, 0.0)}.\n",
      "[INFO 11-26 08:12:16] ax.service.ax_client: Generated new trial 4 with parameters {'alpha': 0.01, 'l1_ratio': 0.14, 'tol': 0.0, 'eta0': 3.28, 'loss': 'modified_huber', 'penalty': 'l2', 'learning_rate': 'optimal'}.\n",
      "[INFO 11-26 08:12:32] ax.service.ax_client: Completed trial 4 with data: {'ROC_AUC': (0.8, 0.0)}.\n",
      "[INFO 11-26 08:12:32] ax.service.ax_client: Generated new trial 5 with parameters {'alpha': 0.06, 'l1_ratio': 0.41, 'tol': 0.06, 'eta0': 2.15, 'loss': 'hinge', 'penalty': 'elasticnet', 'learning_rate': 'adaptive'}.\n",
      "[INFO 11-26 08:14:21] ax.service.ax_client: Completed trial 5 with data: {'ROC_AUC': (0.79, 0.0)}.\n",
      "[INFO 11-26 08:14:21] ax.service.ax_client: Generated new trial 6 with parameters {'alpha': 0.05, 'l1_ratio': 0.51, 'tol': 0.04, 'eta0': 8.81, 'loss': 'squared_hinge', 'penalty': 'l1', 'learning_rate': 'invscaling'}.\n",
      "[INFO 11-26 08:14:42] ax.service.ax_client: Completed trial 6 with data: {'ROC_AUC': (0.74, 0.02)}.\n",
      "[INFO 11-26 08:14:42] ax.service.ax_client: Generated new trial 7 with parameters {'alpha': 0.08, 'l1_ratio': 0.33, 'tol': 0.04, 'eta0': 2.71, 'loss': 'squared_hinge', 'penalty': 'l2', 'learning_rate': 'optimal'}.\n",
      "[INFO 11-26 08:14:58] ax.service.ax_client: Completed trial 7 with data: {'ROC_AUC': (0.63, 0.09)}.\n",
      "[INFO 11-26 08:14:58] ax.service.ax_client: Generated new trial 8 with parameters {'alpha': 0.0, 'l1_ratio': 0.73, 'tol': 0.05, 'eta0': 5.72, 'loss': 'hinge', 'penalty': 'elasticnet', 'learning_rate': 'adaptive'}.\n",
      "[INFO 11-26 08:16:49] ax.service.ax_client: Completed trial 8 with data: {'ROC_AUC': (0.81, 0.0)}.\n",
      "[INFO 11-26 08:16:49] ax.service.ax_client: Generated new trial 9 with parameters {'alpha': 0.07, 'l1_ratio': 0.96, 'tol': 0.01, 'eta0': 9.65, 'loss': 'log', 'penalty': 'l2', 'learning_rate': 'invscaling'}.\n",
      "[INFO 11-26 08:17:06] ax.service.ax_client: Completed trial 9 with data: {'ROC_AUC': (0.62, 0.0)}.\n",
      "[INFO 11-26 08:17:06] ax.service.ax_client: Generated new trial 10 with parameters {'alpha': 0.04, 'l1_ratio': 0.12, 'tol': 0.09, 'eta0': 1.27, 'loss': 'modified_huber', 'penalty': 'l1', 'learning_rate': 'constant'}.\n",
      "[INFO 11-26 08:17:26] ax.service.ax_client: Completed trial 10 with data: {'ROC_AUC': (0.79, 0.0)}.\n",
      "[INFO 11-26 08:17:26] ax.service.ax_client: Generated new trial 11 with parameters {'alpha': 0.09, 'l1_ratio': 0.82, 'tol': 0.02, 'eta0': 3.78, 'loss': 'log', 'penalty': 'elasticnet', 'learning_rate': 'adaptive'}.\n",
      "[INFO 11-26 08:19:29] ax.service.ax_client: Completed trial 11 with data: {'ROC_AUC': (0.5, 0.0)}.\n",
      "[INFO 11-26 08:19:29] ax.service.ax_client: Generated new trial 12 with parameters {'alpha': 0.02, 'l1_ratio': 0.23, 'tol': 0.08, 'eta0': 7.18, 'loss': 'perceptron', 'penalty': 'l2', 'learning_rate': 'optimal'}.\n",
      "[INFO 11-26 08:19:45] ax.service.ax_client: Completed trial 12 with data: {'ROC_AUC': (0.74, 0.01)}.\n",
      "[INFO 11-26 08:19:45] ax.service.ax_client: Generated new trial 13 with parameters {'alpha': 0.05, 'l1_ratio': 0.47, 'tol': 0.04, 'eta0': 8.23, 'loss': 'squared_hinge', 'penalty': 'elasticnet', 'learning_rate': 'invscaling'}.\n",
      "[INFO 11-26 08:20:06] ax.service.ax_client: Completed trial 13 with data: {'ROC_AUC': (0.64, 0.01)}.\n",
      "[INFO 11-26 08:20:06] ax.service.ax_client: Generated new trial 14 with parameters {'alpha': 0.04, 'l1_ratio': 0.61, 'tol': 0.07, 'eta0': 0.24, 'loss': 'perceptron', 'penalty': 'l2', 'learning_rate': 'optimal'}.\n",
      "[INFO 11-26 08:20:22] ax.service.ax_client: Completed trial 14 with data: {'ROC_AUC': (0.73, 0.0)}.\n",
      "[INFO 11-26 08:20:23] ax.service.ax_client: Generated new trial 15 with parameters {'alpha': 0.03, 'l1_ratio': 0.17, 'tol': 0.1, 'eta0': 5.0, 'loss': 'perceptron', 'penalty': 'l2', 'learning_rate': 'invscaling'}.\n",
      "[INFO 11-26 08:20:39] ax.service.ax_client: Completed trial 15 with data: {'ROC_AUC': (0.66, 0.01)}.\n",
      "[INFO 11-26 08:20:39] ax.service.ax_client: Generated new trial 16 with parameters {'alpha': 0.06, 'l1_ratio': 0.77, 'tol': 0.0, 'eta0': 6.59, 'loss': 'hinge', 'penalty': 'elasticnet', 'learning_rate': 'adaptive'}.\n",
      "[INFO 11-26 08:22:31] ax.service.ax_client: Completed trial 16 with data: {'ROC_AUC': (0.79, 0.0)}.\n",
      "[INFO 11-26 08:22:31] ax.service.ax_client: Generated new trial 17 with parameters {'alpha': 0.01, 'l1_ratio': 0.54, 'tol': 0.06, 'eta0': 8.04, 'loss': 'modified_huber', 'penalty': 'l2', 'learning_rate': 'adaptive'}.\n",
      "[INFO 11-26 08:23:44] ax.service.ax_client: Completed trial 17 with data: {'ROC_AUC': (0.81, 0.0)}.\n",
      "[INFO 11-26 08:23:44] ax.service.ax_client: Generated new trial 18 with parameters {'alpha': 0.1, 'l1_ratio': 0.38, 'tol': 0.04, 'eta0': 1.05, 'loss': 'modified_huber', 'penalty': 'elasticnet', 'learning_rate': 'constant'}.\n",
      "[INFO 11-26 08:24:03] ax.service.ax_client: Completed trial 18 with data: {'ROC_AUC': (0.72, 0.07)}.\n",
      "[INFO 11-26 08:24:04] ax.service.ax_client: Generated new trial 19 with parameters {'alpha': 0.05, 'l1_ratio': 0.68, 'tol': 0.07, 'eta0': 3.54, 'loss': 'squared_hinge', 'penalty': 'elasticnet', 'learning_rate': 'adaptive'}.\n",
      "[INFO 11-26 08:26:01] ax.service.ax_client: Completed trial 19 with data: {'ROC_AUC': (0.65, 0.0)}.\n",
      "[INFO 11-26 08:26:01] ax.service.ax_client: Generated new trial 20 with parameters {'alpha': 0.07, 'l1_ratio': 0.27, 'tol': 0.03, 'eta0': 5.52, 'loss': 'hinge', 'penalty': 'l1', 'learning_rate': 'constant'}.\n",
      "[INFO 11-26 08:26:22] ax.service.ax_client: Completed trial 20 with data: {'ROC_AUC': (0.5, 0.0)}.\n",
      "[INFO 11-26 08:26:22] ax.service.ax_client: Generated new trial 21 with parameters {'alpha': 0.01, 'l1_ratio': 0.03, 'tol': 0.08, 'eta0': 9.08, 'loss': 'hinge', 'penalty': 'elasticnet', 'learning_rate': 'optimal'}.\n",
      "[INFO 11-26 08:26:43] ax.service.ax_client: Completed trial 21 with data: {'ROC_AUC': (0.8, 0.0)}.\n",
      "[INFO 11-26 08:26:43] ax.service.ax_client: Generated new trial 22 with parameters {'alpha': 0.08, 'l1_ratio': 0.88, 'tol': 0.01, 'eta0': 2.48, 'loss': 'modified_huber', 'penalty': 'l2', 'learning_rate': 'invscaling'}.\n",
      "[INFO 11-26 08:27:00] ax.service.ax_client: Completed trial 22 with data: {'ROC_AUC': (0.67, 0.01)}.\n",
      "[INFO 11-26 08:27:00] ax.service.ax_client: Generated new trial 23 with parameters {'alpha': 0.04, 'l1_ratio': 0.2, 'tol': 0.02, 'eta0': 6.08, 'loss': 'log', 'penalty': 'l2', 'learning_rate': 'adaptive'}.\n",
      "[INFO 11-26 08:28:21] ax.service.ax_client: Completed trial 23 with data: {'ROC_AUC': (0.74, 0.0)}.\n",
      "[INFO 11-26 08:28:21] ax.service.ax_client: Generated new trial 24 with parameters {'alpha': 0.07, 'l1_ratio': 0.85, 'tol': 0.08, 'eta0': 3.01, 'loss': 'modified_huber', 'penalty': 'elasticnet', 'learning_rate': 'invscaling'}.\n",
      "[INFO 11-26 08:28:43] ax.service.ax_client: Completed trial 24 with data: {'ROC_AUC': (0.79, 0.0)}.\n",
      "[INFO 11-26 08:28:43] ax.service.ax_client: Generated new trial 25 with parameters {'alpha': 0.0, 'l1_ratio': 0.58, 'tol': 0.03, 'eta0': 1.64, 'loss': 'modified_huber', 'penalty': 'l1', 'learning_rate': 'constant'}.\n",
      "[INFO 11-26 08:29:03] ax.service.ax_client: Completed trial 25 with data: {'ROC_AUC': (0.75, 0.02)}.\n",
      "[INFO 11-26 08:29:03] ax.service.ax_client: Generated new trial 26 with parameters {'alpha': 0.09, 'l1_ratio': 0.5, 'tol': 0.07, 'eta0': 9.96, 'loss': 'perceptron', 'penalty': 'elasticnet', 'learning_rate': 'adaptive'}.\n"
     ]
    },
    {
     "name": "stderr",
     "output_type": "stream",
     "text": [
      "[INFO 11-26 08:30:54] ax.service.ax_client: Completed trial 26 with data: {'ROC_AUC': (0.65, 0.15)}.\n",
      "[INFO 11-26 08:30:55] ax.service.ax_client: Generated new trial 27 with parameters {'alpha': 0.03, 'l1_ratio': 0.69, 'tol': 0.05, 'eta0': 7.43, 'loss': 'modified_huber', 'penalty': 'l2', 'learning_rate': 'optimal'}.\n",
      "[INFO 11-26 08:31:12] ax.service.ax_client: Completed trial 27 with data: {'ROC_AUC': (0.8, 0.0)}.\n",
      "[INFO 11-26 08:31:12] ax.service.ax_client: Generated new trial 28 with parameters {'alpha': 0.05, 'l1_ratio': 0.36, 'tol': 0.05, 'eta0': 4.13, 'loss': 'squared_hinge', 'penalty': 'l1', 'learning_rate': 'invscaling'}.\n",
      "[INFO 11-26 08:31:32] ax.service.ax_client: Completed trial 28 with data: {'ROC_AUC': (0.73, 0.01)}.\n",
      "[INFO 11-26 08:31:32] ax.service.ax_client: Generated new trial 29 with parameters {'alpha': 0.02, 'l1_ratio': 0.09, 'tol': 0.01, 'eta0': 0.48, 'loss': 'log', 'penalty': 'elasticnet', 'learning_rate': 'optimal'}.\n",
      "[INFO 11-26 08:31:54] ax.service.ax_client: Completed trial 29 with data: {'ROC_AUC': (0.77, 0.0)}.\n",
      "[INFO 11-26 08:31:54] ax.service.ax_client: Generated new trial 30 with parameters {'alpha': 0.09, 'l1_ratio': 0.99, 'tol': 0.09, 'eta0': 8.57, 'loss': 'perceptron', 'penalty': 'l1', 'learning_rate': 'constant'}.\n",
      "[INFO 11-26 08:32:15] ax.service.ax_client: Completed trial 30 with data: {'ROC_AUC': (0.5, 0.0)}.\n",
      "[INFO 11-26 08:32:15] ax.service.ax_client: Generated new trial 31 with parameters {'alpha': 0.02, 'l1_ratio': 0.26, 'tol': 0.05, 'eta0': 7.54, 'loss': 'squared_hinge', 'penalty': 'l1', 'learning_rate': 'optimal'}.\n",
      "[INFO 11-26 08:32:35] ax.service.ax_client: Completed trial 31 with data: {'ROC_AUC': (0.75, 0.01)}.\n",
      "[INFO 11-26 08:32:35] ax.service.ax_client: Generated new trial 32 with parameters {'alpha': 0.09, 'l1_ratio': 0.67, 'tol': 0.05, 'eta0': 0.88, 'loss': 'perceptron', 'penalty': 'l1', 'learning_rate': 'optimal'}.\n",
      "[INFO 11-26 08:32:55] ax.service.ax_client: Completed trial 32 with data: {'ROC_AUC': (0.5, 0.0)}.\n",
      "[INFO 11-26 08:32:55] ax.service.ax_client: Generated new trial 33 with parameters {'alpha': 0.04, 'l1_ratio': 0.9, 'tol': 0.09, 'eta0': 4.5, 'loss': 'log', 'penalty': 'elasticnet', 'learning_rate': 'constant'}.\n",
      "[INFO 11-26 08:33:17] ax.service.ax_client: Completed trial 33 with data: {'ROC_AUC': (0.79, 0.0)}.\n",
      "[INFO 11-26 08:33:18] ax.service.ax_client: Generated new trial 34 with parameters {'alpha': 0.05, 'l1_ratio': 0.05, 'tol': 0.01, 'eta0': 6.42, 'loss': 'squared_hinge', 'penalty': 'l1', 'learning_rate': 'adaptive'}.\n",
      "[INFO 11-26 08:35:05] ax.service.ax_client: Completed trial 34 with data: {'ROC_AUC': (0.69, 0.0)}.\n",
      "[INFO 11-26 08:35:05] ax.service.ax_client: Generated new trial 35 with parameters {'alpha': 0.0, 'l1_ratio': 0.76, 'tol': 0.08, 'eta0': 8.93, 'loss': 'modified_huber', 'penalty': 'l1', 'learning_rate': 'constant'}.\n",
      "[INFO 11-26 08:35:24] ax.service.ax_client: Completed trial 35 with data: {'ROC_AUC': (0.73, 0.02)}.\n",
      "[INFO 11-26 08:35:25] ax.service.ax_client: Generated new trial 36 with parameters {'alpha': 0.08, 'l1_ratio': 0.16, 'tol': 0.02, 'eta0': 2.04, 'loss': 'perceptron', 'penalty': 'l2', 'learning_rate': 'optimal'}.\n",
      "[INFO 11-26 08:35:41] ax.service.ax_client: Completed trial 36 with data: {'ROC_AUC': (0.71, 0.01)}.\n",
      "[INFO 11-26 08:35:41] ax.service.ax_client: Generated new trial 37 with parameters {'alpha': 0.04, 'l1_ratio': 0.4, 'tol': 0.07, 'eta0': 3.39, 'loss': 'hinge', 'penalty': 'elasticnet', 'learning_rate': 'adaptive'}.\n",
      "[INFO 11-26 08:37:29] ax.service.ax_client: Completed trial 37 with data: {'ROC_AUC': (0.79, 0.0)}.\n",
      "[INFO 11-26 08:37:30] ax.service.ax_client: Generated new trial 38 with parameters {'alpha': 0.07, 'l1_ratio': 0.56, 'tol': 0.03, 'eta0': 5.07, 'loss': 'perceptron', 'penalty': 'elasticnet', 'learning_rate': 'invscaling'}.\n",
      "[INFO 11-26 08:37:50] ax.service.ax_client: Completed trial 38 with data: {'ROC_AUC': (0.79, 0.0)}.\n",
      "[INFO 11-26 08:37:50] ax.service.ax_client: Generated new trial 39 with parameters {'alpha': 0.01, 'l1_ratio': 0.37, 'tol': 0.03, 'eta0': 1.47, 'loss': 'log', 'penalty': 'l1', 'learning_rate': 'optimal'}.\n",
      "[INFO 11-26 08:38:12] ax.service.ax_client: Completed trial 39 with data: {'ROC_AUC': (0.79, 0.0)}.\n",
      "[INFO 11-26 08:38:12] ax.service.ax_client: Generated new trial 40 with parameters {'alpha': 0.08, 'l1_ratio': 0.71, 'tol': 0.07, 'eta0': 9.46, 'loss': 'hinge', 'penalty': 'l2', 'learning_rate': 'adaptive'}.\n",
      "[INFO 11-26 08:39:24] ax.service.ax_client: Completed trial 40 with data: {'ROC_AUC': (0.79, 0.0)}.\n",
      "[INFO 11-26 08:39:24] ax.service.ax_client: Generated new trial 41 with parameters {'alpha': 0.05, 'l1_ratio': 0.97, 'tol': 0.02, 'eta0': 5.91, 'loss': 'modified_huber', 'penalty': 'elasticnet', 'learning_rate': 'optimal'}.\n",
      "[INFO 11-26 08:39:45] ax.service.ax_client: Completed trial 41 with data: {'ROC_AUC': (0.79, 0.0)}.\n",
      "[INFO 11-26 08:39:45] ax.service.ax_client: Generated new trial 42 with parameters {'alpha': 0.06, 'l1_ratio': 0.07, 'tol': 0.09, 'eta0': 2.51, 'loss': 'squared_hinge', 'penalty': 'l2', 'learning_rate': 'constant'}.\n",
      "[INFO 11-26 08:40:02] ax.service.ax_client: Completed trial 42 with data: {'ROC_AUC': (0.56, 0.02)}.\n",
      "[INFO 11-26 08:40:02] ax.service.ax_client: Generated new trial 43 with parameters {'alpha': 0.02, 'l1_ratio': 0.86, 'tol': 0.0, 'eta0': 0.04, 'loss': 'perceptron', 'penalty': 'l1', 'learning_rate': 'adaptive'}.\n",
      "[INFO 11-26 08:41:17] ax.service.ax_client: Completed trial 43 with data: {'ROC_AUC': (0.79, 0.0)}.\n",
      "[INFO 11-26 08:41:17] ax.service.ax_client: Generated new trial 44 with parameters {'alpha': 0.1, 'l1_ratio': 0.21, 'tol': 0.1, 'eta0': 8.42, 'loss': 'hinge', 'penalty': 'elasticnet', 'learning_rate': 'optimal'}.\n",
      "[INFO 11-26 08:41:37] ax.service.ax_client: Completed trial 44 with data: {'ROC_AUC': (0.79, 0.0)}.\n",
      "[INFO 11-26 08:41:37] ax.service.ax_client: Generated new trial 45 with parameters {'alpha': 0.03, 'l1_ratio': 0.48, 'tol': 0.04, 'eta0': 6.99, 'loss': 'hinge', 'penalty': 'l2', 'learning_rate': 'invscaling'}.\n",
      "[INFO 11-26 08:41:53] ax.service.ax_client: Completed trial 45 with data: {'ROC_AUC': (0.68, 0.01)}.\n",
      "[INFO 11-26 08:41:54] ax.service.ax_client: Generated new trial 46 with parameters {'alpha': 0.06, 'l1_ratio': 0.56, 'tol': 0.06, 'eta0': 3.98, 'loss': 'squared_hinge', 'penalty': 'l1', 'learning_rate': 'constant'}.\n",
      "[INFO 11-26 08:42:14] ax.service.ax_client: Completed trial 46 with data: {'ROC_AUC': (0.74, 0.01)}.\n",
      "[INFO 11-26 08:42:14] ax.service.ax_client: Generated new trial 47 with parameters {'alpha': 0.05, 'l1_ratio': 0.13, 'tol': 0.08, 'eta0': 1.25, 'loss': 'log', 'penalty': 'elasticnet', 'learning_rate': 'invscaling'}.\n",
      "[INFO 11-26 08:42:36] ax.service.ax_client: Completed trial 47 with data: {'ROC_AUC': (0.74, 0.01)}.\n",
      "[INFO 11-26 08:42:36] ax.service.ax_client: Generated new trial 48 with parameters {'alpha': 0.03, 'l1_ratio': 0.79, 'tol': 0.02, 'eta0': 7.85, 'loss': 'hinge', 'penalty': 'l1', 'learning_rate': 'constant'}.\n",
      "[INFO 11-26 08:42:56] ax.service.ax_client: Completed trial 48 with data: {'ROC_AUC': (0.79, 0.0)}.\n",
      "[INFO 11-26 08:42:56] ax.service.ax_client: Generated new trial 49 with parameters {'alpha': 0.09, 'l1_ratio': 0.53, 'tol': 0.06, 'eta0': 6.78, 'loss': 'hinge', 'penalty': 'l1', 'learning_rate': 'adaptive'}.\n",
      "[INFO 11-26 08:44:47] ax.service.ax_client: Completed trial 49 with data: {'ROC_AUC': (0.5, 0.0)}.\n",
      "[INFO 11-26 08:44:47] ax.service.ax_client: Generated new trial 50 with parameters {'alpha': 0.02, 'l1_ratio': 0.43, 'tol': 0.03, 'eta0': 4.8, 'loss': 'modified_huber', 'penalty': 'l2', 'learning_rate': 'optimal'}.\n",
      "[INFO 11-26 08:45:04] ax.service.ax_client: Completed trial 50 with data: {'ROC_AUC': (0.8, 0.0)}.\n",
      "[INFO 11-26 08:45:04] ax.service.ax_client: Generated new trial 51 with parameters {'alpha': 0.07, 'l1_ratio': 0.64, 'tol': 0.06, 'eta0': 2.28, 'loss': 'log', 'penalty': 'l2', 'learning_rate': 'adaptive'}.\n",
      "[INFO 11-26 08:46:23] ax.service.ax_client: Completed trial 51 with data: {'ROC_AUC': (0.71, 0.0)}.\n",
      "[INFO 11-26 08:46:24] ax.service.ax_client: Generated new trial 52 with parameters {'alpha': 0.04, 'l1_ratio': 0.29, 'tol': 0.05, 'eta0': 9.27, 'loss': 'squared_hinge', 'penalty': 'l1', 'learning_rate': 'constant'}.\n",
      "[INFO 11-26 08:46:44] ax.service.ax_client: Completed trial 52 with data: {'ROC_AUC': (0.75, 0.01)}.\n"
     ]
    },
    {
     "name": "stderr",
     "output_type": "stream",
     "text": [
      "[INFO 11-26 08:46:44] ax.service.ax_client: Generated new trial 53 with parameters {'alpha': 0.09, 'l1_ratio': 0.02, 'tol': 0.09, 'eta0': 5.33, 'loss': 'hinge', 'penalty': 'l2', 'learning_rate': 'optimal'}.\n",
      "[INFO 11-26 08:47:01] ax.service.ax_client: Completed trial 53 with data: {'ROC_AUC': (0.79, 0.0)}.\n",
      "[INFO 11-26 08:47:01] ax.service.ax_client: Generated new trial 54 with parameters {'alpha': 0.0, 'l1_ratio': 0.94, 'tol': 0.01, 'eta0': 3.74, 'loss': 'perceptron', 'penalty': 'elasticnet', 'learning_rate': 'invscaling'}.\n",
      "[INFO 11-26 08:47:20] ax.service.ax_client: Completed trial 54 with data: {'ROC_AUC': (0.78, 0.01)}.\n",
      "[INFO 11-26 08:47:20] ax.service.ax_client: Generated new trial 55 with parameters {'alpha': 0.07, 'l1_ratio': 0.25, 'tol': 0.0, 'eta0': 9.84, 'loss': 'modified_huber', 'penalty': 'l2', 'learning_rate': 'constant'}.\n",
      "[INFO 11-26 08:47:36] ax.service.ax_client: Completed trial 55 with data: {'ROC_AUC': (0.57, 0.01)}.\n",
      "[INFO 11-26 08:47:37] ax.service.ax_client: Generated new trial 56 with parameters {'alpha': 0.05, 'l1_ratio': 0.83, 'tol': 0.1, 'eta0': 1.75, 'loss': 'hinge', 'penalty': 'l1', 'learning_rate': 'invscaling'}.\n",
      "[INFO 11-26 08:47:57] ax.service.ax_client: Completed trial 56 with data: {'ROC_AUC': (0.79, 0.0)}.\n",
      "[INFO 11-26 08:47:57] ax.service.ax_client: Generated new trial 57 with parameters {'alpha': 0.08, 'l1_ratio': 0.59, 'tol': 0.04, 'eta0': 2.9, 'loss': 'squared_hinge', 'penalty': 'l2', 'learning_rate': 'invscaling'}.\n",
      "[INFO 11-26 08:48:13] ax.service.ax_client: Completed trial 57 with data: {'ROC_AUC': (0.63, 0.0)}.\n",
      "[INFO 11-26 08:48:14] ax.service.ax_client: Generated new trial 58 with parameters {'alpha': 0.01, 'l1_ratio': 0.45, 'tol': 0.06, 'eta0': 6.2, 'loss': 'modified_huber', 'penalty': 'elasticnet', 'learning_rate': 'optimal'}.\n",
      "[INFO 11-26 08:48:36] ax.service.ax_client: Completed trial 58 with data: {'ROC_AUC': (0.8, 0.0)}.\n",
      "[INFO 11-26 08:48:36] ax.service.ax_client: Generated new trial 59 with parameters {'alpha': 0.06, 'l1_ratio': 0.74, 'tol': 0.03, 'eta0': 8.69, 'loss': 'log', 'penalty': 'l2', 'learning_rate': 'constant'}.\n",
      "[INFO 11-26 08:48:54] ax.service.ax_client: Completed trial 59 with data: {'ROC_AUC': (0.57, 0.01)}.\n",
      "[INFO 11-26 08:48:54] ax.service.ax_client: Generated new trial 60 with parameters {'alpha': 0.03, 'l1_ratio': 0.34, 'tol': 0.07, 'eta0': 0.37, 'loss': 'modified_huber', 'penalty': 'l2', 'learning_rate': 'adaptive'}.\n",
      "[INFO 11-26 08:49:53] ax.service.ax_client: Completed trial 60 with data: {'ROC_AUC': (0.81, 0.0)}.\n",
      "[INFO 11-26 08:49:54] ax.service.ax_client: Generated new trial 61 with parameters {'alpha': 0.1, 'l1_ratio': 0.1, 'tol': 0.01, 'eta0': 4.24, 'loss': 'perceptron', 'penalty': 'l1', 'learning_rate': 'adaptive'}.\n",
      "[INFO 11-26 08:51:37] ax.service.ax_client: Completed trial 61 with data: {'ROC_AUC': (0.5, 0.0)}.\n",
      "[INFO 11-26 08:51:37] ax.service.ax_client: Generated new trial 62 with parameters {'alpha': 0.01, 'l1_ratio': 0.94, 'tol': 0.08, 'eta0': 7.31, 'loss': 'squared_hinge', 'penalty': 'elasticnet', 'learning_rate': 'optimal'}.\n",
      "[INFO 11-26 08:51:57] ax.service.ax_client: Completed trial 62 with data: {'ROC_AUC': (0.76, 0.0)}.\n",
      "[INFO 11-26 08:51:58] ax.service.ax_client: Generated new trial 63 with parameters {'alpha': 0.09, 'l1_ratio': 0.07, 'tol': 0.04, 'eta0': 8.33, 'loss': 'log', 'penalty': 'elasticnet', 'learning_rate': 'invscaling'}.\n",
      "[INFO 11-26 08:52:19] ax.service.ax_client: Completed trial 63 with data: {'ROC_AUC': (0.69, 0.04)}.\n",
      "[INFO 11-26 08:52:19] ax.service.ax_client: Generated new trial 64 with parameters {'alpha': 0.01, 'l1_ratio': 0.98, 'tol': 0.06, 'eta0': 0.1, 'loss': 'squared_hinge', 'penalty': 'l2', 'learning_rate': 'constant'}.\n",
      "[INFO 11-26 08:52:35] ax.service.ax_client: Completed trial 64 with data: {'ROC_AUC': (0.62, 0.01)}.\n",
      "[INFO 11-26 08:52:36] ax.service.ax_client: Generated new trial 65 with parameters {'alpha': 0.07, 'l1_ratio': 0.72, 'tol': 0.01, 'eta0': 4.03, 'loss': 'log', 'penalty': 'elasticnet', 'learning_rate': 'adaptive'}.\n",
      "[INFO 11-26 08:54:41] ax.service.ax_client: Completed trial 65 with data: {'ROC_AUC': (0.5, 0.0)}.\n",
      "[INFO 11-26 08:54:41] ax.service.ax_client: Generated new trial 66 with parameters {'alpha': 0.04, 'l1_ratio': 0.37, 'tol': 0.1, 'eta0': 6.89, 'loss': 'perceptron', 'penalty': 'l1', 'learning_rate': 'invscaling'}.\n",
      "[INFO 11-26 08:55:01] ax.service.ax_client: Completed trial 66 with data: {'ROC_AUC': (0.79, 0.0)}.\n",
      "[INFO 11-26 08:55:01] ax.service.ax_client: Generated new trial 67 with parameters {'alpha': 0.09, 'l1_ratio': 0.57, 'tol': 0.01, 'eta0': 9.4, 'loss': 'log', 'penalty': 'l1', 'learning_rate': 'invscaling'}.\n",
      "[INFO 11-26 08:55:22] ax.service.ax_client: Completed trial 67 with data: {'ROC_AUC': (0.5, 0.0)}.\n",
      "[INFO 11-26 08:55:23] ax.service.ax_client: Generated new trial 68 with parameters {'alpha': 0.02, 'l1_ratio': 0.47, 'tol': 0.08, 'eta0': 1.56, 'loss': 'modified_huber', 'penalty': 'l2', 'learning_rate': 'constant'}.\n",
      "[INFO 11-26 08:55:39] ax.service.ax_client: Completed trial 68 with data: {'ROC_AUC': (0.56, 0.01)}.\n",
      "[INFO 11-26 08:55:39] ax.service.ax_client: Generated new trial 69 with parameters {'alpha': 0.05, 'l1_ratio': 0.21, 'tol': 0.03, 'eta0': 2.61, 'loss': 'hinge', 'penalty': 'elasticnet', 'learning_rate': 'optimal'}.\n",
      "[INFO 11-26 08:55:59] ax.service.ax_client: Completed trial 69 with data: {'ROC_AUC': (0.8, 0.0)}.\n",
      "[INFO 11-26 08:55:59] ax.service.ax_client: Generated new trial 70 with parameters {'alpha': 0.03, 'l1_ratio': 0.87, 'tol': 0.07, 'eta0': 5.86, 'loss': 'perceptron', 'penalty': 'elasticnet', 'learning_rate': 'adaptive'}.\n",
      "[INFO 11-26 08:57:44] ax.service.ax_client: Completed trial 70 with data: {'ROC_AUC': (0.79, 0.0)}.\n",
      "[INFO 11-26 08:57:45] ax.service.ax_client: Generated new trial 71 with parameters {'alpha': 0.1, 'l1_ratio': 0.06, 'tol': 0.06, 'eta0': 1.93, 'loss': 'squared_hinge', 'penalty': 'elasticnet', 'learning_rate': 'constant'}.\n",
      "[INFO 11-26 08:58:08] ax.service.ax_client: Completed trial 71 with data: {'ROC_AUC': (0.56, 0.02)}.\n",
      "[INFO 11-26 08:58:08] ax.service.ax_client: Generated new trial 72 with parameters {'alpha': 0.02, 'l1_ratio': 0.89, 'tol': 0.03, 'eta0': 8.99, 'loss': 'hinge', 'penalty': 'l2', 'learning_rate': 'optimal'}.\n",
      "[INFO 11-26 08:58:25] ax.service.ax_client: Completed trial 72 with data: {'ROC_AUC': (0.8, 0.0)}.\n",
      "[INFO 11-26 08:58:25] ax.service.ax_client: Generated new trial 73 with parameters {'alpha': 0.06, 'l1_ratio': 0.66, 'tol': 0.08, 'eta0': 5.14, 'loss': 'perceptron', 'penalty': 'elasticnet', 'learning_rate': 'invscaling'}.\n",
      "[INFO 11-26 08:58:45] ax.service.ax_client: Completed trial 73 with data: {'ROC_AUC': (0.79, 0.0)}.\n",
      "[INFO 11-26 08:58:45] ax.service.ax_client: Generated new trial 74 with parameters {'alpha': 0.03, 'l1_ratio': 0.26, 'tol': 0.02, 'eta0': 3.3, 'loss': 'squared_hinge', 'penalty': 'l2', 'learning_rate': 'adaptive'}.\n",
      "[INFO 11-26 08:59:53] ax.service.ax_client: Completed trial 74 with data: {'ROC_AUC': (0.64, 0.0)}.\n",
      "[INFO 11-26 08:59:53] ax.service.ax_client: Generated new trial 75 with parameters {'alpha': 0.08, 'l1_ratio': 0.55, 'tol': 0.09, 'eta0': 0.83, 'loss': 'log', 'penalty': 'l1', 'learning_rate': 'optimal'}.\n",
      "[INFO 11-26 09:00:15] ax.service.ax_client: Completed trial 75 with data: {'ROC_AUC': (0.5, 0.0)}.\n",
      "[INFO 11-26 09:00:15] ax.service.ax_client: Generated new trial 76 with parameters {'alpha': 0.01, 'l1_ratio': 0.4, 'tol': 0.01, 'eta0': 7.64, 'loss': 'modified_huber', 'penalty': 'elasticnet', 'learning_rate': 'invscaling'}.\n",
      "[INFO 11-26 09:00:36] ax.service.ax_client: Completed trial 76 with data: {'ROC_AUC': (0.78, 0.01)}.\n",
      "[INFO 11-26 09:00:37] ax.service.ax_client: Generated new trial 77 with parameters {'alpha': 0.07, 'l1_ratio': 0.17, 'tol': 0.05, 'eta0': 6.52, 'loss': 'perceptron', 'penalty': 'l2', 'learning_rate': 'optimal'}.\n",
      "[INFO 11-26 09:00:53] ax.service.ax_client: Completed trial 77 with data: {'ROC_AUC': (0.71, 0.01)}.\n",
      "[INFO 11-26 09:00:53] ax.service.ax_client: Generated new trial 78 with parameters {'alpha': 0.05, 'l1_ratio': 0.75, 'tol': 0.05, 'eta0': 4.44, 'loss': 'hinge', 'penalty': 'elasticnet', 'learning_rate': 'adaptive'}.\n",
      "[INFO 11-26 09:02:41] ax.service.ax_client: Completed trial 78 with data: {'ROC_AUC': (0.79, 0.0)}.\n"
     ]
    },
    {
     "name": "stderr",
     "output_type": "stream",
     "text": [
      "[INFO 11-26 09:02:42] ax.service.ax_client: Generated new trial 79 with parameters {'alpha': 0.04, 'l1_ratio': 0.44, 'tol': 0.02, 'eta0': 0.46, 'loss': 'log', 'penalty': 'elasticnet', 'learning_rate': 'adaptive'}.\n",
      "[INFO 11-26 09:04:35] ax.service.ax_client: Completed trial 79 with data: {'ROC_AUC': (0.8, 0.0)}.\n",
      "[INFO 11-26 09:04:36] ax.service.ax_client: Generated new trial 80 with parameters {'alpha': 0.07, 'l1_ratio': 0.61, 'tol': 0.08, 'eta0': 8.63, 'loss': 'perceptron', 'penalty': 'l1', 'learning_rate': 'invscaling'}.\n",
      "[INFO 11-26 09:04:56] ax.service.ax_client: Completed trial 80 with data: {'ROC_AUC': (0.5, 0.0)}.\n",
      "[INFO 11-26 09:04:57] ax.service.ax_client: Generated new trial 81 with parameters {'alpha': 0.0, 'l1_ratio': 0.84, 'tol': 0.03, 'eta0': 7.26, 'loss': 'squared_hinge', 'penalty': 'elasticnet', 'learning_rate': 'optimal'}.\n",
      "[INFO 11-26 09:05:17] ax.service.ax_client: Completed trial 81 with data: {'ROC_AUC': (0.69, 0.0)}.\n",
      "[INFO 11-26 09:05:17] ax.service.ax_client: Generated new trial 82 with parameters {'alpha': 0.08, 'l1_ratio': 0.24, 'tol': 0.07, 'eta0': 4.34, 'loss': 'perceptron', 'penalty': 'l2', 'learning_rate': 'invscaling'}.\n",
      "[INFO 11-26 09:05:33] ax.service.ax_client: Completed trial 82 with data: {'ROC_AUC': (0.64, 0.01)}.\n",
      "[INFO 11-26 09:05:34] ax.service.ax_client: Generated new trial 83 with parameters {'alpha': 0.04, 'l1_ratio': 0.95, 'tol': 0.04, 'eta0': 1.81, 'loss': 'modified_huber', 'penalty': 'l2', 'learning_rate': 'invscaling'}.\n",
      "[INFO 11-26 09:05:50] ax.service.ax_client: Completed trial 83 with data: {'ROC_AUC': (0.71, 0.01)}.\n",
      "[INFO 11-26 09:05:51] ax.service.ax_client: Generated new trial 84 with parameters {'alpha': 0.06, 'l1_ratio': 0.1, 'tol': 0.06, 'eta0': 9.75, 'loss': 'perceptron', 'penalty': 'elasticnet', 'learning_rate': 'adaptive'}.\n",
      "[INFO 11-26 09:07:30] ax.service.ax_client: Completed trial 84 with data: {'ROC_AUC': (0.79, 0.0)}.\n",
      "[INFO 11-26 09:07:31] ax.service.ax_client: Generated new trial 85 with parameters {'alpha': 0.02, 'l1_ratio': 0.33, 'tol': 0.0, 'eta0': 6.1, 'loss': 'hinge', 'penalty': 'l2', 'learning_rate': 'constant'}.\n",
      "[INFO 11-26 09:07:47] ax.service.ax_client: Completed trial 85 with data: {'ROC_AUC': (0.54, 0.06)}.\n",
      "[INFO 11-26 09:07:47] ax.service.ax_client: Generated new trial 86 with parameters {'alpha': 0.09, 'l1_ratio': 0.75, 'tol': 0.1, 'eta0': 2.95, 'loss': 'modified_huber', 'penalty': 'elasticnet', 'learning_rate': 'optimal'}.\n",
      "[INFO 11-26 09:08:09] ax.service.ax_client: Completed trial 86 with data: {'ROC_AUC': (0.79, 0.0)}.\n",
      "[INFO 11-26 09:08:09] ax.service.ax_client: Generated new trial 87 with parameters {'alpha': 0.03, 'l1_ratio': 0.43, 'tol': 0.09, 'eta0': 9.38, 'loss': 'perceptron', 'penalty': 'l2', 'learning_rate': 'optimal'}.\n",
      "[INFO 11-26 09:08:25] ax.service.ax_client: Completed trial 87 with data: {'ROC_AUC': (0.73, 0.01)}.\n",
      "[INFO 11-26 09:08:25] ax.service.ax_client: Generated new trial 88 with parameters {'alpha': 0.06, 'l1_ratio': 0.52, 'tol': 0.01, 'eta0': 2.22, 'loss': 'hinge', 'penalty': 'l1', 'learning_rate': 'adaptive'}.\n",
      "[INFO 11-26 09:10:15] ax.service.ax_client: Completed trial 88 with data: {'ROC_AUC': (0.79, 0.0)}.\n",
      "[INFO 11-26 09:10:15] ax.service.ax_client: Generated new trial 89 with parameters {'alpha': 0.02, 'l1_ratio': 0.78, 'tol': 0.05, 'eta0': 3.67, 'loss': 'log', 'penalty': 'elasticnet', 'learning_rate': 'adaptive'}.\n",
      "[INFO 11-26 09:12:18] ax.service.ax_client: Completed trial 89 with data: {'ROC_AUC': (0.79, 0.0)}.\n",
      "[INFO 11-26 09:12:18] ax.service.ax_client: Generated new trial 90 with parameters {'alpha': 0.1, 'l1_ratio': 0.13, 'tol': 0.05, 'eta0': 5.42, 'loss': 'squared_hinge', 'penalty': 'elasticnet', 'learning_rate': 'constant'}.\n",
      "[INFO 11-26 09:12:41] ax.service.ax_client: Completed trial 90 with data: {'ROC_AUC': (0.57, 0.01)}.\n",
      "[INFO 11-26 09:12:41] ax.service.ax_client: Generated new trial 91 with parameters {'alpha': 0.05, 'l1_ratio': 0.92, 'tol': 0.07, 'eta0': 7.91, 'loss': 'log', 'penalty': 'l2', 'learning_rate': 'adaptive'}.\n",
      "[INFO 11-26 09:14:01] ax.service.ax_client: Completed trial 91 with data: {'ROC_AUC': (0.73, 0.0)}.\n",
      "[INFO 11-26 09:14:01] ax.service.ax_client: Generated new trial 92 with parameters {'alpha': 0.07, 'l1_ratio': 0.03, 'tol': 0.04, 'eta0': 1.14, 'loss': 'squared_hinge', 'penalty': 'l1', 'learning_rate': 'invscaling'}.\n",
      "[INFO 11-26 09:14:22] ax.service.ax_client: Completed trial 92 with data: {'ROC_AUC': (0.69, 0.0)}.\n",
      "[INFO 11-26 09:14:23] ax.service.ax_client: Generated new trial 93 with parameters {'alpha': 0.01, 'l1_ratio': 0.29, 'tol': 0.08, 'eta0': 4.71, 'loss': 'hinge', 'penalty': 'l1', 'learning_rate': 'invscaling'}.\n",
      "[INFO 11-26 09:14:42] ax.service.ax_client: Completed trial 93 with data: {'ROC_AUC': (0.8, 0.0)}.\n",
      "[INFO 11-26 09:14:43] ax.service.ax_client: Generated new trial 94 with parameters {'alpha': 0.08, 'l1_ratio': 0.63, 'tol': 0.02, 'eta0': 6.85, 'loss': 'modified_huber', 'penalty': 'elasticnet', 'learning_rate': 'optimal'}.\n",
      "[INFO 11-26 09:15:04] ax.service.ax_client: Completed trial 94 with data: {'ROC_AUC': (0.79, 0.0)}.\n",
      "[INFO 11-26 09:15:05] ax.service.ax_client: Generated new trial 95 with parameters {'alpha': 0.01, 'l1_ratio': 0.11, 'tol': 0.03, 'eta0': 7.09, 'loss': 'log', 'penalty': 'l1', 'learning_rate': 'invscaling'}.\n",
      "[INFO 11-26 09:15:26] ax.service.ax_client: Completed trial 95 with data: {'ROC_AUC': (0.8, 0.0)}.\n",
      "[INFO 11-26 09:15:27] ax.service.ax_client: Generated new trial 96 with parameters {'alpha': 0.08, 'l1_ratio': 0.96, 'tol': 0.06, 'eta0': 3.84, 'loss': 'hinge', 'penalty': 'elasticnet', 'learning_rate': 'optimal'}.\n",
      "[INFO 11-26 09:15:47] ax.service.ax_client: Completed trial 96 with data: {'ROC_AUC': (0.5, 0.0)}.\n",
      "[INFO 11-26 09:15:47] ax.service.ax_client: Generated new trial 97 with parameters {'alpha': 0.05, 'l1_ratio': 0.73, 'tol': 0.02, 'eta0': 0.3, 'loss': 'perceptron', 'penalty': 'l1', 'learning_rate': 'adaptive'}.\n",
      "[INFO 11-26 09:17:13] ax.service.ax_client: Completed trial 97 with data: {'ROC_AUC': (0.57, 0.12)}.\n",
      "[INFO 11-26 09:17:13] ax.service.ax_client: Generated new trial 98 with parameters {'alpha': 0.07, 'l1_ratio': 0.32, 'tol': 0.08, 'eta0': 8.13, 'loss': 'squared_hinge', 'penalty': 'l1', 'learning_rate': 'invscaling'}.\n",
      "[INFO 11-26 09:17:33] ax.service.ax_client: Completed trial 98 with data: {'ROC_AUC': (0.72, 0.02)}.\n",
      "[INFO 11-26 09:17:33] ax.service.ax_client: Generated new trial 99 with parameters {'alpha': 0.01, 'l1_ratio': 0.62, 'tol': 0.01, 'eta0': 5.66, 'loss': 'perceptron', 'penalty': 'l2', 'learning_rate': 'optimal'}.\n",
      "[INFO 11-26 09:17:49] ax.service.ax_client: Completed trial 99 with data: {'ROC_AUC': (0.74, 0.01)}.\n",
      "[INFO 11-26 09:17:50] ax.service.ax_client: Generated new trial 100 with parameters {'alpha': 0.09, 'l1_ratio': 0.45, 'tol': 0.09, 'eta0': 2.8, 'loss': 'squared_hinge', 'penalty': 'l2', 'learning_rate': 'constant'}.\n",
      "[INFO 11-26 09:18:06] ax.service.ax_client: Completed trial 100 with data: {'ROC_AUC': (0.57, 0.02)}.\n",
      "[INFO 11-26 09:18:07] ax.service.ax_client: Generated new trial 101 with parameters {'alpha': 0.03, 'l1_ratio': 0.22, 'tol': 0.05, 'eta0': 1.37, 'loss': 'log', 'penalty': 'elasticnet', 'learning_rate': 'optimal'}.\n",
      "[INFO 11-26 09:18:28] ax.service.ax_client: Completed trial 101 with data: {'ROC_AUC': (0.78, 0.0)}.\n",
      "[INFO 11-26 09:18:29] ax.service.ax_client: Generated new trial 102 with parameters {'alpha': 0.06, 'l1_ratio': 0.82, 'tol': 0.05, 'eta0': 9.6, 'loss': 'modified_huber', 'penalty': 'l1', 'learning_rate': 'adaptive'}.\n",
      "[INFO 11-26 09:20:23] ax.service.ax_client: Completed trial 102 with data: {'ROC_AUC': (0.79, 0.0)}.\n",
      "[INFO 11-26 09:20:23] ax.service.ax_client: Generated new trial 103 with parameters {'alpha': 0.02, 'l1_ratio': 0.01, 'tol': 0.06, 'eta0': 3.17, 'loss': 'log', 'penalty': 'l1', 'learning_rate': 'adaptive'}.\n",
      "[INFO 11-26 09:22:27] ax.service.ax_client: Completed trial 103 with data: {'ROC_AUC': (0.79, 0.0)}.\n",
      "[INFO 11-26 09:22:27] ax.service.ax_client: Generated new trial 104 with parameters {'alpha': 0.09, 'l1_ratio': 0.91, 'tol': 0.04, 'eta0': 5.25, 'loss': 'hinge', 'penalty': 'elasticnet', 'learning_rate': 'optimal'}.\n",
      "[INFO 11-26 09:22:47] ax.service.ax_client: Completed trial 104 with data: {'ROC_AUC': (0.5, 0.0)}.\n",
      "[INFO 11-26 09:22:48] ax.service.ax_client: Generated new trial 105 with parameters {'alpha': 0.03, 'l1_ratio': 0.65, 'tol': 0.1, 'eta0': 8.88, 'loss': 'log', 'penalty': 'l2', 'learning_rate': 'constant'}.\n"
     ]
    },
    {
     "name": "stderr",
     "output_type": "stream",
     "text": [
      "[INFO 11-26 09:23:05] ax.service.ax_client: Completed trial 105 with data: {'ROC_AUC': (0.57, 0.01)}.\n",
      "[INFO 11-26 09:23:05] ax.service.ax_client: Generated new trial 106 with parameters {'alpha': 0.05, 'l1_ratio': 0.31, 'tol': 0.0, 'eta0': 2.06, 'loss': 'perceptron', 'penalty': 'l1', 'learning_rate': 'optimal'}.\n",
      "[INFO 11-26 09:23:26] ax.service.ax_client: Completed trial 106 with data: {'ROC_AUC': (0.5, 0.0)}.\n",
      "[INFO 11-26 09:23:27] ax.service.ax_client: Generated new trial 107 with parameters {'alpha': 0.0, 'l1_ratio': 0.51, 'tol': 0.08, 'eta0': 4.56, 'loss': 'log', 'penalty': 'elasticnet', 'learning_rate': 'optimal'}.\n",
      "[INFO 11-26 09:23:49] ax.service.ax_client: Completed trial 107 with data: {'ROC_AUC': (0.8, 0.0)}.\n",
      "[INFO 11-26 09:23:49] ax.service.ax_client: Generated new trial 108 with parameters {'alpha': 0.08, 'l1_ratio': 0.42, 'tol': 0.02, 'eta0': 6.41, 'loss': 'hinge', 'penalty': 'l2', 'learning_rate': 'invscaling'}.\n",
      "[INFO 11-26 09:24:06] ax.service.ax_client: Completed trial 108 with data: {'ROC_AUC': (0.63, 0.0)}.\n",
      "[INFO 11-26 09:24:06] ax.service.ax_client: Generated new trial 109 with parameters {'alpha': 0.04, 'l1_ratio': 0.15, 'tol': 0.07, 'eta0': 7.76, 'loss': 'hinge', 'penalty': 'elasticnet', 'learning_rate': 'constant'}.\n",
      "[INFO 11-26 09:24:27] ax.service.ax_client: Completed trial 109 with data: {'ROC_AUC': (0.66, 0.09)}.\n",
      "[INFO 11-26 09:24:27] ax.service.ax_client: Generated new trial 110 with parameters {'alpha': 0.07, 'l1_ratio': 0.8, 'tol': 0.03, 'eta0': 0.7, 'loss': 'squared_hinge', 'penalty': 'l1', 'learning_rate': 'adaptive'}.\n",
      "[INFO 11-26 09:26:11] ax.service.ax_client: Completed trial 110 with data: {'ROC_AUC': (0.68, 0.0)}.\n",
      "[INFO 11-26 09:26:11] ax.service.ax_client: Generated new trial 111 with parameters {'alpha': 0.06, 'l1_ratio': 0.49, 'tol': 0.01, 'eta0': 4.22, 'loss': 'modified_huber', 'penalty': 'l2', 'learning_rate': 'constant'}.\n",
      "[INFO 11-26 09:26:27] ax.service.ax_client: Completed trial 111 with data: {'ROC_AUC': (0.57, 0.02)}.\n",
      "[INFO 11-26 09:26:28] ax.service.ax_client: Generated new trial 112 with parameters {'alpha': 0.04, 'l1_ratio': 0.59, 'tol': 0.09, 'eta0': 7.37, 'loss': 'hinge', 'penalty': 'l1', 'learning_rate': 'constant'}.\n",
      "[INFO 11-26 09:26:48] ax.service.ax_client: Completed trial 112 with data: {'ROC_AUC': (0.79, 0.0)}.\n",
      "[INFO 11-26 09:26:48] ax.service.ax_client: Generated new trial 113 with parameters {'alpha': 0.08, 'l1_ratio': 0.85, 'tol': 0.04, 'eta0': 8.52, 'loss': 'log', 'penalty': 'l2', 'learning_rate': 'optimal'}.\n",
      "[INFO 11-26 09:27:05] ax.service.ax_client: Completed trial 113 with data: {'ROC_AUC': (0.7, 0.0)}.\n",
      "[INFO 11-26 09:27:06] ax.service.ax_client: Generated new trial 114 with parameters {'alpha': 0.01, 'l1_ratio': 0.19, 'tol': 0.05, 'eta0': 0.58, 'loss': 'squared_hinge', 'penalty': 'elasticnet', 'learning_rate': 'invscaling'}.\n",
      "[INFO 11-26 09:27:26] ax.service.ax_client: Completed trial 114 with data: {'ROC_AUC': (0.66, 0.0)}.\n",
      "[INFO 11-26 09:27:26] ax.service.ax_client: Generated new trial 115 with parameters {'alpha': 0.06, 'l1_ratio': 0.99, 'tol': 0.04, 'eta0': 3.07, 'loss': 'perceptron', 'penalty': 'elasticnet', 'learning_rate': 'invscaling'}.\n",
      "[INFO 11-26 09:27:47] ax.service.ax_client: Completed trial 115 with data: {'ROC_AUC': (0.5, 0.0)}.\n",
      "[INFO 11-26 09:27:47] ax.service.ax_client: Generated new trial 116 with parameters {'alpha': 0.03, 'l1_ratio': 0.08, 'tol': 0.07, 'eta0': 5.99, 'loss': 'squared_hinge', 'penalty': 'l2', 'learning_rate': 'adaptive'}.\n",
      "[INFO 11-26 09:28:55] ax.service.ax_client: Completed trial 116 with data: {'ROC_AUC': (0.64, 0.0)}.\n",
      "[INFO 11-26 09:28:56] ax.service.ax_client: Generated new trial 117 with parameters {'alpha': 0.1, 'l1_ratio': 0.35, 'tol': 0.02, 'eta0': 9.86, 'loss': 'hinge', 'penalty': 'l1', 'learning_rate': 'constant'}.\n",
      "[INFO 11-26 09:29:17] ax.service.ax_client: Completed trial 117 with data: {'ROC_AUC': (0.5, 0.0)}.\n",
      "[INFO 11-26 09:29:18] ax.service.ax_client: Generated new trial 118 with parameters {'alpha': 0.02, 'l1_ratio': 0.7, 'tol': 0.08, 'eta0': 1.69, 'loss': 'squared_hinge', 'penalty': 'l2', 'learning_rate': 'optimal'}.\n",
      "[INFO 11-26 09:29:33] ax.service.ax_client: Completed trial 118 with data: {'ROC_AUC': (0.65, 0.0)}.\n",
      "[INFO 11-26 09:29:34] ax.service.ax_client: Generated new trial 119 with parameters {'alpha': 0.05, 'l1_ratio': 0.39, 'tol': 0.09, 'eta0': 5.62, 'loss': 'log', 'penalty': 'l2', 'learning_rate': 'optimal'}.\n",
      "[INFO 11-26 09:29:51] ax.service.ax_client: Completed trial 119 with data: {'ROC_AUC': (0.72, 0.0)}.\n",
      "[INFO 11-26 09:29:52] ax.service.ax_client: Generated new trial 120 with parameters {'alpha': 0.03, 'l1_ratio': 0.54, 'tol': 0.02, 'eta0': 3.48, 'loss': 'hinge', 'penalty': 'l2', 'learning_rate': 'constant'}.\n",
      "[INFO 11-26 09:30:08] ax.service.ax_client: Completed trial 120 with data: {'ROC_AUC': (0.54, 0.06)}.\n",
      "[INFO 11-26 09:30:08] ax.service.ax_client: Generated new trial 121 with parameters {'alpha': 0.09, 'l1_ratio': 0.77, 'tol': 0.07, 'eta0': 2.41, 'loss': 'squared_hinge', 'penalty': 'l1', 'learning_rate': 'invscaling'}.\n",
      "[INFO 11-26 09:30:29] ax.service.ax_client: Completed trial 121 with data: {'ROC_AUC': (0.71, 0.0)}.\n",
      "[INFO 11-26 09:30:29] ax.service.ax_client: Generated new trial 122 with parameters {'alpha': 0.02, 'l1_ratio': 0.19, 'tol': 0.03, 'eta0': 9.17, 'loss': 'modified_huber', 'penalty': 'elasticnet', 'learning_rate': 'constant'}.\n",
      "[INFO 11-26 09:30:49] ax.service.ax_client: Completed trial 122 with data: {'ROC_AUC': (0.63, 0.01)}.\n",
      "[INFO 11-26 09:30:50] ax.service.ax_client: Generated new trial 123 with parameters {'alpha': 0.07, 'l1_ratio': 0.88, 'tol': 0.06, 'eta0': 6.65, 'loss': 'squared_hinge', 'penalty': 'l2', 'learning_rate': 'adaptive'}.\n",
      "[INFO 11-26 09:31:58] ax.service.ax_client: Completed trial 123 with data: {'ROC_AUC': (0.62, 0.0)}.\n",
      "[INFO 11-26 09:31:58] ax.service.ax_client: Generated new trial 124 with parameters {'alpha': 0.04, 'l1_ratio': 0.05, 'tol': 0.04, 'eta0': 4.9, 'loss': 'perceptron', 'penalty': 'l1', 'learning_rate': 'constant'}.\n",
      "[INFO 11-26 09:32:17] ax.service.ax_client: Completed trial 124 with data: {'ROC_AUC': (0.79, 0.0)}.\n",
      "[INFO 11-26 09:32:18] ax.service.ax_client: Generated new trial 125 with parameters {'alpha': 0.08, 'l1_ratio': 0.28, 'tol': 0.09, 'eta0': 0.95, 'loss': 'modified_huber', 'penalty': 'l1', 'learning_rate': 'invscaling'}.\n",
      "[INFO 11-26 09:32:39] ax.service.ax_client: Completed trial 125 with data: {'ROC_AUC': (0.79, 0.0)}.\n",
      "[INFO 11-26 09:32:40] ax.service.ax_client: Generated new trial 126 with parameters {'alpha': 0.0, 'l1_ratio': 0.68, 'tol': 0.0, 'eta0': 8.11, 'loss': 'squared_hinge', 'penalty': 'l1', 'learning_rate': 'adaptive'}.\n",
      "[INFO 11-26 09:34:30] ax.service.ax_client: Completed trial 126 with data: {'ROC_AUC': (0.69, 0.0)}.\n",
      "[INFO 11-26 09:34:31] ax.service.ax_client: Generated new trial 127 with parameters {'alpha': 0.0, 'l1_ratio': 0.73, 'tol': 0.04, 'eta0': 5.44, 'loss': 'log', 'penalty': 'l1', 'learning_rate': 'constant'}.\n",
      "[INFO 11-26 09:34:52] ax.service.ax_client: Completed trial 127 with data: {'ROC_AUC': (0.76, 0.04)}.\n",
      "[INFO 11-26 09:34:53] ax.service.ax_client: Generated new trial 128 with parameters {'alpha': 0.09, 'l1_ratio': 0.32, 'tol': 0.07, 'eta0': 3.61, 'loss': 'hinge', 'penalty': 'elasticnet', 'learning_rate': 'invscaling'}.\n",
      "[INFO 11-26 09:35:14] ax.service.ax_client: Completed trial 128 with data: {'ROC_AUC': (0.79, 0.0)}.\n",
      "[INFO 11-26 09:35:14] ax.service.ax_client: Generated new trial 129 with parameters {'alpha': 0.04, 'l1_ratio': 0.12, 'tol': 0.02, 'eta0': 2.24, 'loss': 'squared_hinge', 'penalty': 'l2', 'learning_rate': 'constant'}.\n",
      "[INFO 11-26 09:35:30] ax.service.ax_client: Completed trial 129 with data: {'ROC_AUC': (0.57, 0.01)}.\n",
      "[INFO 11-26 09:35:31] ax.service.ax_client: Generated new trial 130 with parameters {'alpha': 0.07, 'l1_ratio': 0.97, 'tol': 0.08, 'eta0': 9.32, 'loss': 'perceptron', 'penalty': 'l2', 'learning_rate': 'optimal'}.\n",
      "[INFO 11-26 09:35:47] ax.service.ax_client: Completed trial 130 with data: {'ROC_AUC': (0.71, 0.01)}.\n",
      "[INFO 11-26 09:35:47] ax.service.ax_client: Generated new trial 131 with parameters {'alpha': 0.02, 'l1_ratio': 0.22, 'tol': 0.01, 'eta0': 6.83, 'loss': 'log', 'penalty': 'l1', 'learning_rate': 'optimal'}.\n"
     ]
    },
    {
     "name": "stderr",
     "output_type": "stream",
     "text": [
      "[INFO 11-26 09:36:09] ax.service.ax_client: Completed trial 131 with data: {'ROC_AUC': (0.79, 0.0)}.\n",
      "[INFO 11-26 09:36:09] ax.service.ax_client: Generated new trial 132 with parameters {'alpha': 0.09, 'l1_ratio': 0.82, 'tol': 0.09, 'eta0': 4.77, 'loss': 'hinge', 'penalty': 'l1', 'learning_rate': 'adaptive'}.\n",
      "[INFO 11-26 09:37:59] ax.service.ax_client: Completed trial 132 with data: {'ROC_AUC': (0.5, 0.0)}.\n",
      "[INFO 11-26 09:37:59] ax.service.ax_client: Generated new trial 133 with parameters {'alpha': 0.03, 'l1_ratio': 0.62, 'tol': 0.04, 'eta0': 1.13, 'loss': 'hinge', 'penalty': 'l2', 'learning_rate': 'constant'}.\n",
      "[INFO 11-26 09:38:15] ax.service.ax_client: Completed trial 133 with data: {'ROC_AUC': (0.57, 0.01)}.\n",
      "[INFO 11-26 09:38:16] ax.service.ax_client: Generated new trial 134 with parameters {'alpha': 0.05, 'l1_ratio': 0.46, 'tol': 0.05, 'eta0': 7.96, 'loss': 'perceptron', 'penalty': 'l1', 'learning_rate': 'optimal'}.\n",
      "[INFO 11-26 09:38:36] ax.service.ax_client: Completed trial 134 with data: {'ROC_AUC': (0.5, 0.0)}.\n",
      "[INFO 11-26 09:38:37] ax.service.ax_client: Generated new trial 135 with parameters {'alpha': 0.01, 'l1_ratio': 0.64, 'tol': 0.06, 'eta0': 4.36, 'loss': 'log', 'penalty': 'l2', 'learning_rate': 'invscaling'}.\n",
      "[INFO 11-26 09:38:54] ax.service.ax_client: Completed trial 135 with data: {'ROC_AUC': (0.73, 0.02)}.\n",
      "[INFO 11-26 09:38:55] ax.service.ax_client: Generated new trial 136 with parameters {'alpha': 0.09, 'l1_ratio': 0.31, 'tol': 0.04, 'eta0': 7.2, 'loss': 'hinge', 'penalty': 'elasticnet', 'learning_rate': 'adaptive'}.\n",
      "[INFO 11-26 09:40:45] ax.service.ax_client: Completed trial 136 with data: {'ROC_AUC': (0.79, 0.0)}.\n",
      "[INFO 11-26 09:40:45] ax.service.ax_client: Generated new trial 137 with parameters {'alpha': 0.03, 'l1_ratio': 0.01, 'tol': 0.09, 'eta0': 8.65, 'loss': 'perceptron', 'penalty': 'l2', 'learning_rate': 'adaptive'}.\n",
      "[INFO 11-26 09:41:53] ax.service.ax_client: Completed trial 137 with data: {'ROC_AUC': (0.69, 0.0)}.\n",
      "[INFO 11-26 09:41:53] ax.service.ax_client: Generated new trial 138 with parameters {'alpha': 0.06, 'l1_ratio': 0.91, 'tol': 0.0, 'eta0': 0.4, 'loss': 'squared_hinge', 'penalty': 'elasticnet', 'learning_rate': 'constant'}.\n",
      "[INFO 11-26 09:42:15] ax.service.ax_client: Completed trial 138 with data: {'ROC_AUC': (0.59, 0.01)}.\n",
      "[INFO 11-26 09:42:15] ax.service.ax_client: Generated new trial 139 with parameters {'alpha': 0.01, 'l1_ratio': 0.15, 'tol': 0.09, 'eta0': 2.93, 'loss': 'modified_huber', 'penalty': 'l1', 'learning_rate': 'adaptive'}.\n",
      "[INFO 11-26 09:44:13] ax.service.ax_client: Completed trial 139 with data: {'ROC_AUC': (0.8, 0.0)}.\n",
      "[INFO 11-26 09:44:14] ax.service.ax_client: Generated new trial 140 with parameters {'alpha': 0.08, 'l1_ratio': 0.8, 'tol': 0.02, 'eta0': 6.16, 'loss': 'squared_hinge', 'penalty': 'l2', 'learning_rate': 'constant'}.\n",
      "[INFO 11-26 09:44:30] ax.service.ax_client: Completed trial 140 with data: {'ROC_AUC': (0.57, 0.01)}.\n",
      "[INFO 11-26 09:44:31] ax.service.ax_client: Generated new trial 141 with parameters {'alpha': 0.05, 'l1_ratio': 0.5, 'tol': 0.07, 'eta0': 9.73, 'loss': 'log', 'penalty': 'elasticnet', 'learning_rate': 'optimal'}.\n",
      "[INFO 11-26 09:44:52] ax.service.ax_client: Completed trial 141 with data: {'ROC_AUC': (0.79, 0.0)}.\n",
      "[INFO 11-26 09:44:53] ax.service.ax_client: Generated new trial 142 with parameters {'alpha': 0.07, 'l1_ratio': 0.42, 'tol': 0.03, 'eta0': 1.87, 'loss': 'modified_huber', 'penalty': 'l2', 'learning_rate': 'constant'}.\n",
      "[INFO 11-26 09:45:09] ax.service.ax_client: Completed trial 142 with data: {'ROC_AUC': (0.53, 0.06)}.\n",
      "[INFO 11-26 09:45:10] ax.service.ax_client: Generated new trial 143 with parameters {'alpha': 0.07, 'l1_ratio': 0.86, 'tol': 0.01, 'eta0': 3.35, 'loss': 'modified_huber', 'penalty': 'l2', 'learning_rate': 'optimal'}.\n",
      "[INFO 11-26 09:45:27] ax.service.ax_client: Completed trial 143 with data: {'ROC_AUC': (0.8, 0.0)}.\n",
      "[INFO 11-26 09:45:28] ax.service.ax_client: Generated new trial 144 with parameters {'alpha': 0.04, 'l1_ratio': 0.19, 'tol': 0.09, 'eta0': 5.12, 'loss': 'perceptron', 'penalty': 'l1', 'learning_rate': 'invscaling'}.\n",
      "[INFO 11-26 09:45:47] ax.service.ax_client: Completed trial 144 with data: {'ROC_AUC': (0.72, 0.13)}.\n",
      "[INFO 11-26 09:45:48] ax.service.ax_client: Generated new trial 145 with parameters {'alpha': 0.08, 'l1_ratio': 0.49, 'tol': 0.05, 'eta0': 9.05, 'loss': 'squared_hinge', 'penalty': 'l1', 'learning_rate': 'optimal'}.\n",
      "[INFO 11-26 09:46:07] ax.service.ax_client: Completed trial 145 with data: {'ROC_AUC': (0.72, 0.02)}.\n",
      "[INFO 11-26 09:46:08] ax.service.ax_client: Generated new trial 146 with parameters {'alpha': 0.0, 'l1_ratio': 0.59, 'tol': 0.05, 'eta0': 1.91, 'loss': 'modified_huber', 'penalty': 'elasticnet', 'learning_rate': 'constant'}.\n",
      "[INFO 11-26 09:46:28] ax.service.ax_client: Completed trial 146 with data: {'ROC_AUC': (0.69, 0.02)}.\n",
      "[INFO 11-26 09:46:28] ax.service.ax_client: Generated new trial 147 with parameters {'alpha': 0.05, 'l1_ratio': 0.35, 'tol': 0.03, 'eta0': 4.38, 'loss': 'log', 'penalty': 'elasticnet', 'learning_rate': 'adaptive'}.\n",
      "[INFO 11-26 09:48:33] ax.service.ax_client: Completed trial 147 with data: {'ROC_AUC': (0.79, 0.0)}.\n",
      "[INFO 11-26 09:48:34] ax.service.ax_client: Generated new trial 148 with parameters {'alpha': 0.03, 'l1_ratio': 0.7, 'tol': 0.06, 'eta0': 6.54, 'loss': 'modified_huber', 'penalty': 'l1', 'learning_rate': 'constant'}.\n",
      "[INFO 11-26 09:48:53] ax.service.ax_client: Completed trial 148 with data: {'ROC_AUC': (0.77, 0.03)}.\n",
      "[INFO 11-26 09:48:54] ax.service.ax_client: Generated new trial 149 with parameters {'alpha': 0.09, 'l1_ratio': 1.0, 'tol': 0.02, 'eta0': 7.59, 'loss': 'hinge', 'penalty': 'elasticnet', 'learning_rate': 'invscaling'}.\n",
      "[INFO 11-26 09:49:14] ax.service.ax_client: Completed trial 149 with data: {'ROC_AUC': (0.5, 0.0)}.\n",
      "[INFO 11-26 09:49:15] ax.service.ax_client: Generated new trial 150 with parameters {'alpha': 0.02, 'l1_ratio': 0.08, 'tol': 0.08, 'eta0': 0.84, 'loss': 'squared_hinge', 'penalty': 'l2', 'learning_rate': 'adaptive'}.\n",
      "[INFO 11-26 09:50:18] ax.service.ax_client: Completed trial 150 with data: {'ROC_AUC': (0.64, 0.0)}.\n",
      "[INFO 11-26 09:50:19] ax.service.ax_client: Generated new trial 151 with parameters {'alpha': 0.06, 'l1_ratio': 0.77, 'tol': 0.08, 'eta0': 6.95, 'loss': 'squared_hinge', 'penalty': 'l1', 'learning_rate': 'invscaling'}.\n",
      "[INFO 11-26 09:50:39] ax.service.ax_client: Completed trial 151 with data: {'ROC_AUC': (0.71, 0.02)}.\n",
      "[INFO 11-26 09:50:39] ax.service.ax_client: Generated new trial 152 with parameters {'alpha': 0.03, 'l1_ratio': 0.18, 'tol': 0.01, 'eta0': 4.01, 'loss': 'hinge', 'penalty': 'l1', 'learning_rate': 'constant'}.\n",
      "[INFO 11-26 09:50:59] ax.service.ax_client: Completed trial 152 with data: {'ROC_AUC': (0.79, 0.0)}.\n",
      "[INFO 11-26 09:51:00] ax.service.ax_client: Generated new trial 153 with parameters {'alpha': 0.1, 'l1_ratio': 0.38, 'tol': 0.07, 'eta0': 0.16, 'loss': 'log', 'penalty': 'l1', 'learning_rate': 'constant'}.\n",
      "[INFO 11-26 09:51:21] ax.service.ax_client: Completed trial 153 with data: {'ROC_AUC': (0.5, 0.0)}.\n",
      "[INFO 11-26 09:51:22] ax.service.ax_client: Generated new trial 154 with parameters {'alpha': 0.02, 'l1_ratio': 0.53, 'tol': 0.03, 'eta0': 8.31, 'loss': 'modified_huber', 'penalty': 'l2', 'learning_rate': 'adaptive'}.\n",
      "[INFO 11-26 09:52:35] ax.service.ax_client: Completed trial 154 with data: {'ROC_AUC': (0.81, 0.0)}.\n",
      "[INFO 11-26 09:52:36] ax.service.ax_client: Generated new trial 155 with parameters {'alpha': 0.06, 'l1_ratio': 0.28, 'tol': 0.06, 'eta0': 5.8, 'loss': 'log', 'penalty': 'elasticnet', 'learning_rate': 'constant'}.\n",
      "[INFO 11-26 09:52:58] ax.service.ax_client: Completed trial 155 with data: {'ROC_AUC': (0.71, 0.05)}.\n",
      "[INFO 11-26 09:52:59] ax.service.ax_client: Generated new trial 156 with parameters {'alpha': 0.04, 'l1_ratio': 0.67, 'tol': 0.04, 'eta0': 2.63, 'loss': 'hinge', 'penalty': 'l1', 'learning_rate': 'optimal'}.\n",
      "[INFO 11-26 09:53:20] ax.service.ax_client: Completed trial 156 with data: {'ROC_AUC': (0.79, 0.0)}.\n",
      "[INFO 11-26 09:53:21] ax.service.ax_client: Generated new trial 157 with parameters {'alpha': 0.08, 'l1_ratio': 0.88, 'tol': 0.1, 'eta0': 1.5, 'loss': 'squared_hinge', 'penalty': 'l2', 'learning_rate': 'adaptive'}.\n"
     ]
    },
    {
     "name": "stderr",
     "output_type": "stream",
     "text": [
      "[INFO 11-26 09:54:23] ax.service.ax_client: Completed trial 157 with data: {'ROC_AUC': (0.61, 0.0)}.\n",
      "[INFO 11-26 09:54:24] ax.service.ax_client: Generated new trial 158 with parameters {'alpha': 0.01, 'l1_ratio': 0.04, 'tol': 0.0, 'eta0': 9.41, 'loss': 'modified_huber', 'penalty': 'l2', 'learning_rate': 'invscaling'}.\n",
      "[INFO 11-26 09:54:40] ax.service.ax_client: Completed trial 158 with data: {'ROC_AUC': (0.69, 0.01)}.\n",
      "[INFO 11-26 09:54:41] ax.service.ax_client: Generated new trial 159 with parameters {'alpha': 0.08, 'l1_ratio': 0.71, 'tol': 0.04, 'eta0': 9.19, 'loss': 'log', 'penalty': 'elasticnet', 'learning_rate': 'constant'}.\n",
      "[INFO 11-26 09:55:04] ax.service.ax_client: Completed trial 159 with data: {'ROC_AUC': (0.5, 0.0)}.\n",
      "[INFO 11-26 09:55:05] ax.service.ax_client: Generated new trial 160 with parameters {'alpha': 0.01, 'l1_ratio': 0.36, 'tol': 0.06, 'eta0': 2.36, 'loss': 'hinge', 'penalty': 'elasticnet', 'learning_rate': 'invscaling'}.\n",
      "[INFO 11-26 09:55:25] ax.service.ax_client: Completed trial 160 with data: {'ROC_AUC': (0.8, 0.0)}.\n",
      "[INFO 11-26 09:55:26] ax.service.ax_client: Generated new trial 161 with parameters {'alpha': 0.07, 'l1_ratio': 0.07, 'tol': 0.0, 'eta0': 3.5, 'loss': 'perceptron', 'penalty': 'l2', 'learning_rate': 'constant'}.\n",
      "[INFO 11-26 09:55:42] ax.service.ax_client: Completed trial 161 with data: {'ROC_AUC': (0.57, 0.02)}.\n",
      "[INFO 11-26 09:55:43] ax.service.ax_client: Generated new trial 162 with parameters {'alpha': 0.05, 'l1_ratio': 0.98, 'tol': 0.1, 'eta0': 5.56, 'loss': 'modified_huber', 'penalty': 'l1', 'learning_rate': 'optimal'}.\n",
      "[INFO 11-26 09:56:04] ax.service.ax_client: Completed trial 162 with data: {'ROC_AUC': (0.79, 0.0)}.\n",
      "[INFO 11-26 09:56:05] ax.service.ax_client: Generated new trial 163 with parameters {'alpha': 0.1, 'l1_ratio': 0.2, 'tol': 0.02, 'eta0': 8.09, 'loss': 'perceptron', 'penalty': 'l1', 'learning_rate': 'constant'}.\n",
      "[INFO 11-26 09:56:26] ax.service.ax_client: Completed trial 163 with data: {'ROC_AUC': (0.5, 0.0)}.\n",
      "[INFO 11-26 09:56:27] ax.service.ax_client: Generated new trial 164 with parameters {'alpha': 0.02, 'l1_ratio': 0.87, 'tol': 0.09, 'eta0': 1.01, 'loss': 'squared_hinge', 'penalty': 'elasticnet', 'learning_rate': 'invscaling'}.\n",
      "[INFO 11-26 09:56:47] ax.service.ax_client: Completed trial 164 with data: {'ROC_AUC': (0.69, 0.0)}.\n",
      "[INFO 11-26 09:56:48] ax.service.ax_client: Generated new trial 165 with parameters {'alpha': 0.06, 'l1_ratio': 0.57, 'tol': 0.03, 'eta0': 4.88, 'loss': 'perceptron', 'penalty': 'l1', 'learning_rate': 'invscaling'}.\n",
      "[INFO 11-26 09:57:08] ax.service.ax_client: Completed trial 165 with data: {'ROC_AUC': (0.5, 0.0)}.\n",
      "[INFO 11-26 09:57:09] ax.service.ax_client: Generated new trial 166 with parameters {'alpha': 0.03, 'l1_ratio': 0.47, 'tol': 0.07, 'eta0': 6.71, 'loss': 'perceptron', 'penalty': 'l1', 'learning_rate': 'optimal'}.\n",
      "[INFO 11-26 09:57:28] ax.service.ax_client: Completed trial 166 with data: {'ROC_AUC': (0.79, 0.0)}.\n",
      "[INFO 11-26 09:57:29] ax.service.ax_client: Generated new trial 167 with parameters {'alpha': 0.09, 'l1_ratio': 0.66, 'tol': 0.07, 'eta0': 0.6, 'loss': 'modified_huber', 'penalty': 'elasticnet', 'learning_rate': 'invscaling'}.\n",
      "[INFO 11-26 09:57:50] ax.service.ax_client: Completed trial 167 with data: {'ROC_AUC': (0.79, 0.0)}.\n",
      "[INFO 11-26 09:57:51] ax.service.ax_client: Generated new trial 168 with parameters {'alpha': 0.02, 'l1_ratio': 0.26, 'tol': 0.03, 'eta0': 8.46, 'loss': 'hinge', 'penalty': 'l2', 'learning_rate': 'adaptive'}.\n",
      "[INFO 11-26 09:59:05] ax.service.ax_client: Completed trial 168 with data: {'ROC_AUC': (0.79, 0.0)}.\n",
      "[INFO 11-26 09:59:06] ax.service.ax_client: Generated new trial 169 with parameters {'alpha': 0.05, 'l1_ratio': 0.06, 'tol': 0.08, 'eta0': 7.39, 'loss': 'log', 'penalty': 'elasticnet', 'learning_rate': 'adaptive'}.\n",
      "[INFO 11-26 10:01:19] ax.service.ax_client: Completed trial 169 with data: {'ROC_AUC': (0.73, 0.0)}.\n",
      "[INFO 11-26 10:01:19] ax.service.ax_client: Generated new trial 170 with parameters {'alpha': 0.03, 'l1_ratio': 0.9, 'tol': 0.02, 'eta0': 4.16, 'loss': 'perceptron', 'penalty': 'l1', 'learning_rate': 'optimal'}.\n",
      "[INFO 11-26 10:01:39] ax.service.ax_client: Completed trial 170 with data: {'ROC_AUC': (0.79, 0.0)}.\n",
      "[INFO 11-26 10:01:39] ax.service.ax_client: Generated new trial 171 with parameters {'alpha': 0.09, 'l1_ratio': 0.17, 'tol': 0.09, 'eta0': 1.67, 'loss': 'squared_hinge', 'penalty': 'l2', 'learning_rate': 'adaptive'}.\n",
      "[INFO 11-26 10:02:43] ax.service.ax_client: Completed trial 171 with data: {'ROC_AUC': (0.61, 0.0)}.\n",
      "[INFO 11-26 10:02:44] ax.service.ax_client: Generated new trial 172 with parameters {'alpha': 0.01, 'l1_ratio': 0.76, 'tol': 0.01, 'eta0': 9.92, 'loss': 'modified_huber', 'penalty': 'elasticnet', 'learning_rate': 'constant'}.\n",
      "[INFO 11-26 10:03:03] ax.service.ax_client: Completed trial 172 with data: {'ROC_AUC': (0.7, 0.05)}.\n",
      "[INFO 11-26 10:03:04] ax.service.ax_client: Generated new trial 173 with parameters {'alpha': 0.07, 'l1_ratio': 0.55, 'tol': 0.05, 'eta0': 5.97, 'loss': 'hinge', 'penalty': 'l2', 'learning_rate': 'optimal'}.\n",
      "[INFO 11-26 10:03:21] ax.service.ax_client: Completed trial 173 with data: {'ROC_AUC': (0.79, 0.0)}.\n",
      "[INFO 11-26 10:03:21] ax.service.ax_client: Generated new trial 174 with parameters {'alpha': 0.04, 'l1_ratio': 0.4, 'tol': 0.05, 'eta0': 3.13, 'loss': 'perceptron', 'penalty': 'l1', 'learning_rate': 'invscaling'}.\n",
      "[INFO 11-26 10:03:41] ax.service.ax_client: Completed trial 174 with data: {'ROC_AUC': (0.79, 0.0)}.\n",
      "[INFO 11-26 10:03:41] ax.service.ax_client: Generated new trial 175 with parameters {'alpha': 0.05, 'l1_ratio': 0.84, 'tol': 0.01, 'eta0': 2.11, 'loss': 'perceptron', 'penalty': 'elasticnet', 'learning_rate': 'optimal'}.\n",
      "[INFO 11-26 10:04:01] ax.service.ax_client: Completed trial 175 with data: {'ROC_AUC': (0.79, 0.0)}.\n",
      "[INFO 11-26 10:04:01] ax.service.ax_client: Generated new trial 176 with parameters {'alpha': 0.07, 'l1_ratio': 0.24, 'tol': 0.08, 'eta0': 8.86, 'loss': 'modified_huber', 'penalty': 'l2', 'learning_rate': 'invscaling'}.\n",
      "[INFO 11-26 10:04:18] ax.service.ax_client: Completed trial 176 with data: {'ROC_AUC': (0.62, 0.01)}.\n",
      "[INFO 11-26 10:04:18] ax.service.ax_client: Generated new trial 177 with parameters {'alpha': 0.01, 'l1_ratio': 0.44, 'tol': 0.03, 'eta0': 5.31, 'loss': 'log', 'penalty': 'elasticnet', 'learning_rate': 'adaptive'}.\n"
     ]
    },
    {
     "ename": "KeyboardInterrupt",
     "evalue": "",
     "output_type": "error",
     "traceback": [
      "\u001b[1;31m---------------------------------------------------------------------------\u001b[0m",
      "\u001b[1;31mKeyboardInterrupt\u001b[0m                         Traceback (most recent call last)",
      "\u001b[1;32m<ipython-input-454-a6dc0e9d5869>\u001b[0m in \u001b[0;36m<module>\u001b[1;34m\u001b[0m\n\u001b[1;32m----> 1\u001b[1;33m \u001b[0mbo\u001b[0m\u001b[1;33m.\u001b[0m\u001b[0mfit\u001b[0m\u001b[1;33m(\u001b[0m\u001b[1;34m'sgd'\u001b[0m\u001b[1;33m,\u001b[0m \u001b[1;36m200\u001b[0m\u001b[1;33m)\u001b[0m\u001b[1;33m\u001b[0m\u001b[1;33m\u001b[0m\u001b[0m\n\u001b[0m",
      "\u001b[1;32m<ipython-input-445-78ff936e52b3>\u001b[0m in \u001b[0;36mfit\u001b[1;34m(self, method, n_iter)\u001b[0m\n\u001b[0;32m     25\u001b[0m                 \u001b[0mparameters\u001b[0m\u001b[1;33m,\u001b[0m \u001b[0mtrial_index\u001b[0m \u001b[1;33m=\u001b[0m \u001b[0mclient\u001b[0m\u001b[1;33m.\u001b[0m\u001b[0mget_next_trial\u001b[0m\u001b[1;33m(\u001b[0m\u001b[1;33m)\u001b[0m\u001b[1;33m\u001b[0m\u001b[1;33m\u001b[0m\u001b[0m\n\u001b[0;32m     26\u001b[0m                 client.complete_trial(trial_index=trial_index,\n\u001b[1;32m---> 27\u001b[1;33m                                       raw_data=self._func(method, parameters))\n\u001b[0m\u001b[0;32m     28\u001b[0m \u001b[1;33m\u001b[0m\u001b[0m\n\u001b[0;32m     29\u001b[0m \u001b[1;33m\u001b[0m\u001b[0m\n",
      "\u001b[1;32m<ipython-input-445-f66a97552b0b>\u001b[0m in \u001b[0;36m_func\u001b[1;34m(self, method, params)\u001b[0m\n\u001b[0;32m    153\u001b[0m                                       \u001b[0mshuffle\u001b[0m\u001b[1;33m=\u001b[0m\u001b[1;32mTrue\u001b[0m\u001b[1;33m,\u001b[0m\u001b[1;33m\u001b[0m\u001b[1;33m\u001b[0m\u001b[0m\n\u001b[0;32m    154\u001b[0m                                       random_state=13),\n\u001b[1;32m--> 155\u001b[1;33m                              scoring='roc_auc')\n\u001b[0m\u001b[0;32m    156\u001b[0m         \u001b[1;32mreturn\u001b[0m \u001b[1;33m{\u001b[0m\u001b[1;34m'ROC_AUC'\u001b[0m\u001b[1;33m:\u001b[0m \u001b[1;33m(\u001b[0m\u001b[0mnp\u001b[0m\u001b[1;33m.\u001b[0m\u001b[0mmean\u001b[0m\u001b[1;33m(\u001b[0m\u001b[0mcv\u001b[0m\u001b[1;33m)\u001b[0m\u001b[1;33m,\u001b[0m \u001b[0mnp\u001b[0m\u001b[1;33m.\u001b[0m\u001b[0mstd\u001b[0m\u001b[1;33m(\u001b[0m\u001b[0mcv\u001b[0m\u001b[1;33m)\u001b[0m\u001b[1;33m)\u001b[0m\u001b[1;33m}\u001b[0m\u001b[1;33m\u001b[0m\u001b[1;33m\u001b[0m\u001b[0m\n",
      "\u001b[1;32m~\\anaconda3\\lib\\site-packages\\sklearn\\utils\\validation.py\u001b[0m in \u001b[0;36minner_f\u001b[1;34m(*args, **kwargs)\u001b[0m\n\u001b[0;32m     70\u001b[0m                           FutureWarning)\n\u001b[0;32m     71\u001b[0m         \u001b[0mkwargs\u001b[0m\u001b[1;33m.\u001b[0m\u001b[0mupdate\u001b[0m\u001b[1;33m(\u001b[0m\u001b[1;33m{\u001b[0m\u001b[0mk\u001b[0m\u001b[1;33m:\u001b[0m \u001b[0marg\u001b[0m \u001b[1;32mfor\u001b[0m \u001b[0mk\u001b[0m\u001b[1;33m,\u001b[0m \u001b[0marg\u001b[0m \u001b[1;32min\u001b[0m \u001b[0mzip\u001b[0m\u001b[1;33m(\u001b[0m\u001b[0msig\u001b[0m\u001b[1;33m.\u001b[0m\u001b[0mparameters\u001b[0m\u001b[1;33m,\u001b[0m \u001b[0margs\u001b[0m\u001b[1;33m)\u001b[0m\u001b[1;33m}\u001b[0m\u001b[1;33m)\u001b[0m\u001b[1;33m\u001b[0m\u001b[1;33m\u001b[0m\u001b[0m\n\u001b[1;32m---> 72\u001b[1;33m         \u001b[1;32mreturn\u001b[0m \u001b[0mf\u001b[0m\u001b[1;33m(\u001b[0m\u001b[1;33m**\u001b[0m\u001b[0mkwargs\u001b[0m\u001b[1;33m)\u001b[0m\u001b[1;33m\u001b[0m\u001b[1;33m\u001b[0m\u001b[0m\n\u001b[0m\u001b[0;32m     73\u001b[0m     \u001b[1;32mreturn\u001b[0m \u001b[0minner_f\u001b[0m\u001b[1;33m\u001b[0m\u001b[1;33m\u001b[0m\u001b[0m\n\u001b[0;32m     74\u001b[0m \u001b[1;33m\u001b[0m\u001b[0m\n",
      "\u001b[1;32m~\\anaconda3\\lib\\site-packages\\sklearn\\model_selection\\_validation.py\u001b[0m in \u001b[0;36mcross_val_score\u001b[1;34m(estimator, X, y, groups, scoring, cv, n_jobs, verbose, fit_params, pre_dispatch, error_score)\u001b[0m\n\u001b[0;32m    404\u001b[0m                                 \u001b[0mfit_params\u001b[0m\u001b[1;33m=\u001b[0m\u001b[0mfit_params\u001b[0m\u001b[1;33m,\u001b[0m\u001b[1;33m\u001b[0m\u001b[1;33m\u001b[0m\u001b[0m\n\u001b[0;32m    405\u001b[0m                                 \u001b[0mpre_dispatch\u001b[0m\u001b[1;33m=\u001b[0m\u001b[0mpre_dispatch\u001b[0m\u001b[1;33m,\u001b[0m\u001b[1;33m\u001b[0m\u001b[1;33m\u001b[0m\u001b[0m\n\u001b[1;32m--> 406\u001b[1;33m                                 error_score=error_score)\n\u001b[0m\u001b[0;32m    407\u001b[0m     \u001b[1;32mreturn\u001b[0m \u001b[0mcv_results\u001b[0m\u001b[1;33m[\u001b[0m\u001b[1;34m'test_score'\u001b[0m\u001b[1;33m]\u001b[0m\u001b[1;33m\u001b[0m\u001b[1;33m\u001b[0m\u001b[0m\n\u001b[0;32m    408\u001b[0m \u001b[1;33m\u001b[0m\u001b[0m\n",
      "\u001b[1;32m~\\anaconda3\\lib\\site-packages\\sklearn\\utils\\validation.py\u001b[0m in \u001b[0;36minner_f\u001b[1;34m(*args, **kwargs)\u001b[0m\n\u001b[0;32m     70\u001b[0m                           FutureWarning)\n\u001b[0;32m     71\u001b[0m         \u001b[0mkwargs\u001b[0m\u001b[1;33m.\u001b[0m\u001b[0mupdate\u001b[0m\u001b[1;33m(\u001b[0m\u001b[1;33m{\u001b[0m\u001b[0mk\u001b[0m\u001b[1;33m:\u001b[0m \u001b[0marg\u001b[0m \u001b[1;32mfor\u001b[0m \u001b[0mk\u001b[0m\u001b[1;33m,\u001b[0m \u001b[0marg\u001b[0m \u001b[1;32min\u001b[0m \u001b[0mzip\u001b[0m\u001b[1;33m(\u001b[0m\u001b[0msig\u001b[0m\u001b[1;33m.\u001b[0m\u001b[0mparameters\u001b[0m\u001b[1;33m,\u001b[0m \u001b[0margs\u001b[0m\u001b[1;33m)\u001b[0m\u001b[1;33m}\u001b[0m\u001b[1;33m)\u001b[0m\u001b[1;33m\u001b[0m\u001b[1;33m\u001b[0m\u001b[0m\n\u001b[1;32m---> 72\u001b[1;33m         \u001b[1;32mreturn\u001b[0m \u001b[0mf\u001b[0m\u001b[1;33m(\u001b[0m\u001b[1;33m**\u001b[0m\u001b[0mkwargs\u001b[0m\u001b[1;33m)\u001b[0m\u001b[1;33m\u001b[0m\u001b[1;33m\u001b[0m\u001b[0m\n\u001b[0m\u001b[0;32m     73\u001b[0m     \u001b[1;32mreturn\u001b[0m \u001b[0minner_f\u001b[0m\u001b[1;33m\u001b[0m\u001b[1;33m\u001b[0m\u001b[0m\n\u001b[0;32m     74\u001b[0m \u001b[1;33m\u001b[0m\u001b[0m\n",
      "\u001b[1;32m~\\anaconda3\\lib\\site-packages\\sklearn\\model_selection\\_validation.py\u001b[0m in \u001b[0;36mcross_validate\u001b[1;34m(estimator, X, y, groups, scoring, cv, n_jobs, verbose, fit_params, pre_dispatch, return_train_score, return_estimator, error_score)\u001b[0m\n\u001b[0;32m    246\u001b[0m             \u001b[0mreturn_times\u001b[0m\u001b[1;33m=\u001b[0m\u001b[1;32mTrue\u001b[0m\u001b[1;33m,\u001b[0m \u001b[0mreturn_estimator\u001b[0m\u001b[1;33m=\u001b[0m\u001b[0mreturn_estimator\u001b[0m\u001b[1;33m,\u001b[0m\u001b[1;33m\u001b[0m\u001b[1;33m\u001b[0m\u001b[0m\n\u001b[0;32m    247\u001b[0m             error_score=error_score)\n\u001b[1;32m--> 248\u001b[1;33m         for train, test in cv.split(X, y, groups))\n\u001b[0m\u001b[0;32m    249\u001b[0m \u001b[1;33m\u001b[0m\u001b[0m\n\u001b[0;32m    250\u001b[0m     \u001b[0mzipped_scores\u001b[0m \u001b[1;33m=\u001b[0m \u001b[0mlist\u001b[0m\u001b[1;33m(\u001b[0m\u001b[0mzip\u001b[0m\u001b[1;33m(\u001b[0m\u001b[1;33m*\u001b[0m\u001b[0mscores\u001b[0m\u001b[1;33m)\u001b[0m\u001b[1;33m)\u001b[0m\u001b[1;33m\u001b[0m\u001b[1;33m\u001b[0m\u001b[0m\n",
      "\u001b[1;32m~\\anaconda3\\lib\\site-packages\\joblib\\parallel.py\u001b[0m in \u001b[0;36m__call__\u001b[1;34m(self, iterable)\u001b[0m\n\u001b[0;32m   1059\u001b[0m \u001b[1;33m\u001b[0m\u001b[0m\n\u001b[0;32m   1060\u001b[0m             \u001b[1;32mwith\u001b[0m \u001b[0mself\u001b[0m\u001b[1;33m.\u001b[0m\u001b[0m_backend\u001b[0m\u001b[1;33m.\u001b[0m\u001b[0mretrieval_context\u001b[0m\u001b[1;33m(\u001b[0m\u001b[1;33m)\u001b[0m\u001b[1;33m:\u001b[0m\u001b[1;33m\u001b[0m\u001b[1;33m\u001b[0m\u001b[0m\n\u001b[1;32m-> 1061\u001b[1;33m                 \u001b[0mself\u001b[0m\u001b[1;33m.\u001b[0m\u001b[0mretrieve\u001b[0m\u001b[1;33m(\u001b[0m\u001b[1;33m)\u001b[0m\u001b[1;33m\u001b[0m\u001b[1;33m\u001b[0m\u001b[0m\n\u001b[0m\u001b[0;32m   1062\u001b[0m             \u001b[1;31m# Make sure that we get a last message telling us we are done\u001b[0m\u001b[1;33m\u001b[0m\u001b[1;33m\u001b[0m\u001b[1;33m\u001b[0m\u001b[0m\n\u001b[0;32m   1063\u001b[0m             \u001b[0melapsed_time\u001b[0m \u001b[1;33m=\u001b[0m \u001b[0mtime\u001b[0m\u001b[1;33m.\u001b[0m\u001b[0mtime\u001b[0m\u001b[1;33m(\u001b[0m\u001b[1;33m)\u001b[0m \u001b[1;33m-\u001b[0m \u001b[0mself\u001b[0m\u001b[1;33m.\u001b[0m\u001b[0m_start_time\u001b[0m\u001b[1;33m\u001b[0m\u001b[1;33m\u001b[0m\u001b[0m\n",
      "\u001b[1;32m~\\anaconda3\\lib\\site-packages\\joblib\\parallel.py\u001b[0m in \u001b[0;36mretrieve\u001b[1;34m(self)\u001b[0m\n\u001b[0;32m    938\u001b[0m             \u001b[1;32mtry\u001b[0m\u001b[1;33m:\u001b[0m\u001b[1;33m\u001b[0m\u001b[1;33m\u001b[0m\u001b[0m\n\u001b[0;32m    939\u001b[0m                 \u001b[1;32mif\u001b[0m \u001b[0mgetattr\u001b[0m\u001b[1;33m(\u001b[0m\u001b[0mself\u001b[0m\u001b[1;33m.\u001b[0m\u001b[0m_backend\u001b[0m\u001b[1;33m,\u001b[0m \u001b[1;34m'supports_timeout'\u001b[0m\u001b[1;33m,\u001b[0m \u001b[1;32mFalse\u001b[0m\u001b[1;33m)\u001b[0m\u001b[1;33m:\u001b[0m\u001b[1;33m\u001b[0m\u001b[1;33m\u001b[0m\u001b[0m\n\u001b[1;32m--> 940\u001b[1;33m                     \u001b[0mself\u001b[0m\u001b[1;33m.\u001b[0m\u001b[0m_output\u001b[0m\u001b[1;33m.\u001b[0m\u001b[0mextend\u001b[0m\u001b[1;33m(\u001b[0m\u001b[0mjob\u001b[0m\u001b[1;33m.\u001b[0m\u001b[0mget\u001b[0m\u001b[1;33m(\u001b[0m\u001b[0mtimeout\u001b[0m\u001b[1;33m=\u001b[0m\u001b[0mself\u001b[0m\u001b[1;33m.\u001b[0m\u001b[0mtimeout\u001b[0m\u001b[1;33m)\u001b[0m\u001b[1;33m)\u001b[0m\u001b[1;33m\u001b[0m\u001b[1;33m\u001b[0m\u001b[0m\n\u001b[0m\u001b[0;32m    941\u001b[0m                 \u001b[1;32melse\u001b[0m\u001b[1;33m:\u001b[0m\u001b[1;33m\u001b[0m\u001b[1;33m\u001b[0m\u001b[0m\n\u001b[0;32m    942\u001b[0m                     \u001b[0mself\u001b[0m\u001b[1;33m.\u001b[0m\u001b[0m_output\u001b[0m\u001b[1;33m.\u001b[0m\u001b[0mextend\u001b[0m\u001b[1;33m(\u001b[0m\u001b[0mjob\u001b[0m\u001b[1;33m.\u001b[0m\u001b[0mget\u001b[0m\u001b[1;33m(\u001b[0m\u001b[1;33m)\u001b[0m\u001b[1;33m)\u001b[0m\u001b[1;33m\u001b[0m\u001b[1;33m\u001b[0m\u001b[0m\n",
      "\u001b[1;32m~\\anaconda3\\lib\\site-packages\\joblib\\_parallel_backends.py\u001b[0m in \u001b[0;36mwrap_future_result\u001b[1;34m(future, timeout)\u001b[0m\n\u001b[0;32m    540\u001b[0m         AsyncResults.get from multiprocessing.\"\"\"\n\u001b[0;32m    541\u001b[0m         \u001b[1;32mtry\u001b[0m\u001b[1;33m:\u001b[0m\u001b[1;33m\u001b[0m\u001b[1;33m\u001b[0m\u001b[0m\n\u001b[1;32m--> 542\u001b[1;33m             \u001b[1;32mreturn\u001b[0m \u001b[0mfuture\u001b[0m\u001b[1;33m.\u001b[0m\u001b[0mresult\u001b[0m\u001b[1;33m(\u001b[0m\u001b[0mtimeout\u001b[0m\u001b[1;33m=\u001b[0m\u001b[0mtimeout\u001b[0m\u001b[1;33m)\u001b[0m\u001b[1;33m\u001b[0m\u001b[1;33m\u001b[0m\u001b[0m\n\u001b[0m\u001b[0;32m    543\u001b[0m         \u001b[1;32mexcept\u001b[0m \u001b[0mCfTimeoutError\u001b[0m \u001b[1;32mas\u001b[0m \u001b[0me\u001b[0m\u001b[1;33m:\u001b[0m\u001b[1;33m\u001b[0m\u001b[1;33m\u001b[0m\u001b[0m\n\u001b[0;32m    544\u001b[0m             \u001b[1;32mraise\u001b[0m \u001b[0mTimeoutError\u001b[0m \u001b[1;32mfrom\u001b[0m \u001b[0me\u001b[0m\u001b[1;33m\u001b[0m\u001b[1;33m\u001b[0m\u001b[0m\n",
      "\u001b[1;32m~\\anaconda3\\lib\\concurrent\\futures\\_base.py\u001b[0m in \u001b[0;36mresult\u001b[1;34m(self, timeout)\u001b[0m\n\u001b[0;32m    428\u001b[0m                 \u001b[1;32mreturn\u001b[0m \u001b[0mself\u001b[0m\u001b[1;33m.\u001b[0m\u001b[0m__get_result\u001b[0m\u001b[1;33m(\u001b[0m\u001b[1;33m)\u001b[0m\u001b[1;33m\u001b[0m\u001b[1;33m\u001b[0m\u001b[0m\n\u001b[0;32m    429\u001b[0m \u001b[1;33m\u001b[0m\u001b[0m\n\u001b[1;32m--> 430\u001b[1;33m             \u001b[0mself\u001b[0m\u001b[1;33m.\u001b[0m\u001b[0m_condition\u001b[0m\u001b[1;33m.\u001b[0m\u001b[0mwait\u001b[0m\u001b[1;33m(\u001b[0m\u001b[0mtimeout\u001b[0m\u001b[1;33m)\u001b[0m\u001b[1;33m\u001b[0m\u001b[1;33m\u001b[0m\u001b[0m\n\u001b[0m\u001b[0;32m    431\u001b[0m \u001b[1;33m\u001b[0m\u001b[0m\n\u001b[0;32m    432\u001b[0m             \u001b[1;32mif\u001b[0m \u001b[0mself\u001b[0m\u001b[1;33m.\u001b[0m\u001b[0m_state\u001b[0m \u001b[1;32min\u001b[0m \u001b[1;33m[\u001b[0m\u001b[0mCANCELLED\u001b[0m\u001b[1;33m,\u001b[0m \u001b[0mCANCELLED_AND_NOTIFIED\u001b[0m\u001b[1;33m]\u001b[0m\u001b[1;33m:\u001b[0m\u001b[1;33m\u001b[0m\u001b[1;33m\u001b[0m\u001b[0m\n",
      "\u001b[1;32m~\\anaconda3\\lib\\threading.py\u001b[0m in \u001b[0;36mwait\u001b[1;34m(self, timeout)\u001b[0m\n\u001b[0;32m    294\u001b[0m         \u001b[1;32mtry\u001b[0m\u001b[1;33m:\u001b[0m    \u001b[1;31m# restore state no matter what (e.g., KeyboardInterrupt)\u001b[0m\u001b[1;33m\u001b[0m\u001b[1;33m\u001b[0m\u001b[0m\n\u001b[0;32m    295\u001b[0m             \u001b[1;32mif\u001b[0m \u001b[0mtimeout\u001b[0m \u001b[1;32mis\u001b[0m \u001b[1;32mNone\u001b[0m\u001b[1;33m:\u001b[0m\u001b[1;33m\u001b[0m\u001b[1;33m\u001b[0m\u001b[0m\n\u001b[1;32m--> 296\u001b[1;33m                 \u001b[0mwaiter\u001b[0m\u001b[1;33m.\u001b[0m\u001b[0macquire\u001b[0m\u001b[1;33m(\u001b[0m\u001b[1;33m)\u001b[0m\u001b[1;33m\u001b[0m\u001b[1;33m\u001b[0m\u001b[0m\n\u001b[0m\u001b[0;32m    297\u001b[0m                 \u001b[0mgotit\u001b[0m \u001b[1;33m=\u001b[0m \u001b[1;32mTrue\u001b[0m\u001b[1;33m\u001b[0m\u001b[1;33m\u001b[0m\u001b[0m\n\u001b[0;32m    298\u001b[0m             \u001b[1;32melse\u001b[0m\u001b[1;33m:\u001b[0m\u001b[1;33m\u001b[0m\u001b[1;33m\u001b[0m\u001b[0m\n",
      "\u001b[1;31mKeyboardInterrupt\u001b[0m: "
     ]
    }
   ],
   "source": [
    "bo.fit('sgd', 200)"
   ]
  },
  {
   "cell_type": "code",
   "execution_count": null,
   "metadata": {
    "ExecuteTime": {
     "end_time": "2020-11-26T08:06:20.237831Z",
     "start_time": "2020-11-25T21:37:27.653Z"
    }
   },
   "outputs": [],
   "source": [
    "bo.best_estimators_"
   ]
  },
  {
   "cell_type": "code",
   "execution_count": null,
   "metadata": {
    "ExecuteTime": {
     "end_time": "2020-11-26T08:06:20.245810Z",
     "start_time": "2020-11-25T21:37:28.174Z"
    }
   },
   "outputs": [],
   "source": [
    "bo.fit('lsvm', 200)"
   ]
  },
  {
   "cell_type": "code",
   "execution_count": null,
   "metadata": {
    "ExecuteTime": {
     "end_time": "2020-11-26T08:06:20.252792Z",
     "start_time": "2020-11-25T21:37:28.682Z"
    }
   },
   "outputs": [],
   "source": [
    "bo.best_estimators_"
   ]
  },
  {
   "cell_type": "code",
   "execution_count": null,
   "metadata": {
    "ExecuteTime": {
     "end_time": "2020-11-26T08:06:20.260770Z",
     "start_time": "2020-11-25T21:37:29.227Z"
    }
   },
   "outputs": [],
   "source": [
    "bo.fit('perceptron', 200)"
   ]
  },
  {
   "cell_type": "code",
   "execution_count": null,
   "metadata": {
    "ExecuteTime": {
     "end_time": "2020-11-26T08:06:20.267751Z",
     "start_time": "2020-11-25T21:37:30.342Z"
    }
   },
   "outputs": [],
   "source": [
    "bo.best_estimators_"
   ]
  },
  {
   "cell_type": "code",
   "execution_count": 448,
   "metadata": {
    "ExecuteTime": {
     "end_time": "2020-11-25T22:02:08.709135Z",
     "start_time": "2020-11-25T22:00:38.192854Z"
    },
    "cell_style": "split"
   },
   "outputs": [
    {
     "data": {
      "text/html": [
       "\n",
       "    <div>\n",
       "        <style>\n",
       "            /* Turns off some styling */\n",
       "            progress {\n",
       "                /* gets rid of default border in Firefox and Opera. */\n",
       "                border: none;\n",
       "                /* Needs to be in here for Safari polyfill so background images work as expected. */\n",
       "                background-size: auto;\n",
       "            }\n",
       "            .progress-bar-interrupted, .progress-bar-interrupted::-webkit-progress-bar {\n",
       "                background: #F44336;\n",
       "            }\n",
       "        </style>\n",
       "      <progress value='1' class='' max='9', style='width:300px; height:20px; vertical-align: middle;'></progress>\n",
       "      11.11% [1/9 01:05<08:45]\n",
       "    </div>\n",
       "    "
      ],
      "text/plain": [
       "<IPython.core.display.HTML object>"
      ]
     },
     "metadata": {},
     "output_type": "display_data"
    },
    {
     "name": "stdout",
     "output_type": "stream",
     "text": [
      "log validated in 65.66251850128174\n"
     ]
    },
    {
     "data": {
      "text/plain": [
       "log    0.8068\n",
       "Name: val_scores, dtype: float64"
      ]
     },
     "execution_count": 448,
     "metadata": {},
     "output_type": "execute_result"
    }
   ],
   "source": [
    "std = Lin_Clf()\n",
    "std.val(X_standard, y)"
   ]
  },
  {
   "cell_type": "code",
   "execution_count": 449,
   "metadata": {
    "ExecuteTime": {
     "end_time": "2020-11-25T22:13:11.028881Z",
     "start_time": "2020-11-25T22:02:11.452607Z"
    },
    "cell_style": "split"
   },
   "outputs": [
    {
     "data": {
      "text/html": [
       "\n",
       "    <div>\n",
       "        <style>\n",
       "            /* Turns off some styling */\n",
       "            progress {\n",
       "                /* gets rid of default border in Firefox and Opera. */\n",
       "                border: none;\n",
       "                /* Needs to be in here for Safari polyfill so background images work as expected. */\n",
       "                background-size: auto;\n",
       "            }\n",
       "            .progress-bar-interrupted, .progress-bar-interrupted::-webkit-progress-bar {\n",
       "                background: #F44336;\n",
       "            }\n",
       "        </style>\n",
       "      <progress value='9' class='' max='9', style='width:300px; height:20px; vertical-align: middle;'></progress>\n",
       "      100.00% [9/9 10:59<00:00]\n",
       "    </div>\n",
       "    "
      ],
      "text/plain": [
       "<IPython.core.display.HTML object>"
      ]
     },
     "metadata": {},
     "output_type": "display_data"
    },
    {
     "name": "stdout",
     "output_type": "stream",
     "text": [
      "log validated in 67.44165062904358\n",
      "ridge validated in 29.524224519729614\n",
      "dt validated in 60.79762053489685\n",
      "et validated in 16.11095690727234\n",
      "passagr validated in 25.93632197380066\n",
      "lsvm validated in 34.09196972846985\n",
      "svm validated in 83.44764304161072\n",
      "perceptron validated in 22.711088180541992\n",
      "sgd validated in 319.42267394065857\n"
     ]
    },
    {
     "data": {
      "text/plain": [
       "ridge         0.8070\n",
       "lsvm          0.6295\n",
       "dt            0.6271\n",
       "passagr       0.6247\n",
       "sgd           0.5822\n",
       "et            0.5790\n",
       "perceptron    0.5560\n",
       "log           0.5539\n",
       "svm           0.4843\n",
       "Name: val_scores, dtype: float64"
      ]
     },
     "execution_count": 449,
     "metadata": {},
     "output_type": "execute_result"
    }
   ],
   "source": [
    "rob = Lin_Clf()\n",
    "rob.val(X_robust, y)"
   ]
  },
  {
   "cell_type": "code",
   "execution_count": 450,
   "metadata": {
    "ExecuteTime": {
     "end_time": "2020-11-25T22:19:59.632797Z",
     "start_time": "2020-11-25T22:13:13.387473Z"
    }
   },
   "outputs": [
    {
     "data": {
      "text/html": [
       "\n",
       "    <div>\n",
       "        <style>\n",
       "            /* Turns off some styling */\n",
       "            progress {\n",
       "                /* gets rid of default border in Firefox and Opera. */\n",
       "                border: none;\n",
       "                /* Needs to be in here for Safari polyfill so background images work as expected. */\n",
       "                background-size: auto;\n",
       "            }\n",
       "            .progress-bar-interrupted, .progress-bar-interrupted::-webkit-progress-bar {\n",
       "                background: #F44336;\n",
       "            }\n",
       "        </style>\n",
       "      <progress value='9' class='' max='9', style='width:300px; height:20px; vertical-align: middle;'></progress>\n",
       "      100.00% [9/9 06:46<00:00]\n",
       "    </div>\n",
       "    "
      ],
      "text/plain": [
       "<IPython.core.display.HTML object>"
      ]
     },
     "metadata": {},
     "output_type": "display_data"
    },
    {
     "name": "stdout",
     "output_type": "stream",
     "text": [
      "log validated in 63.709728956222534\n",
      "ridge validated in 28.697229385375977\n",
      "dt validated in 59.68072175979614\n",
      "et validated in 17.46940541267395\n",
      "passagr validated in 25.569925546646118\n",
      "lsvm validated in 40.25847840309143\n",
      "svm validated in 85.58344054222107\n",
      "perceptron validated in 23.322450160980225\n",
      "sgd validated in 61.86084222793579\n"
     ]
    },
    {
     "data": {
      "text/plain": [
       "log           0.8081\n",
       "ridge         0.8070\n",
       "sgd           0.8005\n",
       "lsvm          0.7617\n",
       "perceptron    0.7590\n",
       "passagr       0.7485\n",
       "svm           0.6462\n",
       "dt            0.6267\n",
       "et            0.5751\n",
       "Name: val_scores, dtype: float64"
      ]
     },
     "execution_count": 450,
     "metadata": {},
     "output_type": "execute_result"
    }
   ],
   "source": [
    "mm = Lin_Clf()\n",
    "mm.val(X_minmax, y)"
   ]
  },
  {
   "cell_type": "code",
   "execution_count": null,
   "metadata": {},
   "outputs": [],
   "source": []
  },
  {
   "cell_type": "code",
   "execution_count": null,
   "metadata": {},
   "outputs": [],
   "source": []
  },
  {
   "cell_type": "code",
   "execution_count": null,
   "metadata": {},
   "outputs": [],
   "source": []
  },
  {
   "cell_type": "code",
   "execution_count": null,
   "metadata": {},
   "outputs": [],
   "source": []
  },
  {
   "cell_type": "code",
   "execution_count": null,
   "metadata": {},
   "outputs": [],
   "source": []
  },
  {
   "cell_type": "code",
   "execution_count": null,
   "metadata": {},
   "outputs": [],
   "source": []
  },
  {
   "cell_type": "code",
   "execution_count": null,
   "metadata": {},
   "outputs": [],
   "source": []
  },
  {
   "cell_type": "code",
   "execution_count": null,
   "metadata": {},
   "outputs": [],
   "source": []
  },
  {
   "cell_type": "code",
   "execution_count": null,
   "metadata": {},
   "outputs": [],
   "source": []
  },
  {
   "cell_type": "code",
   "execution_count": null,
   "metadata": {},
   "outputs": [],
   "source": []
  },
  {
   "cell_type": "code",
   "execution_count": null,
   "metadata": {},
   "outputs": [],
   "source": []
  },
  {
   "cell_type": "code",
   "execution_count": null,
   "metadata": {},
   "outputs": [],
   "source": []
  },
  {
   "cell_type": "code",
   "execution_count": null,
   "metadata": {},
   "outputs": [],
   "source": []
  },
  {
   "cell_type": "code",
   "execution_count": null,
   "metadata": {},
   "outputs": [],
   "source": []
  },
  {
   "cell_type": "code",
   "execution_count": null,
   "metadata": {},
   "outputs": [],
   "source": []
  },
  {
   "cell_type": "code",
   "execution_count": null,
   "metadata": {},
   "outputs": [],
   "source": []
  },
  {
   "cell_type": "code",
   "execution_count": null,
   "metadata": {},
   "outputs": [],
   "source": []
  },
  {
   "cell_type": "code",
   "execution_count": null,
   "metadata": {},
   "outputs": [],
   "source": []
  },
  {
   "cell_type": "code",
   "execution_count": null,
   "metadata": {},
   "outputs": [],
   "source": []
  },
  {
   "cell_type": "code",
   "execution_count": null,
   "metadata": {},
   "outputs": [],
   "source": []
  },
  {
   "cell_type": "code",
   "execution_count": null,
   "metadata": {},
   "outputs": [],
   "source": []
  }
 ],
 "metadata": {
  "kernelspec": {
   "display_name": "Python 3",
   "language": "python",
   "name": "python3"
  },
  "language_info": {
   "codemirror_mode": {
    "name": "ipython",
    "version": 3
   },
   "file_extension": ".py",
   "mimetype": "text/x-python",
   "name": "python",
   "nbconvert_exporter": "python",
   "pygments_lexer": "ipython3",
   "version": "3.8.5"
  },
  "varInspector": {
   "cols": {
    "lenName": 16,
    "lenType": 16,
    "lenVar": 40
   },
   "kernels_config": {
    "python": {
     "delete_cmd_postfix": "",
     "delete_cmd_prefix": "del ",
     "library": "var_list.py",
     "varRefreshCmd": "print(var_dic_list())"
    },
    "r": {
     "delete_cmd_postfix": ") ",
     "delete_cmd_prefix": "rm(",
     "library": "var_list.r",
     "varRefreshCmd": "cat(var_dic_list()) "
    }
   },
   "types_to_exclude": [
    "module",
    "function",
    "builtin_function_or_method",
    "instance",
    "_Feature"
   ],
   "window_display": false
  }
 },
 "nbformat": 4,
 "nbformat_minor": 4
}
