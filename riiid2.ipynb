{
 "cells": [
  {
   "cell_type": "code",
   "execution_count": 2,
   "metadata": {
    "ExecuteTime": {
     "end_time": "2020-12-28T16:25:25.019127Z",
     "start_time": "2020-12-28T16:25:25.004131Z"
    }
   },
   "outputs": [
    {
     "data": {
      "text/plain": [
       "1"
      ]
     },
     "execution_count": 2,
     "metadata": {},
     "output_type": "execute_result"
    }
   ],
   "source": [
    "F = [0, 1]\n",
    "for i in range(2, 10*n):\n",
    "    F.append(F[-2] + F[-1])\n",
    "for i in range(n, 10*n):\n",
    "    if\n",
    "    \n",
    "return(F[-1])"
   ]
  },
  {
   "cell_type": "code",
   "execution_count": 1,
   "metadata": {
    "ExecuteTime": {
     "end_time": "2020-12-15T09:01:27.119341Z",
     "start_time": "2020-12-15T09:01:26.664497Z"
    }
   },
   "outputs": [],
   "source": [
    "import pandas as pd\n",
    "import numpy as np\n",
    "import gc\n",
    "import pathlib\n",
    "import time"
   ]
  },
  {
   "cell_type": "code",
   "execution_count": 2,
   "metadata": {
    "ExecuteTime": {
     "end_time": "2020-12-15T09:01:30.850324Z",
     "start_time": "2020-12-15T09:01:27.122337Z"
    }
   },
   "outputs": [
    {
     "data": {
      "text/html": [
       "        <script type=\"text/javascript\">\n",
       "        window.PlotlyConfig = {MathJaxConfig: 'local'};\n",
       "        if (window.MathJax) {MathJax.Hub.Config({SVG: {font: \"STIX-Web\"}});}\n",
       "        if (typeof require !== 'undefined') {\n",
       "        require.undef(\"plotly\");\n",
       "        requirejs.config({\n",
       "            paths: {\n",
       "                'plotly': ['https://cdn.plot.ly/plotly-latest.min']\n",
       "            }\n",
       "        });\n",
       "        require(['plotly'], function(Plotly) {\n",
       "            window._Plotly = Plotly;\n",
       "        });\n",
       "        }\n",
       "        </script>\n",
       "        "
      ]
     },
     "metadata": {},
     "output_type": "display_data"
    },
    {
     "data": {
      "text/html": [
       "        <script type=\"text/javascript\">\n",
       "        window.PlotlyConfig = {MathJaxConfig: 'local'};\n",
       "        if (window.MathJax) {MathJax.Hub.Config({SVG: {font: \"STIX-Web\"}});}\n",
       "        if (typeof require !== 'undefined') {\n",
       "        require.undef(\"plotly\");\n",
       "        requirejs.config({\n",
       "            paths: {\n",
       "                'plotly': ['https://cdn.plot.ly/plotly-latest.min']\n",
       "            }\n",
       "        });\n",
       "        require(['plotly'], function(Plotly) {\n",
       "            window._Plotly = Plotly;\n",
       "        });\n",
       "        }\n",
       "        </script>\n",
       "        "
      ]
     },
     "metadata": {},
     "output_type": "display_data"
    }
   ],
   "source": [
    "%run \"S:\\YandexDisk\\code\\tasks\\Tools.ipynb\"\n",
    "%run \"S:\\YandexDisk\\code\\tasks\\EDA.ipynb\"\n",
    "%run \"S:\\YandexDisk\\code\\tasks\\Preparation.ipynb\"\n",
    "%run \"S:\\YandexDisk\\code\\tasks\\Cleaning.ipynb\"\n",
    "%run \"S:\\YandexDisk\\code\\tasks\\Models.ipynb\"\n",
    "%run \"S:\\YandexDisk\\code\\tasks\\Selection.ipynb\""
   ]
  },
  {
   "cell_type": "code",
   "execution_count": 3,
   "metadata": {
    "ExecuteTime": {
     "end_time": "2020-12-15T09:01:30.866330Z",
     "start_time": "2020-12-15T09:01:30.853320Z"
    }
   },
   "outputs": [],
   "source": [
    "# df = pd.read_csv('train.csv', usecols=['user_id', 'content_type_id'],\n",
    "#                 )\n",
    "\n",
    "# user_counts = df.user_id.value_counts(sort=False).to_dict()\n",
    "# l_indexes = df[df.content_type_id == 1].index.to_list()\n",
    "\n",
    "# del df\n",
    "# gc.collect()"
   ]
  },
  {
   "cell_type": "code",
   "execution_count": 4,
   "metadata": {
    "ExecuteTime": {
     "end_time": "2020-12-15T09:01:30.882288Z",
     "start_time": "2020-12-15T09:01:30.870319Z"
    }
   },
   "outputs": [],
   "source": [
    "dtypes = {'timestamp': 'int64',\n",
    "                            'user_id': 'int32',\n",
    "                            'content_id': 'int16',\n",
    "#                             'task_container_id': 'int16',\n",
    "                            'content_type_id': 'int8',\n",
    "                            'answered_correctly': 'int8',\n",
    "                            'prior_question_elapsed_time': 'float64',\n",
    "                            'prior_question_had_explanation': 'float32'\n",
    "                        }"
   ]
  },
  {
   "cell_type": "code",
   "execution_count": 5,
   "metadata": {
    "ExecuteTime": {
     "end_time": "2020-12-15T09:01:31.070119Z",
     "start_time": "2020-12-15T09:01:30.884382Z"
    }
   },
   "outputs": [],
   "source": [
    "stats_train = pd.read_csv('train.csv',\n",
    "                          usecols=[\n",
    "                              'timestamp', 'user_id', 'content_id', 'content_type_id', 'answered_correctly',\n",
    "                              'prior_question_elapsed_time',\n",
    "                              'prior_question_had_explanation'\n",
    "                          ], dtype=dtypes, nrows=100000\n",
    "                         )\n",
    "stats_train = stats_train[stats_train.content_type_id == 0]\n",
    "stats_train.sort_values(['timestamp', 'content_id'], inplace=True)\n",
    "stats_train.drop(columns=['timestamp', 'content_type_id'], inplace=True)"
   ]
  },
  {
   "cell_type": "code",
   "execution_count": 6,
   "metadata": {
    "ExecuteTime": {
     "end_time": "2020-12-15T09:01:31.101312Z",
     "start_time": "2020-12-15T09:01:31.072118Z"
    }
   },
   "outputs": [],
   "source": [
    "raw_questions = pd.read_csv('questions.csv')"
   ]
  },
  {
   "cell_type": "code",
   "execution_count": 7,
   "metadata": {
    "ExecuteTime": {
     "end_time": "2020-12-15T09:01:31.148414Z",
     "start_time": "2020-12-15T09:01:31.104203Z"
    }
   },
   "outputs": [],
   "source": [
    "stats_train = stats_train.merge(raw_questions[['question_id', 'bundle_id']],\n",
    "                                how='left', left_on='content_id', right_on='question_id').drop(columns='question_id')"
   ]
  },
  {
   "cell_type": "code",
   "execution_count": 8,
   "metadata": {
    "ExecuteTime": {
     "end_time": "2020-12-15T09:01:31.227661Z",
     "start_time": "2020-12-15T09:01:31.151411Z"
    }
   },
   "outputs": [],
   "source": [
    "stats_train[['current_question_elapsed_time',\n",
    "       'current_question_had_explanation']] = stats_train[['user_id', 'bundle_id', 'prior_question_elapsed_time',\n",
    "           'prior_question_had_explanation'\n",
    "       ]].groupby(['user_id', 'bundle_id'], sort=False)[['user_id',\n",
    "           'prior_question_elapsed_time', 'prior_question_had_explanation'\n",
    "       ]].tail(1).groupby('user_id', sort=False).shift(-1)\n",
    "\n",
    "stats_train.drop(columns=['prior_question_elapsed_time', 'prior_question_had_explanation', 'bundle_id'], inplace=True)"
   ]
  },
  {
   "cell_type": "code",
   "execution_count": 9,
   "metadata": {
    "ExecuteTime": {
     "end_time": "2020-12-15T09:01:31.274630Z",
     "start_time": "2020-12-15T09:01:31.229663Z"
    }
   },
   "outputs": [],
   "source": [
    "stats_train[['current_question_elapsed_time',\n",
    "       'current_question_had_explanation']] = stats_train[[\n",
    "           'user_id', 'current_question_elapsed_time',\n",
    "           'current_question_had_explanation'\n",
    "       ]].groupby('user_id', sort=False).bfill()\n",
    "\n",
    "stats_train.drop(columns='user_id', inplace=True)"
   ]
  },
  {
   "cell_type": "code",
   "execution_count": 10,
   "metadata": {
    "ExecuteTime": {
     "end_time": "2020-12-15T09:01:31.402076Z",
     "start_time": "2020-12-15T09:01:31.277623Z"
    }
   },
   "outputs": [
    {
     "name": "stderr",
     "output_type": "stream",
     "text": [
      "100%|██████████████████████████████████████████████████████████████████████████████████| 3/3 [00:00<00:00, 1503.69it/s]\n"
     ]
    },
    {
     "name": "stdout",
     "output_type": "stream",
     "text": [
      "Mem. usage decreased to  0.17 Mb (42.9% reduction)\n"
     ]
    },
    {
     "data": {
      "text/plain": [
       "23"
      ]
     },
     "execution_count": 10,
     "metadata": {},
     "output_type": "execute_result"
    }
   ],
   "source": [
    "stats_train = stats_train.groupby('content_id').mean()\n",
    "\n",
    "stats_train.columns = ['q_mean_answer', 'q_mean_time', 'q_mean_explain']\n",
    "\n",
    "reduce_mem_usage(stats_train)\n",
    "\n",
    "gc.collect()"
   ]
  },
  {
   "cell_type": "code",
   "execution_count": 11,
   "metadata": {
    "ExecuteTime": {
     "end_time": "2020-12-15T09:01:31.528118Z",
     "start_time": "2020-12-15T09:01:31.404969Z"
    }
   },
   "outputs": [],
   "source": [
    "raw_train = pd.read_csv('train.csv',\n",
    "                        nrows=100000,\n",
    "                        dtype=dtypes,\n",
    "                        usecols=dtypes.keys())\n",
    "train = raw_train[raw_train.content_type_id == 0]"
   ]
  },
  {
   "cell_type": "code",
   "execution_count": 12,
   "metadata": {
    "ExecuteTime": {
     "end_time": "2020-12-15T09:01:42.207156Z",
     "start_time": "2020-12-15T09:01:31.530072Z"
    }
   },
   "outputs": [],
   "source": [
    "questions = pd.get_dummies(raw_questions.fillna('-1'), columns=['part'],\n",
    "                           dtype='int8')\n",
    "\n",
    "for k in range(188):\n",
    "    questions['tag_'+str(k)] = np.int8(0)\n",
    "    \n",
    "for i in questions.index:\n",
    "    for tag in questions.loc[i, 'tags'].split():\n",
    "        if tag != '-1':\n",
    "            questions.loc[i, 'tag_'+tag] = np.int8(1)\n",
    "questions.drop(columns=['tags', 'bundle_id', 'correct_answer'], inplace=True)"
   ]
  },
  {
   "cell_type": "code",
   "execution_count": 13,
   "metadata": {
    "ExecuteTime": {
     "end_time": "2020-12-15T09:01:42.222703Z",
     "start_time": "2020-12-15T09:01:42.209154Z"
    }
   },
   "outputs": [],
   "source": [
    "part_columns = [column for column in questions.columns if column.startswith('part_')]\n",
    "tag_q_columns = [column for column in questions.columns if column.startswith('tag_')]"
   ]
  },
  {
   "cell_type": "code",
   "execution_count": 14,
   "metadata": {
    "ExecuteTime": {
     "end_time": "2020-12-15T09:01:42.334593Z",
     "start_time": "2020-12-15T09:01:42.226692Z"
    },
    "run_control": {
     "marked": false
    }
   },
   "outputs": [
    {
     "name": "stderr",
     "output_type": "stream",
     "text": [
      "100%|██████████████████████████████████████████████████████████████████████████████| 196/196 [00:00<00:00, 2806.07it/s]\n"
     ]
    },
    {
     "name": "stdout",
     "output_type": "stream",
     "text": [
      "Mem. usage decreased to  2.54 Mb (3.0% reduction)\n"
     ]
    }
   ],
   "source": [
    "reduce_mem_usage(questions)"
   ]
  },
  {
   "cell_type": "code",
   "execution_count": 15,
   "metadata": {
    "ExecuteTime": {
     "end_time": "2020-12-15T09:01:42.523224Z",
     "start_time": "2020-12-15T09:01:42.336529Z"
    }
   },
   "outputs": [],
   "source": [
    "train = train.merge(stats_train, how='left', left_on='content_id', right_index=True).merge(questions, how='left', left_on='content_id', right_on='question_id').drop(columns=['timestamp', 'user_id', 'content_type_id'])"
   ]
  },
  {
   "cell_type": "code",
   "execution_count": 16,
   "metadata": {
    "ExecuteTime": {
     "end_time": "2020-12-15T09:01:42.539274Z",
     "start_time": "2020-12-15T09:01:42.525221Z"
    }
   },
   "outputs": [],
   "source": [
    "train.fillna(0, inplace=True)"
   ]
  },
  {
   "cell_type": "code",
   "execution_count": 17,
   "metadata": {
    "ExecuteTime": {
     "end_time": "2020-12-15T09:01:42.793956Z",
     "start_time": "2020-12-15T09:01:42.542265Z"
    }
   },
   "outputs": [
    {
     "name": "stderr",
     "output_type": "stream",
     "text": [
      "100%|██████████████████████████████████████████████████████████████████████████████| 202/202 [00:00<00:00, 1965.71it/s]\n"
     ]
    },
    {
     "name": "stdout",
     "output_type": "stream",
     "text": [
      "Mem. usage decreased to 20.69 Mb (2.6% reduction)\n"
     ]
    }
   ],
   "source": [
    "y = train.answered_correctly\n",
    "X = train.drop(columns='answered_correctly')\n",
    "gc.collect()\n",
    "reduce_mem_usage(X)"
   ]
  },
  {
   "cell_type": "code",
   "execution_count": 18,
   "metadata": {
    "ExecuteTime": {
     "end_time": "2020-12-15T09:01:43.062129Z",
     "start_time": "2020-12-15T09:01:42.795951Z"
    }
   },
   "outputs": [],
   "source": [
    "scaler = MinMaxScaler()\n",
    "X = scaler.fit_transform(X)"
   ]
  },
  {
   "cell_type": "code",
   "execution_count": null,
   "metadata": {},
   "outputs": [],
   "source": [
    "'lgbm': LGBMClassifier(bagging_fraction=0.7533221689286496, bagging_frec=7,\n",
    "                boosting_type='dart', cross_entropy_lambda=0.426968949676875,\n",
    "                feature_fraction=0.8822665705146429,\n",
    "                learning_rate=0.05710508089711924, min_data_in_leaf=29,\n",
    "                min_sum_hessian_in_leaf=0.04520091887593929, n_estimators=10000,\n",
    "                n_jobs=0, num_leaves=5, random_state=13, rank_xendcg=0,\n",
    "                tree_learner='voting')"
   ]
  },
  {
   "cell_type": "code",
   "execution_count": 19,
   "metadata": {
    "ExecuteTime": {
     "end_time": "2020-12-15T09:01:43.078019Z",
     "start_time": "2020-12-15T09:01:43.064023Z"
    }
   },
   "outputs": [],
   "source": [
    "MM = Lin_Clf({'xgb': XGBClassifier(base_score=None, booster='dart',\n",
    "               colsample_bylevel=0.9856746831496574,\n",
    "               colsample_bynode=0.9725356540133903,\n",
    "               colsample_bytree=0.9699735716014128, eval_metric='auc',\n",
    "               gamma=0.6874288311979624, gpu_id=None, importance_type='gain',\n",
    "               interaction_constraints=None, learning_rate=0.0997832449331652,\n",
    "               max_delta_step=None, max_depth=2,\n",
    "               min_child_weight=1.6072393941586012, missing=None,\n",
    "               monotone_constraints=None, n_estimators=1000, n_jobs=-1,\n",
    "               num_parallel_tree=None, random_state=13,\n",
    "               reg_alpha=7.001722155030981, reg_lambda=2.919373935691308,\n",
    "               scale_pos_weight=0.45830734040341026,\n",
    "               subsample=0.7704873391200728, tree_method='hist',\n",
    "               use_label_encoder=False, validate_parameters=None, verbosity=1),\n",
    " 'lgbm': LGBMClassifier(bagging_fraction=0.7533221689286496, bagging_frec=7,\n",
    "                boosting_type='dart', cross_entropy_lambda=0.426968949676875,\n",
    "                feature_fraction=0.8822665705146429,\n",
    "                learning_rate=0.05710508089711924, min_data_in_leaf=29,\n",
    "                min_sum_hessian_in_leaf=0.04520091887593929, n_estimators=10000,\n",
    "                n_jobs=0, num_leaves=5, random_state=13, rank_xendcg=0,\n",
    "                tree_learner='voting'),\n",
    " 'cat': CatBoostClassifier(grow_policy='Lossguide',\n",
    "                           loss_function='CrossEntropy',\n",
    "                           n_estimators=1000,\n",
    "                          random_state=13,\n",
    "                          early_stopping_rounds=10).set_params(**{'learning_rate': 0.003884865909496643,\n",
    "  'num_leaves': 45,\n",
    "  'l2_leaf_reg': 5.770755376622499,\n",
    "  'min_data_in_leaf': 7,\n",
    "  'colsample_bylevel': 0.44895662503292777,\n",
    "  'od_pval': 0.05386832639403449,\n",
    "  'langevin': True})})"
   ]
  },
  {
   "cell_type": "code",
   "execution_count": 20,
   "metadata": {
    "ExecuteTime": {
     "end_time": "2020-12-15T09:50:16.979899Z",
     "start_time": "2020-12-15T09:01:43.079978Z"
    }
   },
   "outputs": [
    {
     "name": "stderr",
     "output_type": "stream",
     "text": [
      "\r",
      "  0%|                                                                                            | 0/3 [00:00<?, ?it/s]"
     ]
    },
    {
     "name": "stdout",
     "output_type": "stream",
     "text": [
      "xgb validated in 2178.944325685501\n"
     ]
    },
    {
     "name": "stderr",
     "output_type": "stream",
     "text": [
      "\r",
      "Validate xgb:  33%|██████████████████                                    | 1/3 [36:18<1:12:37, 2178.95s/it, score=0.79]"
     ]
    },
    {
     "name": "stdout",
     "output_type": "stream",
     "text": [
      "lgbm validated in 194.59932780265808\n"
     ]
    },
    {
     "name": "stderr",
     "output_type": "stream",
     "text": [
      "\r",
      "Validate lgbm:  67%|████████████████████████████████████                  | 2/3 [39:33<26:23, 1583.65s/it, score=0.792]"
     ]
    },
    {
     "name": "stdout",
     "output_type": "stream",
     "text": [
      "cat validated in 540.3093078136444\n"
     ]
    },
    {
     "name": "stderr",
     "output_type": "stream",
     "text": [
      "Validate cat: 100%|████████████████████████████████████████████████████████| 3/3 [48:33<00:00, 971.29s/it, score=0.791]\n"
     ]
    },
    {
     "data": {
      "text/plain": [
       "lgbm    0.7916\n",
       "cat     0.7912\n",
       "xgb     0.7896\n",
       "Name: val_scores, dtype: float64"
      ]
     },
     "execution_count": 20,
     "metadata": {},
     "output_type": "execute_result"
    }
   ],
   "source": [
    "MM.val(X, y)"
   ]
  },
  {
   "cell_type": "code",
   "execution_count": 20,
   "metadata": {
    "ExecuteTime": {
     "end_time": "2020-12-14T21:58:38.392499Z",
     "start_time": "2020-12-14T21:58:38.362580Z"
    }
   },
   "outputs": [],
   "source": [
    "mm = BO_Clf(X, y)"
   ]
  },
  {
   "cell_type": "code",
   "execution_count": 21,
   "metadata": {
    "ExecuteTime": {
     "end_time": "2020-12-14T23:03:08.085812Z",
     "start_time": "2020-12-14T21:58:38.394494Z"
    }
   },
   "outputs": [
    {
     "name": "stderr",
     "output_type": "stream",
     "text": [
      "[WARNING 12-14 23:58:38] ax.service.ax_client: Random seed set to 13. Note that this setting only affects the Sobol quasi-random generator and BoTorch-powered Bayesian optimization models. For the latter models, setting random seed to the same number for two optimizations will make the generated trials similar, but not exactly the same, and over time the trials will diverge more.\n",
      "[INFO 12-14 23:58:38] ax.modelbridge.dispatch_utils: Using Bayesian Optimization generation strategy: GenerationStrategy(name='Sobol+GPEI', steps=[Sobol for 10 trials, GPEI for subsequent trials]). Iterations after 10 will take longer to generate due to  model-fitting.\n",
      "Optimize xgb: 100%|████████████████████████████████████████████████████| 100/100 [1:04:29<00:00, 38.70s/it, best=0.792]\n"
     ]
    }
   ],
   "source": [
    "mm.fit('xgb', 100)"
   ]
  },
  {
   "cell_type": "code",
   "execution_count": 22,
   "metadata": {
    "ExecuteTime": {
     "end_time": "2020-12-15T01:27:39.930411Z",
     "start_time": "2020-12-14T23:03:08.087807Z"
    }
   },
   "outputs": [
    {
     "name": "stderr",
     "output_type": "stream",
     "text": [
      "[WARNING 12-15 01:03:08] ax.service.ax_client: Random seed set to 13. Note that this setting only affects the Sobol quasi-random generator and BoTorch-powered Bayesian optimization models. For the latter models, setting random seed to the same number for two optimizations will make the generated trials similar, but not exactly the same, and over time the trials will diverge more.\n",
      "[INFO 12-15 01:03:08] ax.modelbridge.dispatch_utils: Using Bayesian Optimization generation strategy: GenerationStrategy(name='Sobol+GPEI', steps=[Sobol for 10 trials, GPEI for subsequent trials]). Iterations after 10 will take longer to generate due to  model-fitting.\n",
      "Optimize lgbm: 100%|███████████████████████████████████████████████████| 100/100 [2:24:31<00:00, 86.72s/it, best=0.792]\n"
     ]
    }
   ],
   "source": [
    "mm.fit('lgbm', 100)"
   ]
  },
  {
   "cell_type": "code",
   "execution_count": 23,
   "metadata": {
    "ExecuteTime": {
     "end_time": "2020-12-15T07:15:07.853521Z",
     "start_time": "2020-12-15T01:27:39.932409Z"
    }
   },
   "outputs": [
    {
     "name": "stderr",
     "output_type": "stream",
     "text": [
      "[WARNING 12-15 03:27:39] ax.service.ax_client: Random seed set to 13. Note that this setting only affects the Sobol quasi-random generator and BoTorch-powered Bayesian optimization models. For the latter models, setting random seed to the same number for two optimizations will make the generated trials similar, but not exactly the same, and over time the trials will diverge more.\n",
      "[INFO 12-15 03:27:39] ax.modelbridge.dispatch_utils: Using Bayesian Optimization generation strategy: GenerationStrategy(name='Sobol+GPEI', steps=[Sobol for 7 trials, GPEI for subsequent trials]). Iterations after 7 will take longer to generate due to  model-fitting.\n",
      "Optimize cat: 100%|███████████████████████████████████████████████████| 100/100 [5:47:27<00:00, 208.48s/it, best=0.791]\n"
     ]
    }
   ],
   "source": [
    "mm.fit('cat', 100)"
   ]
  },
  {
   "cell_type": "code",
   "execution_count": 24,
   "metadata": {
    "ExecuteTime": {
     "end_time": "2020-12-15T08:41:19.939525Z",
     "start_time": "2020-12-15T07:15:07.857352Z"
    }
   },
   "outputs": [
    {
     "name": "stderr",
     "output_type": "stream",
     "text": [
      "Optimize lgbm:  58%|████████████████████████████▉                     | 58/100 [1:26:11<1:02:24, 89.16s/it, best=0.792]\n"
     ]
    },
    {
     "ename": "KeyboardInterrupt",
     "evalue": "",
     "output_type": "error",
     "traceback": [
      "\u001b[1;31m---------------------------------------------------------------------------\u001b[0m",
      "\u001b[1;31mKeyboardInterrupt\u001b[0m                         Traceback (most recent call last)",
      "\u001b[1;32m<ipython-input-24-61b1514b74cf>\u001b[0m in \u001b[0;36m<module>\u001b[1;34m\u001b[0m\n\u001b[1;32m----> 1\u001b[1;33m \u001b[0mmm\u001b[0m\u001b[1;33m.\u001b[0m\u001b[0mfit\u001b[0m\u001b[1;33m(\u001b[0m\u001b[1;34m'lgbm'\u001b[0m\u001b[1;33m,\u001b[0m \u001b[1;36m100\u001b[0m\u001b[1;33m)\u001b[0m\u001b[1;33m\u001b[0m\u001b[1;33m\u001b[0m\u001b[0m\n\u001b[0m",
      "\u001b[1;32m<ipython-input-3-23f01675c8d1>\u001b[0m in \u001b[0;36mfit\u001b[1;34m(self, method, n_iter)\u001b[0m\n\u001b[0;32m     44\u001b[0m                 \u001b[0mparameters\u001b[0m\u001b[1;33m,\u001b[0m \u001b[0mtrial_index\u001b[0m \u001b[1;33m=\u001b[0m \u001b[0mclient\u001b[0m\u001b[1;33m.\u001b[0m\u001b[0mget_next_trial\u001b[0m\u001b[1;33m(\u001b[0m\u001b[1;33m)\u001b[0m\u001b[1;33m\u001b[0m\u001b[1;33m\u001b[0m\u001b[0m\n\u001b[0;32m     45\u001b[0m                 client.complete_trial(trial_index=trial_index,\n\u001b[1;32m---> 46\u001b[1;33m                                       raw_data=self._func(method, parameters))\n\u001b[0m\u001b[0;32m     47\u001b[0m                 pb.set_postfix(\n\u001b[0;32m     48\u001b[0m                     best=client.get_best_parameters()[1][0][self.metric_alias])\n",
      "\u001b[1;32m<ipython-input-3-23f01675c8d1>\u001b[0m in \u001b[0;36m_func\u001b[1;34m(self, method, params)\u001b[0m\n\u001b[0;32m     18\u001b[0m                 **params)\n\u001b[0;32m     19\u001b[0m \u001b[1;33m\u001b[0m\u001b[0m\n\u001b[1;32m---> 20\u001b[1;33m         cv = cross_val_score(estimator,\n\u001b[0m\u001b[0;32m     21\u001b[0m                              \u001b[0mX\u001b[0m\u001b[1;33m=\u001b[0m\u001b[0mself\u001b[0m\u001b[1;33m.\u001b[0m\u001b[0mX\u001b[0m\u001b[1;33m,\u001b[0m\u001b[1;33m\u001b[0m\u001b[1;33m\u001b[0m\u001b[0m\n\u001b[0;32m     22\u001b[0m                              \u001b[0my\u001b[0m\u001b[1;33m=\u001b[0m\u001b[0mself\u001b[0m\u001b[1;33m.\u001b[0m\u001b[0my\u001b[0m\u001b[1;33m,\u001b[0m\u001b[1;33m\u001b[0m\u001b[1;33m\u001b[0m\u001b[0m\n",
      "\u001b[1;32m~\\anaconda3\\lib\\site-packages\\sklearn\\utils\\validation.py\u001b[0m in \u001b[0;36minner_f\u001b[1;34m(*args, **kwargs)\u001b[0m\n\u001b[0;32m     70\u001b[0m                           FutureWarning)\n\u001b[0;32m     71\u001b[0m         \u001b[0mkwargs\u001b[0m\u001b[1;33m.\u001b[0m\u001b[0mupdate\u001b[0m\u001b[1;33m(\u001b[0m\u001b[1;33m{\u001b[0m\u001b[0mk\u001b[0m\u001b[1;33m:\u001b[0m \u001b[0marg\u001b[0m \u001b[1;32mfor\u001b[0m \u001b[0mk\u001b[0m\u001b[1;33m,\u001b[0m \u001b[0marg\u001b[0m \u001b[1;32min\u001b[0m \u001b[0mzip\u001b[0m\u001b[1;33m(\u001b[0m\u001b[0msig\u001b[0m\u001b[1;33m.\u001b[0m\u001b[0mparameters\u001b[0m\u001b[1;33m,\u001b[0m \u001b[0margs\u001b[0m\u001b[1;33m)\u001b[0m\u001b[1;33m}\u001b[0m\u001b[1;33m)\u001b[0m\u001b[1;33m\u001b[0m\u001b[1;33m\u001b[0m\u001b[0m\n\u001b[1;32m---> 72\u001b[1;33m         \u001b[1;32mreturn\u001b[0m \u001b[0mf\u001b[0m\u001b[1;33m(\u001b[0m\u001b[1;33m**\u001b[0m\u001b[0mkwargs\u001b[0m\u001b[1;33m)\u001b[0m\u001b[1;33m\u001b[0m\u001b[1;33m\u001b[0m\u001b[0m\n\u001b[0m\u001b[0;32m     73\u001b[0m     \u001b[1;32mreturn\u001b[0m \u001b[0minner_f\u001b[0m\u001b[1;33m\u001b[0m\u001b[1;33m\u001b[0m\u001b[0m\n\u001b[0;32m     74\u001b[0m \u001b[1;33m\u001b[0m\u001b[0m\n",
      "\u001b[1;32m~\\anaconda3\\lib\\site-packages\\sklearn\\model_selection\\_validation.py\u001b[0m in \u001b[0;36mcross_val_score\u001b[1;34m(estimator, X, y, groups, scoring, cv, n_jobs, verbose, fit_params, pre_dispatch, error_score)\u001b[0m\n\u001b[0;32m    399\u001b[0m     \u001b[0mscorer\u001b[0m \u001b[1;33m=\u001b[0m \u001b[0mcheck_scoring\u001b[0m\u001b[1;33m(\u001b[0m\u001b[0mestimator\u001b[0m\u001b[1;33m,\u001b[0m \u001b[0mscoring\u001b[0m\u001b[1;33m=\u001b[0m\u001b[0mscoring\u001b[0m\u001b[1;33m)\u001b[0m\u001b[1;33m\u001b[0m\u001b[1;33m\u001b[0m\u001b[0m\n\u001b[0;32m    400\u001b[0m \u001b[1;33m\u001b[0m\u001b[0m\n\u001b[1;32m--> 401\u001b[1;33m     cv_results = cross_validate(estimator=estimator, X=X, y=y, groups=groups,\n\u001b[0m\u001b[0;32m    402\u001b[0m                                 \u001b[0mscoring\u001b[0m\u001b[1;33m=\u001b[0m\u001b[1;33m{\u001b[0m\u001b[1;34m'score'\u001b[0m\u001b[1;33m:\u001b[0m \u001b[0mscorer\u001b[0m\u001b[1;33m}\u001b[0m\u001b[1;33m,\u001b[0m \u001b[0mcv\u001b[0m\u001b[1;33m=\u001b[0m\u001b[0mcv\u001b[0m\u001b[1;33m,\u001b[0m\u001b[1;33m\u001b[0m\u001b[1;33m\u001b[0m\u001b[0m\n\u001b[0;32m    403\u001b[0m                                 \u001b[0mn_jobs\u001b[0m\u001b[1;33m=\u001b[0m\u001b[0mn_jobs\u001b[0m\u001b[1;33m,\u001b[0m \u001b[0mverbose\u001b[0m\u001b[1;33m=\u001b[0m\u001b[0mverbose\u001b[0m\u001b[1;33m,\u001b[0m\u001b[1;33m\u001b[0m\u001b[1;33m\u001b[0m\u001b[0m\n",
      "\u001b[1;32m~\\anaconda3\\lib\\site-packages\\sklearn\\utils\\validation.py\u001b[0m in \u001b[0;36minner_f\u001b[1;34m(*args, **kwargs)\u001b[0m\n\u001b[0;32m     70\u001b[0m                           FutureWarning)\n\u001b[0;32m     71\u001b[0m         \u001b[0mkwargs\u001b[0m\u001b[1;33m.\u001b[0m\u001b[0mupdate\u001b[0m\u001b[1;33m(\u001b[0m\u001b[1;33m{\u001b[0m\u001b[0mk\u001b[0m\u001b[1;33m:\u001b[0m \u001b[0marg\u001b[0m \u001b[1;32mfor\u001b[0m \u001b[0mk\u001b[0m\u001b[1;33m,\u001b[0m \u001b[0marg\u001b[0m \u001b[1;32min\u001b[0m \u001b[0mzip\u001b[0m\u001b[1;33m(\u001b[0m\u001b[0msig\u001b[0m\u001b[1;33m.\u001b[0m\u001b[0mparameters\u001b[0m\u001b[1;33m,\u001b[0m \u001b[0margs\u001b[0m\u001b[1;33m)\u001b[0m\u001b[1;33m}\u001b[0m\u001b[1;33m)\u001b[0m\u001b[1;33m\u001b[0m\u001b[1;33m\u001b[0m\u001b[0m\n\u001b[1;32m---> 72\u001b[1;33m         \u001b[1;32mreturn\u001b[0m \u001b[0mf\u001b[0m\u001b[1;33m(\u001b[0m\u001b[1;33m**\u001b[0m\u001b[0mkwargs\u001b[0m\u001b[1;33m)\u001b[0m\u001b[1;33m\u001b[0m\u001b[1;33m\u001b[0m\u001b[0m\n\u001b[0m\u001b[0;32m     73\u001b[0m     \u001b[1;32mreturn\u001b[0m \u001b[0minner_f\u001b[0m\u001b[1;33m\u001b[0m\u001b[1;33m\u001b[0m\u001b[0m\n\u001b[0;32m     74\u001b[0m \u001b[1;33m\u001b[0m\u001b[0m\n",
      "\u001b[1;32m~\\anaconda3\\lib\\site-packages\\sklearn\\model_selection\\_validation.py\u001b[0m in \u001b[0;36mcross_validate\u001b[1;34m(estimator, X, y, groups, scoring, cv, n_jobs, verbose, fit_params, pre_dispatch, return_train_score, return_estimator, error_score)\u001b[0m\n\u001b[0;32m    240\u001b[0m     parallel = Parallel(n_jobs=n_jobs, verbose=verbose,\n\u001b[0;32m    241\u001b[0m                         pre_dispatch=pre_dispatch)\n\u001b[1;32m--> 242\u001b[1;33m     scores = parallel(\n\u001b[0m\u001b[0;32m    243\u001b[0m         delayed(_fit_and_score)(\n\u001b[0;32m    244\u001b[0m             \u001b[0mclone\u001b[0m\u001b[1;33m(\u001b[0m\u001b[0mestimator\u001b[0m\u001b[1;33m)\u001b[0m\u001b[1;33m,\u001b[0m \u001b[0mX\u001b[0m\u001b[1;33m,\u001b[0m \u001b[0my\u001b[0m\u001b[1;33m,\u001b[0m \u001b[0mscorers\u001b[0m\u001b[1;33m,\u001b[0m \u001b[0mtrain\u001b[0m\u001b[1;33m,\u001b[0m \u001b[0mtest\u001b[0m\u001b[1;33m,\u001b[0m \u001b[0mverbose\u001b[0m\u001b[1;33m,\u001b[0m \u001b[1;32mNone\u001b[0m\u001b[1;33m,\u001b[0m\u001b[1;33m\u001b[0m\u001b[1;33m\u001b[0m\u001b[0m\n",
      "\u001b[1;32m~\\anaconda3\\lib\\site-packages\\joblib\\parallel.py\u001b[0m in \u001b[0;36m__call__\u001b[1;34m(self, iterable)\u001b[0m\n\u001b[0;32m   1059\u001b[0m \u001b[1;33m\u001b[0m\u001b[0m\n\u001b[0;32m   1060\u001b[0m             \u001b[1;32mwith\u001b[0m \u001b[0mself\u001b[0m\u001b[1;33m.\u001b[0m\u001b[0m_backend\u001b[0m\u001b[1;33m.\u001b[0m\u001b[0mretrieval_context\u001b[0m\u001b[1;33m(\u001b[0m\u001b[1;33m)\u001b[0m\u001b[1;33m:\u001b[0m\u001b[1;33m\u001b[0m\u001b[1;33m\u001b[0m\u001b[0m\n\u001b[1;32m-> 1061\u001b[1;33m                 \u001b[0mself\u001b[0m\u001b[1;33m.\u001b[0m\u001b[0mretrieve\u001b[0m\u001b[1;33m(\u001b[0m\u001b[1;33m)\u001b[0m\u001b[1;33m\u001b[0m\u001b[1;33m\u001b[0m\u001b[0m\n\u001b[0m\u001b[0;32m   1062\u001b[0m             \u001b[1;31m# Make sure that we get a last message telling us we are done\u001b[0m\u001b[1;33m\u001b[0m\u001b[1;33m\u001b[0m\u001b[1;33m\u001b[0m\u001b[0m\n\u001b[0;32m   1063\u001b[0m             \u001b[0melapsed_time\u001b[0m \u001b[1;33m=\u001b[0m \u001b[0mtime\u001b[0m\u001b[1;33m.\u001b[0m\u001b[0mtime\u001b[0m\u001b[1;33m(\u001b[0m\u001b[1;33m)\u001b[0m \u001b[1;33m-\u001b[0m \u001b[0mself\u001b[0m\u001b[1;33m.\u001b[0m\u001b[0m_start_time\u001b[0m\u001b[1;33m\u001b[0m\u001b[1;33m\u001b[0m\u001b[0m\n",
      "\u001b[1;32m~\\anaconda3\\lib\\site-packages\\joblib\\parallel.py\u001b[0m in \u001b[0;36mretrieve\u001b[1;34m(self)\u001b[0m\n\u001b[0;32m    938\u001b[0m             \u001b[1;32mtry\u001b[0m\u001b[1;33m:\u001b[0m\u001b[1;33m\u001b[0m\u001b[1;33m\u001b[0m\u001b[0m\n\u001b[0;32m    939\u001b[0m                 \u001b[1;32mif\u001b[0m \u001b[0mgetattr\u001b[0m\u001b[1;33m(\u001b[0m\u001b[0mself\u001b[0m\u001b[1;33m.\u001b[0m\u001b[0m_backend\u001b[0m\u001b[1;33m,\u001b[0m \u001b[1;34m'supports_timeout'\u001b[0m\u001b[1;33m,\u001b[0m \u001b[1;32mFalse\u001b[0m\u001b[1;33m)\u001b[0m\u001b[1;33m:\u001b[0m\u001b[1;33m\u001b[0m\u001b[1;33m\u001b[0m\u001b[0m\n\u001b[1;32m--> 940\u001b[1;33m                     \u001b[0mself\u001b[0m\u001b[1;33m.\u001b[0m\u001b[0m_output\u001b[0m\u001b[1;33m.\u001b[0m\u001b[0mextend\u001b[0m\u001b[1;33m(\u001b[0m\u001b[0mjob\u001b[0m\u001b[1;33m.\u001b[0m\u001b[0mget\u001b[0m\u001b[1;33m(\u001b[0m\u001b[0mtimeout\u001b[0m\u001b[1;33m=\u001b[0m\u001b[0mself\u001b[0m\u001b[1;33m.\u001b[0m\u001b[0mtimeout\u001b[0m\u001b[1;33m)\u001b[0m\u001b[1;33m)\u001b[0m\u001b[1;33m\u001b[0m\u001b[1;33m\u001b[0m\u001b[0m\n\u001b[0m\u001b[0;32m    941\u001b[0m                 \u001b[1;32melse\u001b[0m\u001b[1;33m:\u001b[0m\u001b[1;33m\u001b[0m\u001b[1;33m\u001b[0m\u001b[0m\n\u001b[0;32m    942\u001b[0m                     \u001b[0mself\u001b[0m\u001b[1;33m.\u001b[0m\u001b[0m_output\u001b[0m\u001b[1;33m.\u001b[0m\u001b[0mextend\u001b[0m\u001b[1;33m(\u001b[0m\u001b[0mjob\u001b[0m\u001b[1;33m.\u001b[0m\u001b[0mget\u001b[0m\u001b[1;33m(\u001b[0m\u001b[1;33m)\u001b[0m\u001b[1;33m)\u001b[0m\u001b[1;33m\u001b[0m\u001b[1;33m\u001b[0m\u001b[0m\n",
      "\u001b[1;32m~\\anaconda3\\lib\\site-packages\\joblib\\_parallel_backends.py\u001b[0m in \u001b[0;36mwrap_future_result\u001b[1;34m(future, timeout)\u001b[0m\n\u001b[0;32m    540\u001b[0m         AsyncResults.get from multiprocessing.\"\"\"\n\u001b[0;32m    541\u001b[0m         \u001b[1;32mtry\u001b[0m\u001b[1;33m:\u001b[0m\u001b[1;33m\u001b[0m\u001b[1;33m\u001b[0m\u001b[0m\n\u001b[1;32m--> 542\u001b[1;33m             \u001b[1;32mreturn\u001b[0m \u001b[0mfuture\u001b[0m\u001b[1;33m.\u001b[0m\u001b[0mresult\u001b[0m\u001b[1;33m(\u001b[0m\u001b[0mtimeout\u001b[0m\u001b[1;33m=\u001b[0m\u001b[0mtimeout\u001b[0m\u001b[1;33m)\u001b[0m\u001b[1;33m\u001b[0m\u001b[1;33m\u001b[0m\u001b[0m\n\u001b[0m\u001b[0;32m    543\u001b[0m         \u001b[1;32mexcept\u001b[0m \u001b[0mCfTimeoutError\u001b[0m \u001b[1;32mas\u001b[0m \u001b[0me\u001b[0m\u001b[1;33m:\u001b[0m\u001b[1;33m\u001b[0m\u001b[1;33m\u001b[0m\u001b[0m\n\u001b[0;32m    544\u001b[0m             \u001b[1;32mraise\u001b[0m \u001b[0mTimeoutError\u001b[0m \u001b[1;32mfrom\u001b[0m \u001b[0me\u001b[0m\u001b[1;33m\u001b[0m\u001b[1;33m\u001b[0m\u001b[0m\n",
      "\u001b[1;32m~\\anaconda3\\lib\\concurrent\\futures\\_base.py\u001b[0m in \u001b[0;36mresult\u001b[1;34m(self, timeout)\u001b[0m\n\u001b[0;32m    432\u001b[0m                 \u001b[1;32mreturn\u001b[0m \u001b[0mself\u001b[0m\u001b[1;33m.\u001b[0m\u001b[0m__get_result\u001b[0m\u001b[1;33m(\u001b[0m\u001b[1;33m)\u001b[0m\u001b[1;33m\u001b[0m\u001b[1;33m\u001b[0m\u001b[0m\n\u001b[0;32m    433\u001b[0m \u001b[1;33m\u001b[0m\u001b[0m\n\u001b[1;32m--> 434\u001b[1;33m             \u001b[0mself\u001b[0m\u001b[1;33m.\u001b[0m\u001b[0m_condition\u001b[0m\u001b[1;33m.\u001b[0m\u001b[0mwait\u001b[0m\u001b[1;33m(\u001b[0m\u001b[0mtimeout\u001b[0m\u001b[1;33m)\u001b[0m\u001b[1;33m\u001b[0m\u001b[1;33m\u001b[0m\u001b[0m\n\u001b[0m\u001b[0;32m    435\u001b[0m \u001b[1;33m\u001b[0m\u001b[0m\n\u001b[0;32m    436\u001b[0m             \u001b[1;32mif\u001b[0m \u001b[0mself\u001b[0m\u001b[1;33m.\u001b[0m\u001b[0m_state\u001b[0m \u001b[1;32min\u001b[0m \u001b[1;33m[\u001b[0m\u001b[0mCANCELLED\u001b[0m\u001b[1;33m,\u001b[0m \u001b[0mCANCELLED_AND_NOTIFIED\u001b[0m\u001b[1;33m]\u001b[0m\u001b[1;33m:\u001b[0m\u001b[1;33m\u001b[0m\u001b[1;33m\u001b[0m\u001b[0m\n",
      "\u001b[1;32m~\\anaconda3\\lib\\threading.py\u001b[0m in \u001b[0;36mwait\u001b[1;34m(self, timeout)\u001b[0m\n\u001b[0;32m    300\u001b[0m         \u001b[1;32mtry\u001b[0m\u001b[1;33m:\u001b[0m    \u001b[1;31m# restore state no matter what (e.g., KeyboardInterrupt)\u001b[0m\u001b[1;33m\u001b[0m\u001b[1;33m\u001b[0m\u001b[0m\n\u001b[0;32m    301\u001b[0m             \u001b[1;32mif\u001b[0m \u001b[0mtimeout\u001b[0m \u001b[1;32mis\u001b[0m \u001b[1;32mNone\u001b[0m\u001b[1;33m:\u001b[0m\u001b[1;33m\u001b[0m\u001b[1;33m\u001b[0m\u001b[0m\n\u001b[1;32m--> 302\u001b[1;33m                 \u001b[0mwaiter\u001b[0m\u001b[1;33m.\u001b[0m\u001b[0macquire\u001b[0m\u001b[1;33m(\u001b[0m\u001b[1;33m)\u001b[0m\u001b[1;33m\u001b[0m\u001b[1;33m\u001b[0m\u001b[0m\n\u001b[0m\u001b[0;32m    303\u001b[0m                 \u001b[0mgotit\u001b[0m \u001b[1;33m=\u001b[0m \u001b[1;32mTrue\u001b[0m\u001b[1;33m\u001b[0m\u001b[1;33m\u001b[0m\u001b[0m\n\u001b[0;32m    304\u001b[0m             \u001b[1;32melse\u001b[0m\u001b[1;33m:\u001b[0m\u001b[1;33m\u001b[0m\u001b[1;33m\u001b[0m\u001b[0m\n",
      "\u001b[1;31mKeyboardInterrupt\u001b[0m: "
     ]
    }
   ],
   "source": [
    "mm.fit('lgbm', 100)"
   ]
  },
  {
   "cell_type": "code",
   "execution_count": 25,
   "metadata": {
    "ExecuteTime": {
     "end_time": "2020-12-15T08:45:43.004975Z",
     "start_time": "2020-12-15T08:41:19.942479Z"
    }
   },
   "outputs": [
    {
     "name": "stderr",
     "output_type": "stream",
     "text": [
      "Optimize cat:   0%|                                                                            | 0/100 [04:22<?, ?it/s]\n"
     ]
    },
    {
     "ename": "KeyboardInterrupt",
     "evalue": "",
     "output_type": "error",
     "traceback": [
      "\u001b[1;31m---------------------------------------------------------------------------\u001b[0m",
      "\u001b[1;31mKeyboardInterrupt\u001b[0m                         Traceback (most recent call last)",
      "\u001b[1;32m<ipython-input-25-34d583ac82dc>\u001b[0m in \u001b[0;36m<module>\u001b[1;34m\u001b[0m\n\u001b[1;32m----> 1\u001b[1;33m \u001b[0mmm\u001b[0m\u001b[1;33m.\u001b[0m\u001b[0mfit\u001b[0m\u001b[1;33m(\u001b[0m\u001b[1;34m'cat'\u001b[0m\u001b[1;33m,\u001b[0m \u001b[1;36m100\u001b[0m\u001b[1;33m)\u001b[0m\u001b[1;33m\u001b[0m\u001b[1;33m\u001b[0m\u001b[0m\n\u001b[0m",
      "\u001b[1;32m<ipython-input-3-23f01675c8d1>\u001b[0m in \u001b[0;36mfit\u001b[1;34m(self, method, n_iter)\u001b[0m\n\u001b[0;32m     44\u001b[0m                 \u001b[0mparameters\u001b[0m\u001b[1;33m,\u001b[0m \u001b[0mtrial_index\u001b[0m \u001b[1;33m=\u001b[0m \u001b[0mclient\u001b[0m\u001b[1;33m.\u001b[0m\u001b[0mget_next_trial\u001b[0m\u001b[1;33m(\u001b[0m\u001b[1;33m)\u001b[0m\u001b[1;33m\u001b[0m\u001b[1;33m\u001b[0m\u001b[0m\n\u001b[0;32m     45\u001b[0m                 client.complete_trial(trial_index=trial_index,\n\u001b[1;32m---> 46\u001b[1;33m                                       raw_data=self._func(method, parameters))\n\u001b[0m\u001b[0;32m     47\u001b[0m                 pb.set_postfix(\n\u001b[0;32m     48\u001b[0m                     best=client.get_best_parameters()[1][0][self.metric_alias])\n",
      "\u001b[1;32m<ipython-input-3-23f01675c8d1>\u001b[0m in \u001b[0;36m_func\u001b[1;34m(self, method, params)\u001b[0m\n\u001b[0;32m     18\u001b[0m                 **params)\n\u001b[0;32m     19\u001b[0m \u001b[1;33m\u001b[0m\u001b[0m\n\u001b[1;32m---> 20\u001b[1;33m         cv = cross_val_score(estimator,\n\u001b[0m\u001b[0;32m     21\u001b[0m                              \u001b[0mX\u001b[0m\u001b[1;33m=\u001b[0m\u001b[0mself\u001b[0m\u001b[1;33m.\u001b[0m\u001b[0mX\u001b[0m\u001b[1;33m,\u001b[0m\u001b[1;33m\u001b[0m\u001b[1;33m\u001b[0m\u001b[0m\n\u001b[0;32m     22\u001b[0m                              \u001b[0my\u001b[0m\u001b[1;33m=\u001b[0m\u001b[0mself\u001b[0m\u001b[1;33m.\u001b[0m\u001b[0my\u001b[0m\u001b[1;33m,\u001b[0m\u001b[1;33m\u001b[0m\u001b[1;33m\u001b[0m\u001b[0m\n",
      "\u001b[1;32m~\\anaconda3\\lib\\site-packages\\sklearn\\utils\\validation.py\u001b[0m in \u001b[0;36minner_f\u001b[1;34m(*args, **kwargs)\u001b[0m\n\u001b[0;32m     70\u001b[0m                           FutureWarning)\n\u001b[0;32m     71\u001b[0m         \u001b[0mkwargs\u001b[0m\u001b[1;33m.\u001b[0m\u001b[0mupdate\u001b[0m\u001b[1;33m(\u001b[0m\u001b[1;33m{\u001b[0m\u001b[0mk\u001b[0m\u001b[1;33m:\u001b[0m \u001b[0marg\u001b[0m \u001b[1;32mfor\u001b[0m \u001b[0mk\u001b[0m\u001b[1;33m,\u001b[0m \u001b[0marg\u001b[0m \u001b[1;32min\u001b[0m \u001b[0mzip\u001b[0m\u001b[1;33m(\u001b[0m\u001b[0msig\u001b[0m\u001b[1;33m.\u001b[0m\u001b[0mparameters\u001b[0m\u001b[1;33m,\u001b[0m \u001b[0margs\u001b[0m\u001b[1;33m)\u001b[0m\u001b[1;33m}\u001b[0m\u001b[1;33m)\u001b[0m\u001b[1;33m\u001b[0m\u001b[1;33m\u001b[0m\u001b[0m\n\u001b[1;32m---> 72\u001b[1;33m         \u001b[1;32mreturn\u001b[0m \u001b[0mf\u001b[0m\u001b[1;33m(\u001b[0m\u001b[1;33m**\u001b[0m\u001b[0mkwargs\u001b[0m\u001b[1;33m)\u001b[0m\u001b[1;33m\u001b[0m\u001b[1;33m\u001b[0m\u001b[0m\n\u001b[0m\u001b[0;32m     73\u001b[0m     \u001b[1;32mreturn\u001b[0m \u001b[0minner_f\u001b[0m\u001b[1;33m\u001b[0m\u001b[1;33m\u001b[0m\u001b[0m\n\u001b[0;32m     74\u001b[0m \u001b[1;33m\u001b[0m\u001b[0m\n",
      "\u001b[1;32m~\\anaconda3\\lib\\site-packages\\sklearn\\model_selection\\_validation.py\u001b[0m in \u001b[0;36mcross_val_score\u001b[1;34m(estimator, X, y, groups, scoring, cv, n_jobs, verbose, fit_params, pre_dispatch, error_score)\u001b[0m\n\u001b[0;32m    399\u001b[0m     \u001b[0mscorer\u001b[0m \u001b[1;33m=\u001b[0m \u001b[0mcheck_scoring\u001b[0m\u001b[1;33m(\u001b[0m\u001b[0mestimator\u001b[0m\u001b[1;33m,\u001b[0m \u001b[0mscoring\u001b[0m\u001b[1;33m=\u001b[0m\u001b[0mscoring\u001b[0m\u001b[1;33m)\u001b[0m\u001b[1;33m\u001b[0m\u001b[1;33m\u001b[0m\u001b[0m\n\u001b[0;32m    400\u001b[0m \u001b[1;33m\u001b[0m\u001b[0m\n\u001b[1;32m--> 401\u001b[1;33m     cv_results = cross_validate(estimator=estimator, X=X, y=y, groups=groups,\n\u001b[0m\u001b[0;32m    402\u001b[0m                                 \u001b[0mscoring\u001b[0m\u001b[1;33m=\u001b[0m\u001b[1;33m{\u001b[0m\u001b[1;34m'score'\u001b[0m\u001b[1;33m:\u001b[0m \u001b[0mscorer\u001b[0m\u001b[1;33m}\u001b[0m\u001b[1;33m,\u001b[0m \u001b[0mcv\u001b[0m\u001b[1;33m=\u001b[0m\u001b[0mcv\u001b[0m\u001b[1;33m,\u001b[0m\u001b[1;33m\u001b[0m\u001b[1;33m\u001b[0m\u001b[0m\n\u001b[0;32m    403\u001b[0m                                 \u001b[0mn_jobs\u001b[0m\u001b[1;33m=\u001b[0m\u001b[0mn_jobs\u001b[0m\u001b[1;33m,\u001b[0m \u001b[0mverbose\u001b[0m\u001b[1;33m=\u001b[0m\u001b[0mverbose\u001b[0m\u001b[1;33m,\u001b[0m\u001b[1;33m\u001b[0m\u001b[1;33m\u001b[0m\u001b[0m\n",
      "\u001b[1;32m~\\anaconda3\\lib\\site-packages\\sklearn\\utils\\validation.py\u001b[0m in \u001b[0;36minner_f\u001b[1;34m(*args, **kwargs)\u001b[0m\n\u001b[0;32m     70\u001b[0m                           FutureWarning)\n\u001b[0;32m     71\u001b[0m         \u001b[0mkwargs\u001b[0m\u001b[1;33m.\u001b[0m\u001b[0mupdate\u001b[0m\u001b[1;33m(\u001b[0m\u001b[1;33m{\u001b[0m\u001b[0mk\u001b[0m\u001b[1;33m:\u001b[0m \u001b[0marg\u001b[0m \u001b[1;32mfor\u001b[0m \u001b[0mk\u001b[0m\u001b[1;33m,\u001b[0m \u001b[0marg\u001b[0m \u001b[1;32min\u001b[0m \u001b[0mzip\u001b[0m\u001b[1;33m(\u001b[0m\u001b[0msig\u001b[0m\u001b[1;33m.\u001b[0m\u001b[0mparameters\u001b[0m\u001b[1;33m,\u001b[0m \u001b[0margs\u001b[0m\u001b[1;33m)\u001b[0m\u001b[1;33m}\u001b[0m\u001b[1;33m)\u001b[0m\u001b[1;33m\u001b[0m\u001b[1;33m\u001b[0m\u001b[0m\n\u001b[1;32m---> 72\u001b[1;33m         \u001b[1;32mreturn\u001b[0m \u001b[0mf\u001b[0m\u001b[1;33m(\u001b[0m\u001b[1;33m**\u001b[0m\u001b[0mkwargs\u001b[0m\u001b[1;33m)\u001b[0m\u001b[1;33m\u001b[0m\u001b[1;33m\u001b[0m\u001b[0m\n\u001b[0m\u001b[0;32m     73\u001b[0m     \u001b[1;32mreturn\u001b[0m \u001b[0minner_f\u001b[0m\u001b[1;33m\u001b[0m\u001b[1;33m\u001b[0m\u001b[0m\n\u001b[0;32m     74\u001b[0m \u001b[1;33m\u001b[0m\u001b[0m\n",
      "\u001b[1;32m~\\anaconda3\\lib\\site-packages\\sklearn\\model_selection\\_validation.py\u001b[0m in \u001b[0;36mcross_validate\u001b[1;34m(estimator, X, y, groups, scoring, cv, n_jobs, verbose, fit_params, pre_dispatch, return_train_score, return_estimator, error_score)\u001b[0m\n\u001b[0;32m    240\u001b[0m     parallel = Parallel(n_jobs=n_jobs, verbose=verbose,\n\u001b[0;32m    241\u001b[0m                         pre_dispatch=pre_dispatch)\n\u001b[1;32m--> 242\u001b[1;33m     scores = parallel(\n\u001b[0m\u001b[0;32m    243\u001b[0m         delayed(_fit_and_score)(\n\u001b[0;32m    244\u001b[0m             \u001b[0mclone\u001b[0m\u001b[1;33m(\u001b[0m\u001b[0mestimator\u001b[0m\u001b[1;33m)\u001b[0m\u001b[1;33m,\u001b[0m \u001b[0mX\u001b[0m\u001b[1;33m,\u001b[0m \u001b[0my\u001b[0m\u001b[1;33m,\u001b[0m \u001b[0mscorers\u001b[0m\u001b[1;33m,\u001b[0m \u001b[0mtrain\u001b[0m\u001b[1;33m,\u001b[0m \u001b[0mtest\u001b[0m\u001b[1;33m,\u001b[0m \u001b[0mverbose\u001b[0m\u001b[1;33m,\u001b[0m \u001b[1;32mNone\u001b[0m\u001b[1;33m,\u001b[0m\u001b[1;33m\u001b[0m\u001b[1;33m\u001b[0m\u001b[0m\n",
      "\u001b[1;32m~\\anaconda3\\lib\\site-packages\\joblib\\parallel.py\u001b[0m in \u001b[0;36m__call__\u001b[1;34m(self, iterable)\u001b[0m\n\u001b[0;32m   1059\u001b[0m \u001b[1;33m\u001b[0m\u001b[0m\n\u001b[0;32m   1060\u001b[0m             \u001b[1;32mwith\u001b[0m \u001b[0mself\u001b[0m\u001b[1;33m.\u001b[0m\u001b[0m_backend\u001b[0m\u001b[1;33m.\u001b[0m\u001b[0mretrieval_context\u001b[0m\u001b[1;33m(\u001b[0m\u001b[1;33m)\u001b[0m\u001b[1;33m:\u001b[0m\u001b[1;33m\u001b[0m\u001b[1;33m\u001b[0m\u001b[0m\n\u001b[1;32m-> 1061\u001b[1;33m                 \u001b[0mself\u001b[0m\u001b[1;33m.\u001b[0m\u001b[0mretrieve\u001b[0m\u001b[1;33m(\u001b[0m\u001b[1;33m)\u001b[0m\u001b[1;33m\u001b[0m\u001b[1;33m\u001b[0m\u001b[0m\n\u001b[0m\u001b[0;32m   1062\u001b[0m             \u001b[1;31m# Make sure that we get a last message telling us we are done\u001b[0m\u001b[1;33m\u001b[0m\u001b[1;33m\u001b[0m\u001b[1;33m\u001b[0m\u001b[0m\n\u001b[0;32m   1063\u001b[0m             \u001b[0melapsed_time\u001b[0m \u001b[1;33m=\u001b[0m \u001b[0mtime\u001b[0m\u001b[1;33m.\u001b[0m\u001b[0mtime\u001b[0m\u001b[1;33m(\u001b[0m\u001b[1;33m)\u001b[0m \u001b[1;33m-\u001b[0m \u001b[0mself\u001b[0m\u001b[1;33m.\u001b[0m\u001b[0m_start_time\u001b[0m\u001b[1;33m\u001b[0m\u001b[1;33m\u001b[0m\u001b[0m\n",
      "\u001b[1;32m~\\anaconda3\\lib\\site-packages\\joblib\\parallel.py\u001b[0m in \u001b[0;36mretrieve\u001b[1;34m(self)\u001b[0m\n\u001b[0;32m    938\u001b[0m             \u001b[1;32mtry\u001b[0m\u001b[1;33m:\u001b[0m\u001b[1;33m\u001b[0m\u001b[1;33m\u001b[0m\u001b[0m\n\u001b[0;32m    939\u001b[0m                 \u001b[1;32mif\u001b[0m \u001b[0mgetattr\u001b[0m\u001b[1;33m(\u001b[0m\u001b[0mself\u001b[0m\u001b[1;33m.\u001b[0m\u001b[0m_backend\u001b[0m\u001b[1;33m,\u001b[0m \u001b[1;34m'supports_timeout'\u001b[0m\u001b[1;33m,\u001b[0m \u001b[1;32mFalse\u001b[0m\u001b[1;33m)\u001b[0m\u001b[1;33m:\u001b[0m\u001b[1;33m\u001b[0m\u001b[1;33m\u001b[0m\u001b[0m\n\u001b[1;32m--> 940\u001b[1;33m                     \u001b[0mself\u001b[0m\u001b[1;33m.\u001b[0m\u001b[0m_output\u001b[0m\u001b[1;33m.\u001b[0m\u001b[0mextend\u001b[0m\u001b[1;33m(\u001b[0m\u001b[0mjob\u001b[0m\u001b[1;33m.\u001b[0m\u001b[0mget\u001b[0m\u001b[1;33m(\u001b[0m\u001b[0mtimeout\u001b[0m\u001b[1;33m=\u001b[0m\u001b[0mself\u001b[0m\u001b[1;33m.\u001b[0m\u001b[0mtimeout\u001b[0m\u001b[1;33m)\u001b[0m\u001b[1;33m)\u001b[0m\u001b[1;33m\u001b[0m\u001b[1;33m\u001b[0m\u001b[0m\n\u001b[0m\u001b[0;32m    941\u001b[0m                 \u001b[1;32melse\u001b[0m\u001b[1;33m:\u001b[0m\u001b[1;33m\u001b[0m\u001b[1;33m\u001b[0m\u001b[0m\n\u001b[0;32m    942\u001b[0m                     \u001b[0mself\u001b[0m\u001b[1;33m.\u001b[0m\u001b[0m_output\u001b[0m\u001b[1;33m.\u001b[0m\u001b[0mextend\u001b[0m\u001b[1;33m(\u001b[0m\u001b[0mjob\u001b[0m\u001b[1;33m.\u001b[0m\u001b[0mget\u001b[0m\u001b[1;33m(\u001b[0m\u001b[1;33m)\u001b[0m\u001b[1;33m)\u001b[0m\u001b[1;33m\u001b[0m\u001b[1;33m\u001b[0m\u001b[0m\n",
      "\u001b[1;32m~\\anaconda3\\lib\\site-packages\\joblib\\_parallel_backends.py\u001b[0m in \u001b[0;36mwrap_future_result\u001b[1;34m(future, timeout)\u001b[0m\n\u001b[0;32m    540\u001b[0m         AsyncResults.get from multiprocessing.\"\"\"\n\u001b[0;32m    541\u001b[0m         \u001b[1;32mtry\u001b[0m\u001b[1;33m:\u001b[0m\u001b[1;33m\u001b[0m\u001b[1;33m\u001b[0m\u001b[0m\n\u001b[1;32m--> 542\u001b[1;33m             \u001b[1;32mreturn\u001b[0m \u001b[0mfuture\u001b[0m\u001b[1;33m.\u001b[0m\u001b[0mresult\u001b[0m\u001b[1;33m(\u001b[0m\u001b[0mtimeout\u001b[0m\u001b[1;33m=\u001b[0m\u001b[0mtimeout\u001b[0m\u001b[1;33m)\u001b[0m\u001b[1;33m\u001b[0m\u001b[1;33m\u001b[0m\u001b[0m\n\u001b[0m\u001b[0;32m    543\u001b[0m         \u001b[1;32mexcept\u001b[0m \u001b[0mCfTimeoutError\u001b[0m \u001b[1;32mas\u001b[0m \u001b[0me\u001b[0m\u001b[1;33m:\u001b[0m\u001b[1;33m\u001b[0m\u001b[1;33m\u001b[0m\u001b[0m\n\u001b[0;32m    544\u001b[0m             \u001b[1;32mraise\u001b[0m \u001b[0mTimeoutError\u001b[0m \u001b[1;32mfrom\u001b[0m \u001b[0me\u001b[0m\u001b[1;33m\u001b[0m\u001b[1;33m\u001b[0m\u001b[0m\n",
      "\u001b[1;32m~\\anaconda3\\lib\\concurrent\\futures\\_base.py\u001b[0m in \u001b[0;36mresult\u001b[1;34m(self, timeout)\u001b[0m\n\u001b[0;32m    432\u001b[0m                 \u001b[1;32mreturn\u001b[0m \u001b[0mself\u001b[0m\u001b[1;33m.\u001b[0m\u001b[0m__get_result\u001b[0m\u001b[1;33m(\u001b[0m\u001b[1;33m)\u001b[0m\u001b[1;33m\u001b[0m\u001b[1;33m\u001b[0m\u001b[0m\n\u001b[0;32m    433\u001b[0m \u001b[1;33m\u001b[0m\u001b[0m\n\u001b[1;32m--> 434\u001b[1;33m             \u001b[0mself\u001b[0m\u001b[1;33m.\u001b[0m\u001b[0m_condition\u001b[0m\u001b[1;33m.\u001b[0m\u001b[0mwait\u001b[0m\u001b[1;33m(\u001b[0m\u001b[0mtimeout\u001b[0m\u001b[1;33m)\u001b[0m\u001b[1;33m\u001b[0m\u001b[1;33m\u001b[0m\u001b[0m\n\u001b[0m\u001b[0;32m    435\u001b[0m \u001b[1;33m\u001b[0m\u001b[0m\n\u001b[0;32m    436\u001b[0m             \u001b[1;32mif\u001b[0m \u001b[0mself\u001b[0m\u001b[1;33m.\u001b[0m\u001b[0m_state\u001b[0m \u001b[1;32min\u001b[0m \u001b[1;33m[\u001b[0m\u001b[0mCANCELLED\u001b[0m\u001b[1;33m,\u001b[0m \u001b[0mCANCELLED_AND_NOTIFIED\u001b[0m\u001b[1;33m]\u001b[0m\u001b[1;33m:\u001b[0m\u001b[1;33m\u001b[0m\u001b[1;33m\u001b[0m\u001b[0m\n",
      "\u001b[1;32m~\\anaconda3\\lib\\threading.py\u001b[0m in \u001b[0;36mwait\u001b[1;34m(self, timeout)\u001b[0m\n\u001b[0;32m    300\u001b[0m         \u001b[1;32mtry\u001b[0m\u001b[1;33m:\u001b[0m    \u001b[1;31m# restore state no matter what (e.g., KeyboardInterrupt)\u001b[0m\u001b[1;33m\u001b[0m\u001b[1;33m\u001b[0m\u001b[0m\n\u001b[0;32m    301\u001b[0m             \u001b[1;32mif\u001b[0m \u001b[0mtimeout\u001b[0m \u001b[1;32mis\u001b[0m \u001b[1;32mNone\u001b[0m\u001b[1;33m:\u001b[0m\u001b[1;33m\u001b[0m\u001b[1;33m\u001b[0m\u001b[0m\n\u001b[1;32m--> 302\u001b[1;33m                 \u001b[0mwaiter\u001b[0m\u001b[1;33m.\u001b[0m\u001b[0macquire\u001b[0m\u001b[1;33m(\u001b[0m\u001b[1;33m)\u001b[0m\u001b[1;33m\u001b[0m\u001b[1;33m\u001b[0m\u001b[0m\n\u001b[0m\u001b[0;32m    303\u001b[0m                 \u001b[0mgotit\u001b[0m \u001b[1;33m=\u001b[0m \u001b[1;32mTrue\u001b[0m\u001b[1;33m\u001b[0m\u001b[1;33m\u001b[0m\u001b[0m\n\u001b[0;32m    304\u001b[0m             \u001b[1;32melse\u001b[0m\u001b[1;33m:\u001b[0m\u001b[1;33m\u001b[0m\u001b[1;33m\u001b[0m\u001b[0m\n",
      "\u001b[1;31mKeyboardInterrupt\u001b[0m: "
     ]
    }
   ],
   "source": [
    "mm.fit('cat', 100)"
   ]
  },
  {
   "cell_type": "code",
   "execution_count": 26,
   "metadata": {
    "ExecuteTime": {
     "end_time": "2020-12-15T08:45:43.020932Z",
     "start_time": "2020-12-15T08:45:43.008965Z"
    }
   },
   "outputs": [
    {
     "ename": "SyntaxError",
     "evalue": "invalid syntax (<ipython-input-26-c6d10df8f23d>, line 1)",
     "output_type": "error",
     "traceback": [
      "\u001b[1;36m  File \u001b[1;32m\"<ipython-input-26-c6d10df8f23d>\"\u001b[1;36m, line \u001b[1;32m1\u001b[0m\n\u001b[1;33m    sgd      0.7913\u001b[0m\n\u001b[1;37m             ^\u001b[0m\n\u001b[1;31mSyntaxError\u001b[0m\u001b[1;31m:\u001b[0m invalid syntax\n"
     ]
    }
   ],
   "source": [
    "sgd      0.7913\n",
    "lsvm     0.7892\n",
    "log      0.7891\n",
    "svm      0.7626\n",
    "nusvm    0.6850\n",
    "\n",
    "ridge         0.7891\n",
    "et            0.7729\n",
    "rf            0.7724\n",
    "passagr       0.7448\n",
    "perceptron    0.5812"
   ]
  },
  {
   "cell_type": "code",
   "execution_count": 29,
   "metadata": {
    "ExecuteTime": {
     "end_time": "2020-12-15T08:46:12.535940Z",
     "start_time": "2020-12-15T08:46:12.521953Z"
    }
   },
   "outputs": [
    {
     "data": {
      "text/plain": [
       "{'xgb': XGBClassifier(base_score=None, booster='dart',\n",
       "               colsample_bylevel=0.9856746831496574,\n",
       "               colsample_bynode=0.9725356540133903,\n",
       "               colsample_bytree=0.9699735716014128, eval_metric='auc',\n",
       "               gamma=0.6874288311979624, gpu_id=None, importance_type='gain',\n",
       "               interaction_constraints=None, learning_rate=0.0997832449331652,\n",
       "               max_delta_step=None, max_depth=2,\n",
       "               min_child_weight=1.6072393941586012, missing=nan,\n",
       "               monotone_constraints=None, n_estimators=100, n_jobs=-1,\n",
       "               num_parallel_tree=None, random_state=13,\n",
       "               reg_alpha=7.001722155030981, reg_lambda=2.919373935691308,\n",
       "               scale_pos_weight=0.45830734040341026,\n",
       "               subsample=0.7704873391200728, tree_method='hist',\n",
       "               use_label_encoder=False, validate_parameters=None, verbosity=1),\n",
       " 'lgbm': LGBMClassifier(bagging_fraction=0.7533221689286496, bagging_frec=7,\n",
       "                boosting_type='dart', cross_entropy_lambda=0.426968949676875,\n",
       "                feature_fraction=0.8822665705146429,\n",
       "                learning_rate=0.05710508089711924, min_data_in_leaf=29,\n",
       "                min_sum_hessian_in_leaf=0.04520091887593929, n_estimators=1000,\n",
       "                n_jobs=0, num_leaves=5, random_state=13, rank_xendcg=0,\n",
       "                tree_learner='voting'),\n",
       " 'cat': <catboost.core.CatBoostClassifier at 0x22c096eb460>}"
      ]
     },
     "execution_count": 29,
     "metadata": {},
     "output_type": "execute_result"
    }
   ],
   "source": [
    "{'xgb': XGBClassifier(base_score=None, booster='dart',\n",
    "               colsample_bylevel=0.9856746831496574,\n",
    "               colsample_bynode=0.9725356540133903,\n",
    "               colsample_bytree=0.9699735716014128, eval_metric='auc',\n",
    "               gamma=0.6874288311979624, gpu_id=None, importance_type='gain',\n",
    "               interaction_constraints=None, learning_rate=0.0997832449331652,\n",
    "               max_delta_step=None, max_depth=2,\n",
    "               min_child_weight=1.6072393941586012, missing=nan,\n",
    "               monotone_constraints=None, n_estimators=100, n_jobs=-1,\n",
    "               num_parallel_tree=None, random_state=13,\n",
    "               reg_alpha=7.001722155030981, reg_lambda=2.919373935691308,\n",
    "               scale_pos_weight=0.45830734040341026,\n",
    "               subsample=0.7704873391200728, tree_method='hist',\n",
    "               use_label_encoder=False, validate_parameters=None, verbosity=1),\n",
    " 'lgbm': LGBMClassifier(bagging_fraction=0.7533221689286496, bagging_frec=7,\n",
    "                boosting_type='dart', cross_entropy_lambda=0.426968949676875,\n",
    "                feature_fraction=0.8822665705146429,\n",
    "                learning_rate=0.05710508089711924, min_data_in_leaf=29,\n",
    "                min_sum_hessian_in_leaf=0.04520091887593929, n_estimators=1000,\n",
    "                n_jobs=0, num_leaves=5, random_state=13, rank_xendcg=0,\n",
    "                tree_learner='voting'),\n",
    " 'cat': CatBoostClassifier(grow_policy='Lossguide',\n",
    "                           loss_function='CrossEntropy',\n",
    "                           n_estimators=100,\n",
    "                          random_state=13,\n",
    "                          early_stopping_rounds=10).set_paramsa({'learning_rate': 0.003884865909496643,\n",
    "  'num_leaves': 45,\n",
    "  'l2_leaf_reg': 5.770755376622499,\n",
    "  'min_data_in_leaf': 7,\n",
    "  'colsample_bylevel': 0.44895662503292777,\n",
    "  'od_pval': 0.05386832639403449,\n",
    "  'langevin': True})}"
   ]
  },
  {
   "cell_type": "code",
   "execution_count": 27,
   "metadata": {
    "ExecuteTime": {
     "end_time": "2020-12-15T08:45:43.065813Z",
     "start_time": "2020-12-15T08:45:43.024923Z"
    }
   },
   "outputs": [
    {
     "data": {
      "text/plain": [
       "{'log': LogisticRegression(C=1.0738061095180789, class_weight='balanced',\n",
       "                    l1_ratio=0.18128745307453936, n_jobs=-1,\n",
       "                    penalty='elasticnet', random_state=13, solver='saga'),\n",
       " 'lsvm': LinearSVC(C=0.3481775022639455, class_weight='balanced',\n",
       "           intercept_scaling=9.020087640834973, max_iter=100, random_state=13),\n",
       " 'sgd': SGDClassifier(alpha=0.06074084641405568, early_stopping=True,\n",
       "               eta0=1.096972089773044, l1_ratio=0.6736432360485196,\n",
       "               learning_rate='adaptive', n_iter_no_change=10, n_jobs=-1,\n",
       "               penalty='elasticnet', random_state=13),\n",
       " 'svm': SVC(C=2.8982867976098556, class_weight='balanced', coef0=0.04831821843981743,\n",
       "     degree=4, gamma='auto', kernel='poly', max_iter=1000, random_state=13),\n",
       " 'nusvm': NuSVC(class_weight='balanced', coef0=0.13960661925375462, degree=10,\n",
       "       max_iter=1000, nu=0.20077348545193674, random_state=13),\n",
       " 'rf': RandomForestClassifier(class_weight='balanced_subsample', max_depth=23,\n",
       "                        max_features='sqrt', min_samples_leaf=19,\n",
       "                        min_samples_split=10, n_jobs=-1, random_state=13),\n",
       " 'et': ExtraTreesClassifier(bootstrap=True, class_weight='balanced_subsample',\n",
       "                      max_depth=34, max_features='sqrt', min_samples_leaf=20,\n",
       "                      min_samples_split=10, n_jobs=-1, random_state=13),\n",
       " 'perceptron': Perceptron(alpha=0.6632954650755191, early_stopping=True,\n",
       "            eta0=0.20719259265810253, max_iter=100, n_iter_no_change=10,\n",
       "            n_jobs=-1, penalty='elasticnet', random_state=13),\n",
       " 'passagr': PassiveAggressiveClassifier(C=0.14488888735380398, early_stopping=True,\n",
       "                             max_iter=100, n_iter_no_change=10, n_jobs=-1,\n",
       "                             random_state=13),\n",
       " 'ridge': RidgeClassifier(alpha=8.93413134585424, class_weight='balanced', max_iter=100,\n",
       "                 random_state=13, solver='saga')}"
      ]
     },
     "execution_count": 27,
     "metadata": {},
     "output_type": "execute_result"
    }
   ],
   "source": [
    "{'log': LogisticRegression(C=1.0738061095180789, class_weight='balanced',\n",
    "                    l1_ratio=0.18128745307453936, n_jobs=-1,\n",
    "                    penalty='elasticnet', random_state=13, solver='saga'),\n",
    " 'lsvm': LinearSVC(C=0.3481775022639455, class_weight='balanced',\n",
    "           intercept_scaling=9.020087640834973, max_iter=100, random_state=13),\n",
    " 'sgd': SGDClassifier(alpha=0.06074084641405568, early_stopping=True,\n",
    "               eta0=1.096972089773044, l1_ratio=0.6736432360485196,\n",
    "               learning_rate='adaptive', n_iter_no_change=10, n_jobs=-1,\n",
    "               penalty='elasticnet', random_state=13),\n",
    " 'svm': SVC(C=2.8982867976098556, class_weight='balanced', coef0=0.04831821843981743,\n",
    "     degree=4, gamma='auto', kernel='poly', max_iter=1000, random_state=13),\n",
    " 'nusvm': NuSVC(class_weight='balanced', coef0=0.13960661925375462, degree=10,\n",
    "       max_iter=1000, nu=0.20077348545193674, random_state=13),\n",
    " 'rf': RandomForestClassifier(class_weight='balanced_subsample', max_depth=23,\n",
    "                        max_features='sqrt', min_samples_leaf=19,\n",
    "                        min_samples_split=10, n_jobs=-1, random_state=13),\n",
    " 'et': ExtraTreesClassifier(bootstrap=True, class_weight='balanced_subsample',\n",
    "                      max_depth=34, max_features='sqrt', min_samples_leaf=20,\n",
    "                      min_samples_split=10, n_jobs=-1, random_state=13),\n",
    " 'perceptron': Perceptron(alpha=0.6632954650755191, early_stopping=True,\n",
    "            eta0=0.20719259265810253, max_iter=100, n_iter_no_change=10,\n",
    "            n_jobs=-1, penalty='elasticnet', random_state=13),\n",
    " 'passagr': PassiveAggressiveClassifier(C=0.14488888735380398, early_stopping=True,\n",
    "                             max_iter=100, n_iter_no_change=10, n_jobs=-1,\n",
    "                             random_state=13),\n",
    " 'ridge': RidgeClassifier(alpha=8.93413134585424, class_weight='balanced', max_iter=100,\n",
    "                 random_state=13, solver='saga')}"
   ]
  },
  {
   "cell_type": "code",
   "execution_count": 28,
   "metadata": {
    "ExecuteTime": {
     "end_time": "2020-12-15T08:45:43.111689Z",
     "start_time": "2020-12-15T08:45:43.069803Z"
    }
   },
   "outputs": [
    {
     "data": {
      "text/plain": [
       "{'log': {'C': 1.0738061095180789, 'l1_ratio': 0.18128745307453936},\n",
       " 'lsvm': {'C': 0.3481775022639455,\n",
       "  'intercept_scaling': 9.020087640834973,\n",
       "  'penalty': 'l2',\n",
       "  'loss': 'squared_hinge'},\n",
       " 'sgd': {'alpha': 0.06074084641405568,\n",
       "  'l1_ratio': 0.6736432360485196,\n",
       "  'eta0': 1.096972089773044,\n",
       "  'loss': 'hinge',\n",
       "  'learning_rate': 'adaptive'},\n",
       " 'svm': {'C': 2.8982867976098556,\n",
       "  'degree': 4,\n",
       "  'coef0': 0.04831821843981743,\n",
       "  'kernel': 'poly',\n",
       "  'gamma': 'auto'},\n",
       " 'nusvm': {'nu': 0.20077348545193674,\n",
       "  'degree': 10,\n",
       "  'coef0': 0.13960661925375462,\n",
       "  'kernel': 'rbf',\n",
       "  'gamma': 'scale'},\n",
       " 'rf': {'max_depth': 23,\n",
       "  'min_samples_split': 10,\n",
       "  'min_samples_leaf': 19,\n",
       "  'max_features': 'sqrt'},\n",
       " 'et': {'max_depth': 34,\n",
       "  'min_samples_split': 10,\n",
       "  'min_samples_leaf': 20,\n",
       "  'max_features': 'sqrt'},\n",
       " 'perceptron': {'alpha': 0.6632954650755191,\n",
       "  'eta0': 0.20719259265810253,\n",
       "  'penalty': 'elasticnet'},\n",
       " 'passagr': {'C': 0.14488888735380398, 'loss': 'hinge'},\n",
       " 'ridge': {'alpha': 8.93413134585424}}"
      ]
     },
     "execution_count": 28,
     "metadata": {},
     "output_type": "execute_result"
    }
   ],
   "source": [
    "{'log': {'C': 1.0738061095180789, 'l1_ratio': 0.18128745307453936},\n",
    " 'lsvm': {'C': 0.3481775022639455,\n",
    "  'intercept_scaling': 9.020087640834973,\n",
    "  'penalty': 'l2',\n",
    "  'loss': 'squared_hinge'},\n",
    " 'sgd': {'alpha': 0.06074084641405568,\n",
    "  'l1_ratio': 0.6736432360485196,\n",
    "  'eta0': 1.096972089773044,\n",
    "  'loss': 'hinge',\n",
    "  'learning_rate': 'adaptive'},\n",
    " 'svm': {'C': 2.8982867976098556,\n",
    "  'degree': 4,\n",
    "  'coef0': 0.04831821843981743,\n",
    "  'kernel': 'poly',\n",
    "  'gamma': 'auto'},\n",
    " 'nusvm': {'nu': 0.20077348545193674,\n",
    "  'degree': 10,\n",
    "  'coef0': 0.13960661925375462,\n",
    "  'kernel': 'rbf',\n",
    "  'gamma': 'scale'},\n",
    " 'rf': {'max_depth': 23,\n",
    "  'min_samples_split': 10,\n",
    "  'min_samples_leaf': 19,\n",
    "  'max_features': 'sqrt'},\n",
    " 'et': {'max_depth': 34,\n",
    "  'min_samples_split': 10,\n",
    "  'min_samples_leaf': 20,\n",
    "  'max_features': 'sqrt'},\n",
    " 'perceptron': {'alpha': 0.6632954650755191,\n",
    "  'eta0': 0.20719259265810253,\n",
    "  'penalty': 'elasticnet'},\n",
    " 'passagr': {'C': 0.14488888735380398, 'loss': 'hinge'},\n",
    " 'ridge': {'alpha': 8.93413134585424}}"
   ]
  },
  {
   "cell_type": "code",
   "execution_count": null,
   "metadata": {},
   "outputs": [],
   "source": []
  }
 ],
 "metadata": {
  "kernelspec": {
   "display_name": "Python 3",
   "language": "python",
   "name": "python3"
  },
  "language_info": {
   "codemirror_mode": {
    "name": "ipython",
    "version": 3
   },
   "file_extension": ".py",
   "mimetype": "text/x-python",
   "name": "python",
   "nbconvert_exporter": "python",
   "pygments_lexer": "ipython3",
   "version": "3.8.5"
  },
  "varInspector": {
   "cols": {
    "lenName": 16,
    "lenType": 16,
    "lenVar": 40
   },
   "kernels_config": {
    "python": {
     "delete_cmd_postfix": "",
     "delete_cmd_prefix": "del ",
     "library": "var_list.py",
     "varRefreshCmd": "print(var_dic_list())"
    },
    "r": {
     "delete_cmd_postfix": ") ",
     "delete_cmd_prefix": "rm(",
     "library": "var_list.r",
     "varRefreshCmd": "cat(var_dic_list()) "
    }
   },
   "types_to_exclude": [
    "module",
    "function",
    "builtin_function_or_method",
    "instance",
    "_Feature"
   ],
   "window_display": false
  }
 },
 "nbformat": 4,
 "nbformat_minor": 4
}
